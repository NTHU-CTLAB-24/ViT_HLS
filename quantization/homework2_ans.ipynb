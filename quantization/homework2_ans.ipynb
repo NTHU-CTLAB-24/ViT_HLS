{
  "cells": [
    {
      "cell_type": "markdown",
      "metadata": {
        "id": "04a61290"
      },
      "source": [
        "# HW2: Model Inference of the Pretrained LeNet"
      ],
      "id": "04a61290"
    },
    {
      "cell_type": "markdown",
      "metadata": {
        "id": "2a9c9ccd"
      },
      "source": [
        "<font color='red'>Name: 潘勝元 Student ID: 109062116 </font>"
      ],
      "id": "2a9c9ccd"
    },
    {
      "cell_type": "markdown",
      "metadata": {
        "id": "hgOV5ADgHGeO"
      },
      "source": [
        "## 1. Data preparation\n"
      ],
      "id": "hgOV5ADgHGeO"
    },
    {
      "cell_type": "markdown",
      "source": [
        "### Build a QAT network (with our customized configuration) and train."
      ],
      "metadata": {
        "id": "FVxTIHHc6V5I"
      },
      "id": "FVxTIHHc6V5I"
    },
    {
      "cell_type": "code",
      "execution_count": 91,
      "metadata": {
        "id": "-UBDWLzcKFXH",
        "colab": {
          "base_uri": "https://localhost:8080/"
        },
        "outputId": "b093352d-67f3-477d-cd27-fa80ddded34f"
      },
      "outputs": [
        {
          "output_type": "stream",
          "name": "stdout",
          "text": [
            "cpu\n"
          ]
        }
      ],
      "source": [
        "import torch\n",
        "import torchvision\n",
        "import torchvision.transforms as transforms\n",
        "import torch.nn as nn\n",
        "import torch.nn.functional as F\n",
        "import torch.optim as optim\n",
        "from torch.utils.data import DataLoader\n",
        "from collections import OrderedDict\n",
        "import numpy as np\n",
        "import random\n",
        "seed = 0\n",
        "random.seed(seed)\n",
        "np.random.seed(seed)\n",
        "torch.manual_seed(seed)\n",
        "torch.cuda.manual_seed_all(seed)\n",
        "torch.backends.cudnn.deterministic = True\n",
        "torch.backends.cudnn.benchmark = False\n",
        "device = torch.device(\"cuda:0\" if torch.cuda.is_available() else \"cpu\")\n",
        "print(device)"
      ],
      "id": "-UBDWLzcKFXH"
    },
    {
      "cell_type": "code",
      "execution_count": 92,
      "metadata": {
        "id": "CzK6ohj5oNCT"
      },
      "outputs": [],
      "source": [
        "def train(model: nn.Module, dataloader: DataLoader, num_epoch):\n",
        "    \n",
        "    criterion = nn.CrossEntropyLoss()\n",
        "    optimizer = optim.Adam(model.parameters(), lr=0.001)\n",
        "\n",
        "    for epoch in range(num_epoch):  # loop over the dataset multiple times\n",
        "\n",
        "        running_loss = 0.0\n",
        "        for i, data in enumerate(dataloader):\n",
        "            \n",
        "            inputs, labels = data[0].to(device), data[1].to(device)\n",
        "            optimizer.zero_grad()\n",
        "            outputs = model(inputs)\n",
        "            loss = criterion(outputs, labels)\n",
        "            loss = loss.requires_grad_()\n",
        "            loss.backward()\n",
        "            optimizer.step()\n",
        "\n",
        "            # print statistics\n",
        "            running_loss += loss.item()\n",
        "            if i % 50 == 49:    # print every 2000 mini-batches\n",
        "                print('[%d, %5d] loss: %.3f' %\n",
        "                    (epoch + 1, i + 1, running_loss / 2000))\n",
        "                running_loss = 0.0\n",
        "        print(test(model, testloader, None))\n",
        "    print('Finished Training')\n",
        "    \n",
        "def test(model: nn.Module, dataloader: DataLoader, max_samples=None) -> float:\n",
        "    correct = 0\n",
        "    total = 0\n",
        "    n_inferences = 0\n",
        "\n",
        "    with torch.no_grad():\n",
        "        for data in dataloader:\n",
        "            \n",
        "            inputs, labels = data[0].to(device), data[1].to(device)\n",
        "\n",
        "            outputs = model(inputs)\n",
        "            _, predicted = torch.max(outputs.data, 1)\n",
        "            total += labels.size(0)\n",
        "            correct += (predicted == labels).sum().item()\n",
        "\n",
        "            if max_samples:\n",
        "                n_inferences += inputs.shape[0]\n",
        "                if n_inferences > max_samples:\n",
        "                    break\n",
        "    \n",
        "    return 100 * correct / total\n",
        "\n"
      ],
      "id": "CzK6ohj5oNCT"
    },
    {
      "cell_type": "code",
      "execution_count": 93,
      "metadata": {
        "id": "edyil7YyfBHS"
      },
      "outputs": [],
      "source": [
        "class LeNet5QAT(nn.Module):\n",
        "    def __init__(self):\n",
        "        super(LeNet5QAT, self).__init__()\n",
        "        self.conv1 = nn.Sequential(OrderedDict([\n",
        "            ('conv', nn.Conv2d(1, 6, 5, bias=False)),\n",
        "            ('relu', nn.ReLU()),\n",
        "        ]))\n",
        "        \n",
        "        self.maxpool2 = nn.Sequential(OrderedDict([\n",
        "            ('pool', nn.MaxPool2d(kernel_size=(2, 2), stride=2))\n",
        "        ]))\n",
        "        \n",
        "        self.conv3 = nn.Sequential(OrderedDict([\n",
        "            ('conv', nn.Conv2d(6, 16, 5, bias=False)),\n",
        "            ('relu', nn.ReLU())\n",
        "        ]))\n",
        "        \n",
        "        self.maxpool4 = nn.Sequential(OrderedDict([\n",
        "            ('pool', nn.MaxPool2d(kernel_size=(2, 2), stride=2))\n",
        "        ]))\n",
        "        \n",
        "        self.conv5 = nn.Sequential(OrderedDict([\n",
        "            ('conv', nn.Conv2d(16, 120, 5, bias=False)),\n",
        "            ('relu', nn.ReLU())\n",
        "        ]))\n",
        "        \n",
        "        self.fc6 = nn.Sequential(OrderedDict([\n",
        "            ('fc', nn.Linear(120, 84, bias=False)),\n",
        "            ('relu', nn.ReLU())\n",
        "        ]))\n",
        "        \n",
        "        self.output = nn.Sequential(OrderedDict([\n",
        "            ('fc', nn.Linear(84, 10, bias=True)),\n",
        "        ]))\n",
        "        \n",
        "        self.quant = quant.QuantStub()\n",
        "        self.dequant = quant.DeQuantStub()\n",
        "        \n",
        "        \n",
        "    def forward(self, x):\n",
        "        x = self.quant(x)\n",
        "        x = self.conv1(x)\n",
        "        x = self.maxpool2(x)\n",
        "        x = self.conv3(x)\n",
        "        x = self.maxpool4(x)\n",
        "        x = self.conv5(x)\n",
        "        x = torch.flatten(x, 1)\n",
        "        x = self.fc6(x)\n",
        "        x = self.output(x)\n",
        "        x = self.dequant(x)\n",
        "        \n",
        "        return x\n"
      ],
      "id": "edyil7YyfBHS"
    },
    {
      "cell_type": "code",
      "execution_count": 94,
      "metadata": {
        "id": "YaWiXKyWlH2-"
      },
      "outputs": [],
      "source": [
        "qcfg = torch.quantization.get_default_qat_qconfig('qnnpack')\n",
        "qact = torch.quantization.FakeQuantize.with_args(observer=torch.quantization.MovingAverageMinMaxObserver,\n",
        "                             quant_min=-128, quant_max=127, dtype=torch.qint8,\n",
        "                             qscheme=torch.per_tensor_symmetric, reduce_range=False)\n",
        "qcfg = torch.quantization.QConfig(activation=qact, weight=qcfg.weight)"
      ],
      "id": "YaWiXKyWlH2-"
    },
    {
      "cell_type": "code",
      "execution_count": 95,
      "metadata": {
        "id": "xvIGP5YNiDA0"
      },
      "outputs": [],
      "source": [
        "def seed_worker(worker_id):\n",
        "    worker_seed = torch.initial_seed() % 2**32\n",
        "    np.random.seed(worker_seed)\n",
        "    random.seed(worker_seed)\n",
        "\n",
        "g = torch.Generator()\n",
        "g.manual_seed(0)\n",
        "\n",
        "transform = transforms.Compose(\n",
        "    [\n",
        "     transforms.Resize((32, 32)),\n",
        "     transforms.ToTensor(),\n",
        "     transforms.Normalize((0.5,), (0.5,))\n",
        "    ])\n",
        "\n",
        "trainset = torchvision.datasets.MNIST(root='./data', train=True, download=True, transform=transform)\n",
        "trainloader = torch.utils.data.DataLoader(trainset, batch_size=4, shuffle=True, num_workers=2, worker_init_fn=seed_worker, generator=g,)\n",
        "\n",
        "testset = torchvision.datasets.MNIST(root='./data', train=False, download=True, transform=transform)\n",
        "testloader = torch.utils.data.DataLoader(testset, batch_size=8, shuffle=False, num_workers=2, worker_init_fn=seed_worker, generator=g,)"
      ],
      "id": "xvIGP5YNiDA0"
    },
    {
      "cell_type": "markdown",
      "source": [
        "* You should comment out `train(model, trainloader, 1)` and uncomment `model.load_state_dict(torch.load('qat_prepare.pt'))` before submitting your homework.\n",
        "    * Also, reloading the model from `qat_prepare.pt` can save your time if there is something wrong and you need to restart and run all."
      ],
      "metadata": {
        "id": "wPY1BNZzZ6or"
      },
      "id": "wPY1BNZzZ6or"
    },
    {
      "cell_type": "code",
      "execution_count": 96,
      "metadata": {
        "id": "1k1P3SAifHPV",
        "colab": {
          "base_uri": "https://localhost:8080/"
        },
        "outputId": "f0271953-a656-49df-ab7c-87ad389a93b1"
      },
      "outputs": [
        {
          "output_type": "stream",
          "name": "stdout",
          "text": [
            "Accuracy of the quantized LeNet-5 model on the test images: 98.31%\n"
          ]
        }
      ],
      "source": [
        "import torch.quantization as quant\n",
        "\n",
        "# define the model\n",
        "model = LeNet5QAT().to(device)\n",
        "\n",
        "# define the loss function and optimizer\n",
        "criterion = nn.CrossEntropyLoss()\n",
        "optimizer = optim.Adam(model.parameters(), lr=0.001)\n",
        "\n",
        "# prepare the model for QAT\n",
        "model.train()\n",
        "torch.backends.quantized.engine = 'qnnpack'\n",
        "model.qconfig = qcfg\n",
        "torch.quantization.prepare_qat(model, inplace=True)\n",
        "\n",
        "model.load_state_dict(torch.load('qat_prepare.pt'))\n",
        "#train(model, trainloader, 1)\n",
        "torch.save(model.state_dict(), 'qat_prepare.pt')\n",
        "\n",
        "# convert the model to a quantized model\n",
        "torch.quantization.convert(model, inplace=True)\n",
        "\n",
        "# evaluate the model on the test set\n",
        "model.eval()\n",
        "\n",
        "\n",
        "device=torch.device('cpu')\n",
        "score = test(model, testloader)\n",
        "print('Accuracy of the quantized LeNet-5 model on the test images: {}%'.format(score))"
      ],
      "id": "1k1P3SAifHPV"
    },
    {
      "cell_type": "markdown",
      "source": [
        "### Extract weight, floating-point bias and floating-point scale of activations and weights of every layer."
      ],
      "metadata": {
        "id": "dUH4mYi552tW"
      },
      "id": "dUH4mYi552tW"
    },
    {
      "cell_type": "code",
      "execution_count": 97,
      "metadata": {
        "id": "WSIdYFyZshFj"
      },
      "outputs": [],
      "source": [
        "import os \n",
        "import zipfile\n",
        "# It is easier to download all the files with zip\n",
        "zf = zipfile.ZipFile('parameters.zip', 'w', zipfile.ZIP_DEFLATED)"
      ],
      "id": "WSIdYFyZshFj"
    },
    {
      "cell_type": "code",
      "execution_count": 98,
      "metadata": {
        "id": "27MD_hJUzlnf"
      },
      "outputs": [],
      "source": [
        "if not os.path.exists('./weights'):\n",
        "    os.mkdir('./weights')\n",
        "if not os.path.exists('./float_scale'):\n",
        "    os.mkdir('./float_scale')\n",
        "    \n",
        "for name, weights in model.state_dict().items():\n",
        "    name_split = name.split('.')\n",
        "    if(weights!= None):\n",
        "      if(name_split[-2] != \"_packed_params\"):\n",
        "        if(weights.type()== \"torch.quantized.QInt8Tensor\" or weights.type()== \"torch.quantized.QUInt8Tensor\"):\n",
        "          np.savetxt('./weights/%s.csv' %(name) , weights.cpu().int_repr().numpy().reshape(-1).astype(float), delimiter=',')\n",
        "          zf.write('./weights/%s.csv' %(name))\n",
        "\n",
        "          np.savetxt('./float_scale/%s.scale.csv' %(name) , np.array([weights.q_scale()]), delimiter=',')\n",
        "\n",
        "          np.savetxt('./float_scale/%s.zero_point.csv' %(name) , np.array([weights.q_scale()]), delimiter=',')\n",
        "        else:\n",
        "          np.savetxt('./float_scale/%s.csv' %(name) , weights.cpu().numpy().reshape(-1).astype(float), delimiter=',')\n",
        "\n",
        "      elif(name_split[-1] == \"_packed_params\"):\n",
        "        if not os.path.exists('./weights/_packed_params'):\n",
        "          os.mkdir('./weights/_packed_params')\n",
        "        name = name_split[0]+\".\"+name_split[1]\n",
        "        weight, bias = weights\n",
        "        if(weight.type()== \"torch.quantized.QInt8Tensor\" or weight.type()== \"torch.quantized.QUInt8Tensor\"):\n",
        "          np.savetxt('./weights/%s.weight.csv' %(name)  , weight.cpu().int_repr().numpy().reshape(-1).astype(float), delimiter=',')\n",
        "          zf.write('./weights/%s.weight.csv' %(name))\n",
        "\n",
        "          np.savetxt('./float_scale/%s.weight.scale.csv' %(name) , np.array([weight.q_scale()]), delimiter=',')\n",
        "\n",
        "          np.savetxt('./float_scale/%s.weight.zero_point.csv' %(name) , np.array([weight.q_zero_point()]), delimiter=',')\n",
        "        \n",
        "        if(bias != None):\n",
        "          \n",
        "          if(bias.type()== \"torch.quantized.QInt8Tensor\" or bias.type()== \"torch.quantized.QUInt8Tensor\"):\n",
        "            np.savetxt('./float_scale/%s.bias.csv' %(name) , bias.cpu().int_repr().numpy().reshape(-1).astype(float), delimiter=',')\n",
        "          else:\n",
        "            np.savetxt('./float_scale/%s.bias.csv' %(name) , bias.cpu().detach().numpy().reshape(-1).astype(float), delimiter=',')\n",
        "          "
      ],
      "id": "27MD_hJUzlnf"
    },
    {
      "cell_type": "markdown",
      "source": [
        "### 1.1 Caculate the fixed-point output scale of the QAT model\n",
        "In function `float_to_fixed_scale()`, first you need to calculate fixed-point scales $M_{l}$, which is something like $S_l$ in `homework1.ipynb`. Store them in the `scalesDict` dictionary. Second,  calculate a revised value for the `outputBias` variable.\n",
        "\n",
        "\n",
        "In the front, we extract the scales of input, output, and weight  for each layer from the model. By [pytorch Quantized Tensor](https://pytorch.org/docs/stable/quantization.html), the scaling factor of the input matrix $I_{l}$,  weight matrix $W_{l}$ and output matrix $O_{l}$ are denoted by $s_{W_{l}}$, $s_{I_{l}}$ and $s_{O_{l}}$ , respectively, for each layer ${l}$. The corresponding quantized 8-bit signed integer tensors are denoted by $I_{l_q}$, $W_{l_q}$ and $O_{l_q}$. Note that the definition here is a bit different from our `homework1.ipynb`:\n",
        "$$I_l = I_{l_q} * s_{I_{l}},$$\n",
        "$$W_l = W_{l_q} * s_{W_{l}},$$\n",
        "$$O_l = O_{l_q} * s_{O_{l}}.$$\n",
        "\n",
        "In `float_to_fixed_scale()` TODO, we need to caculate $M_{l}$ and save them in `scalesDict` where in layer $l$, \n",
        "$$W_{l_q}* I_{l_q} * M_{l} \\approx O_{l_q} = I_{{l+1}_q}$$\n",
        "As for the initial input, we need to caculate $M_{quant}$ where\n",
        "$$I_{initialInput} * M_{quant} \\approx O_{{initialInput}_q} = I_{{conv1.conv}_q}$$\n",
        "*   hint: `act_scalesDict[layerName]` store the output activation scale, i.e., $s_{O_{l}}$ in the above equation, and it is also the input activation scale of the next layer $s_{I_{l+1}}$.\n",
        "\n",
        "\n",
        "\n",
        "To simplify the hardware implementation, let's convert $M_{l}$ into integer by multiplying `2**16` and rounding it. As for the initial input, you can simply round it since $M_{quant}$ is much greater than 1.\n",
        "\n",
        "In addition, you need to adjust the `outputBias` value to ensure that it remains unchanged when we use $M_{output}$ for requantization."
      ],
      "metadata": {
        "id": "-Pu3d84O9kLF"
      },
      "id": "-Pu3d84O9kLF"
    },
    {
      "cell_type": "code",
      "source": [
        "def float_to_fixed_scale():\n",
        "    scalesDict = {}\n",
        "    act_scalesDict = {}\n",
        "    weight_scalesDict = {}\n",
        "    outputBias = []\n",
        "    \n",
        "    layerName = [\"conv1.conv\", \"conv3.conv\", \"conv5.conv\", \"fc6.fc\", \"output.fc\"] \n",
        "    for key in layerName:\n",
        "        Arr = np.loadtxt('./float_scale/'+key+\".weight.scale.csv\",\n",
        "                         delimiter=',').reshape(([1])).astype(float)\n",
        "        weight_scalesDict[key] = Arr\n",
        "\n",
        "        Arr = np.loadtxt('./float_scale/'+key+\".scale.csv\",\n",
        "                         delimiter=',').reshape(([1])).astype(float)\n",
        "        act_scalesDict[key] = Arr\n",
        "\n",
        "    act_scalesDict[\"quant\"] = np.loadtxt(\"./float_scale/quant.scale.csv\",\n",
        "                      delimiter=',').reshape(([1])).astype(float)\n",
        "    outputBias = np.loadtxt(\n",
        "        './float_scale/'+key+\".bias.csv\", delimiter=',').reshape(([1, 10])).astype(float)\n",
        "    \n",
        "    \n",
        "    scalesDictName = [\"quant\", \"conv1.conv\", \"conv3.conv\", \"conv5.conv\", \"fc6.fc\", \"output.fc\"] \n",
        "    \n",
        "    # TODO\n",
        "    pre = 0\n",
        "    for i in scalesDictName:\n",
        "      if(i == \"quant\"):\n",
        "        S = act_scalesDict[i].item()\n",
        "        scalesDict[i] = round(1/S)\n",
        "        pre = S\n",
        "      else:\n",
        "        sOI = act_scalesDict[i].item()\n",
        "        sWI = weight_scalesDict[i].item()\n",
        "        scalesDict[i] = round(pre * sWI / sOI * (2 ** 16))\n",
        "        pre = sOI\n",
        "    outputBias = (outputBias * 2**16 / scalesDict[i] ).astype(int)\n",
        "    return scalesDict, outputBias\n"
      ],
      "metadata": {
        "id": "FeD2U8vqn8kS"
      },
      "id": "FeD2U8vqn8kS",
      "execution_count": 99,
      "outputs": []
    },
    {
      "cell_type": "code",
      "source": [
        "import json\n",
        "scalesDict, outputBias = float_to_fixed_scale()\n",
        "with open('fixed_scale.json', 'w', newline='') as jsonfile:\n",
        "    json.dump(scalesDict, jsonfile)\n",
        "zf.write('./fixed_scale.json')\n",
        "\n",
        "\n",
        "np.savetxt('./weights/output.fc.bias.csv', outputBias, delimiter=',')\n",
        "zf.write('./weights/output.fc.bias.csv')"
      ],
      "metadata": {
        "id": "SD66CrxS44Tb"
      },
      "id": "SD66CrxS44Tb",
      "execution_count": 100,
      "outputs": []
    },
    {
      "cell_type": "markdown",
      "source": [
        "### Reconstruct the model with build-in function and extract the input and output of layer."
      ],
      "metadata": {
        "id": "FdYAITnPrKlX"
      },
      "id": "FdYAITnPrKlX"
    },
    {
      "cell_type": "code",
      "source": [
        "def getWeightAndScale():\n",
        "    weightsDict = {}\n",
        "    shapeDict = {\"conv1.conv\": [6, 1, 5, 5],\n",
        "                 \"conv3.conv\": [16, 6, 5, 5],\n",
        "                 \"conv5.conv\": [120, 16, 5, 5], \n",
        "                 \"fc6.fc\": [84, 120],\n",
        "                 \"output.fc\": [10, 84]\n",
        "                 }\n",
        "\n",
        "    for key in shapeDict:\n",
        "        Arr = np.loadtxt('./weights/'+key+\".weight.csv\",\n",
        "                         delimiter=',').astype(int)\n",
        "        shape = shapeDict[key]\n",
        "        Arr = Arr.reshape(([i for i in shape]))\n",
        "        weightsDict[key] = Arr\n",
        "\n",
        "    weightsDict[\"outputBias\"] = np.loadtxt(\n",
        "        './weights/'+key+\".bias.csv\", delimiter=',').reshape(([1, 10])).astype(float)\n",
        "    \n",
        "    scalesDict = {}\n",
        "    with open('fixed_scale.json') as json_file:\n",
        "        scalesDict = json.load(json_file)\n",
        "    for i in scalesDict:\n",
        "      scalesDict[i] = np.array([scalesDict[i]])\n",
        "\n",
        "    return weightsDict, scalesDict"
      ],
      "metadata": {
        "id": "4HGS4L7PDD76"
      },
      "id": "4HGS4L7PDD76",
      "execution_count": 101,
      "outputs": []
    },
    {
      "cell_type": "code",
      "source": [
        "class QAT(nn.Module):\n",
        "    def __init__(self):\n",
        "        super(QAT, self).__init__()\n",
        "        self.weightsDict, self.scalesDict = getWeightAndScale()\n",
        "\n",
        "        self.conv1 = nn.Conv2d(1, 6, 5, bias=False)\n",
        "        self.conv1.weight.data = torch.from_numpy(self.weightsDict[\"conv1.conv\"]).float()\n",
        "        \n",
        "        self.maxpool2 = nn.Sequential(OrderedDict([\n",
        "            ('pool', nn.MaxPool2d(kernel_size=(2, 2), stride=2))\n",
        "        ]))\n",
        "        \n",
        "        self.conv3 = nn.Conv2d(6, 16, 5, bias=False)\n",
        "        self.conv3.weight.data = torch.from_numpy(self.weightsDict[\"conv3.conv\"]).float()\n",
        "\n",
        "        self.maxpool4 = nn.Sequential(OrderedDict([\n",
        "            ('pool', nn.MaxPool2d(kernel_size=(2, 2), stride=2))\n",
        "        ]))\n",
        "        \n",
        "        self.conv5 = nn.Conv2d(16, 120, 5, bias=False)\n",
        "        self.conv5.weight.data = torch.from_numpy(self.weightsDict[\"conv5.conv\"]).float()\n",
        "\n",
        "        \n",
        "        self.fc6 = nn.Linear(120, 84, bias=False)\n",
        "        self.fc6.weight.data = torch.from_numpy(self.weightsDict[\"fc6.fc\"]).float()\n",
        "\n",
        "        self.output = nn.Linear(84, 10, bias=True)\n",
        "        self.output.weight.data = torch.from_numpy(self.weightsDict[\"output.fc\"]).float()\n",
        "        self.output.bias.data = torch.from_numpy(self.weightsDict[\"outputBias\"].reshape(1, 10)).float()\n",
        "        \n",
        "    def forward(self, x):\n",
        "        x = torch.clamp(torch.quantize_per_tensor(x, torch.from_numpy(1/self.scalesDict[\"quant\"]), \n",
        "                  torch.tensor(0), torch.qint32).int_repr(), -128, 127).float()\n",
        "        x = self.conv1(x)\n",
        "        x = torch.clamp(torch.quantize_per_tensor(x, torch.from_numpy(1/self.scalesDict[\"conv1.conv\"]), \n",
        "                  torch.tensor(0), torch.qint32).int_repr() >> 16, 0, 127).float() \n",
        "        x = self.maxpool2(x)\n",
        "        x = self.conv3(x)\n",
        "        x = torch.clamp(torch.quantize_per_tensor(x, torch.from_numpy(1/self.scalesDict[\"conv3.conv\"]), \n",
        "                  torch.tensor(0), torch.qint32).int_repr() >> 16, 0, 127).float() \n",
        "\n",
        "        x = self.maxpool4(x)\n",
        "        x = self.conv5(x)\n",
        "        x = torch.clamp(torch.quantize_per_tensor(x, torch.from_numpy(1/self.scalesDict[\"conv5.conv\"]), \n",
        "                  torch.tensor(0), torch.qint32).int_repr() >> 16, 0, 127).float()\n",
        "        x = torch.flatten(x, 1)\n",
        "        x = self.fc6(x)\n",
        "        x = torch.clamp(torch.quantize_per_tensor(x, torch.from_numpy(1/self.scalesDict[\"fc6.fc\"]), \n",
        "                  torch.tensor(0), torch.qint32).int_repr() >> 16, 0, 127).float() \n",
        "              \n",
        "        x = self.output(x)\n",
        "        x = torch.clamp(torch.quantize_per_tensor(x, torch.from_numpy(1/self.scalesDict[\"output.fc\"]), \n",
        "                  torch.tensor(0), torch.qint32).int_repr() >> 16, -128, 127) \n",
        "            \n",
        "        \n",
        "        return x"
      ],
      "metadata": {
        "id": "p91Q13HFBLjk"
      },
      "id": "p91Q13HFBLjk",
      "execution_count": 102,
      "outputs": []
    },
    {
      "cell_type": "markdown",
      "source": [
        "If you’ve done everything correctly, the accuracy degradation should be negligible(~1%)."
      ],
      "metadata": {
        "id": "YE-HRT-65GL3"
      },
      "id": "YE-HRT-65GL3"
    },
    {
      "cell_type": "code",
      "source": [
        "qat = QAT()\n",
        "score = test(qat, testloader)\n",
        "print('Accuracy of the network with fixed point scale: {}%'.format(score))"
      ],
      "metadata": {
        "id": "olV64N348TFo",
        "colab": {
          "base_uri": "https://localhost:8080/"
        },
        "outputId": "ae2daba3-d23e-4bcf-bd28-5b3bcf449b39"
      },
      "id": "olV64N348TFo",
      "execution_count": 103,
      "outputs": [
        {
          "output_type": "stream",
          "name": "stdout",
          "text": [
            "Accuracy of the network with fixed point scale: 98.28%\n"
          ]
        }
      ]
    },
    {
      "cell_type": "code",
      "source": [
        "def visualize_activations(module, input, output):\n",
        "    if module.profile_activations == True:\n",
        "        module.inAct = input[0].cpu().reshape(-1)\n",
        "        module.outAct = output[0].cpu().reshape(-1)"
      ],
      "metadata": {
        "id": "Qe5aCOS45uwF"
      },
      "execution_count": 104,
      "outputs": [],
      "id": "Qe5aCOS45uwF"
    },
    {
      "cell_type": "code",
      "source": [
        "# random choose images as the input and get the output\n",
        "np.random.seed(0)\n",
        "index = np.random.randint(0,len(trainset), size=100)\n",
        "index = range(100)"
      ],
      "metadata": {
        "id": "rRkBhpwu51xU"
      },
      "execution_count": 105,
      "outputs": [],
      "id": "rRkBhpwu51xU"
    },
    {
      "cell_type": "code",
      "source": [
        "if not os.path.exists('./activations'):\n",
        "    os.mkdir('./activations')\n",
        "for ind in range(100):\n",
        "    if not os.path.exists('./activations/img{}'.format(ind)):\n",
        "        os.mkdir('./activations/img{}'.format(ind))\n",
        "\n",
        "    for name, model in qat.named_children():\n",
        "        model.profile_activations = True\n",
        "        model.register_forward_hook(visualize_activations)\n",
        "    input0, label = testset[index[ind]]\n",
        "    input = input0.reshape(1, 1, 32, 32)\n",
        "    output = qat(input)\n",
        "    for name, model in qat.named_children(): model.profile_activations = False \n",
        "    \n",
        "\n",
        "    np.savetxt('./activations/img{}/input.csv'.format(ind), input.cpu().data.numpy().reshape(-1), delimiter=',')\n",
        "    np.savetxt('./activations/img{}/output.csv'.format(ind), output.cpu().data.numpy().reshape(-1).astype(int), delimiter=',')\n",
        "    zf.write('./activations/img{}/input.csv'.format(ind))\n",
        "    zf.write('./activations/img{}/output.csv'.format(ind))\n",
        "    \n",
        "    opDict = {\n",
        "        'conv1': (qat.conv1.inAct, qat.conv1.outAct),\n",
        "        'maxpool2': (qat.maxpool2.inAct, qat.maxpool2.outAct),\n",
        "        'conv3': (qat.conv3.inAct, qat.conv3.outAct),\n",
        "        'maxpool4': (qat.maxpool4.inAct, qat.maxpool4.outAct),\n",
        "        'conv5': (qat.conv5.inAct, qat.conv5.outAct),\n",
        "        'fc6': (qat.fc6.inAct, qat.fc6.outAct),\n",
        "        'output': (qat.output.inAct, qat.output.outAct)\n",
        "    }\n",
        "    \n",
        "    for key in opDict:\n",
        "        if not os.path.exists('./activations/img{}/{}'.format(ind, key)):\n",
        "            os.mkdir('./activations/img{}/{}'.format(ind, key))\n",
        "        if(opDict[key][0].type()== \"torch.quantized.QInt8Tensor\" or opDict[key][0].type()== \"torch.quantized.QUInt8Tensor\"):\n",
        "            temp = opDict[key][0].cpu().int_repr()\n",
        "        else:\n",
        "            temp = opDict[key][0].cpu()\n",
        "        if(opDict[key][1].type()== \"torch.quantized.QInt8Tensor\" or opDict[key][1].type()== \"torch.quantized.QUInt8Tensor\"):\n",
        "            temp1 = opDict[key][1].cpu().int_repr()\n",
        "        else:\n",
        "            temp1 = opDict[key][1].cpu()                \n",
        "        np.savetxt('./activations/img{}/{}/input.csv'.format(ind, key), temp.data.numpy().reshape(-1).astype(float), delimiter=',')\n",
        "        np.savetxt('./activations/img{}/{}/output.csv'.format(ind, key), temp1.cpu().data.numpy().reshape(-1).astype(float), delimiter=',')\n",
        "        zf.write('./activations/img{}/{}/input.csv'.format(ind, key))\n",
        "        zf.write('./activations/img{}/{}/output.csv'.format(ind, key))"
      ],
      "metadata": {
        "id": "Jo4BtOL9aXxN"
      },
      "id": "Jo4BtOL9aXxN",
      "execution_count": 106,
      "outputs": []
    },
    {
      "cell_type": "code",
      "execution_count": 107,
      "metadata": {
        "id": "BlOLRLdTJqcm"
      },
      "outputs": [],
      "source": [
        "zf.close()"
      ],
      "id": "BlOLRLdTJqcm"
    },
    {
      "cell_type": "markdown",
      "metadata": {
        "id": "42c9bca9"
      },
      "source": [
        "## 2. High-level Function Implementation for Each Layer\n",
        "Implement a high-level functional model for each layer of the CNN, including convolution, pooling, and \n",
        "fully-connected layer with 8-bit quantization of the input activations, output activations, and weights accordingly.\n",
        "* Learn how to use [Numba](https://numba.pydata.org/) to accelerate python functions\n",
        "* Fill in the TODOs in `functional.py` of `nnutils`.\n",
        "    * You must consider `psum_range = (lower_bound, upper_bound)` which controls the precision of partial sums.\n",
        "    * `psum_record_list` will be used in *2. Bit-width of Partial Sums*, so you may leave it alone for now.\n",
        "    \n",
        "### 2.1 Pass all Unit Tests of `OpTestCase`.\n",
        "First, use 32-bit signed integers for the partial sums to pass the unit tests. The accumulation of activations is limited to 32 bits in convolution and fully-connected layers. Clamp the value if it exceeds the minimum or maximum values of the 32-bit signed number.\n",
        "\n",
        "Note that you should implement convolution layers, fully-connected layers, and max-pooling layers with \"nested loops\" by yourself. You are not allowed to use existing functions (e.g., `conv2d` in `numpy` or `pytorch`). Or you will not get any credits. Raise questions when in doubt.\n",
        "\n",
        "There are eight unit tests you need to pass. If you intend to run part of them, follow the steps:\n",
        "```\n",
        "tests = ['test_C1', 'test_C3']\n",
        "suite = unittest.TestSuite(map(OpTestCase, tests))\n",
        "```"
      ],
      "id": "42c9bca9"
    },
    {
      "cell_type": "code",
      "source": [
        "#!pip install numba==0.55.1"
      ],
      "metadata": {
        "id": "XKOBIg_HWqdr",
        "colab": {
          "base_uri": "https://localhost:8080/"
        },
        "outputId": "374d7891-d30a-4b9c-95f8-cc08a3352ded"
      },
      "id": "XKOBIg_HWqdr",
      "execution_count": 108,
      "outputs": [
        {
          "output_type": "stream",
          "name": "stdout",
          "text": [
            "Looking in indexes: https://pypi.org/simple, https://us-python.pkg.dev/colab-wheels/public/simple/\n",
            "Requirement already satisfied: numba==0.55.1 in /usr/local/lib/python3.9/dist-packages (0.55.1)\n",
            "Requirement already satisfied: llvmlite<0.39,>=0.38.0rc1 in /usr/local/lib/python3.9/dist-packages (from numba==0.55.1) (0.38.1)\n",
            "Requirement already satisfied: setuptools in /usr/local/lib/python3.9/dist-packages (from numba==0.55.1) (67.6.1)\n",
            "Requirement already satisfied: numpy<1.22,>=1.18 in /usr/local/lib/python3.9/dist-packages (from numba==0.55.1) (1.21.6)\n"
          ]
        }
      ]
    },
    {
      "cell_type": "code",
      "execution_count": 109,
      "metadata": {
        "id": "rtNleN7vAvWA"
      },
      "outputs": [],
      "source": [
        "import unittest\n",
        "\n",
        "class OpTestCase(unittest.TestCase):\n",
        "    \n",
        "    def setUp(self):\n",
        "        bit = 32\n",
        "        self.number_range = (-(2**(bit-1)), 2**(bit-1) - 1)\n",
        "        self.weightsDict, self.scalesDict = getWeightAndScale()\n",
        "        self.max_samples = 100 #100\n",
        "        \n",
        "        \n",
        "    def tearDown(self):\n",
        "        self.weightsDict, self.scalesDict = None, None\n",
        "        self.source = None\n",
        "         \n",
        "    def test_C1(self):\n",
        "        for i in range(self.max_samples):\n",
        "            self.source = \"./activations/img{}/\".format(i)\n",
        "            x = np.loadtxt(self.source+\"/conv1/input.csv\", delimiter=',').astype(int)\n",
        "            x = x.reshape(1, 1, 32, 32)\n",
        "            x, _ = Conv2d(self.number_range, x, self.weightsDict[\"conv1.conv\"], out_channels=6)\n",
        "            x = x.flatten()\n",
        "            x_ = np.loadtxt(self.source+\"/conv1/output.csv\", delimiter=',').astype(int)\n",
        "            self.assertTrue(np.all(x == x_))\n",
        "\n",
        "    def test_ACTQUANT(self):\n",
        "        for i in range(self.max_samples):\n",
        "            self.source = \"./activations/img{}/\".format(i)\n",
        "            x = np.loadtxt(self.source+\"/conv1/output.csv\", delimiter=',').astype(int)\n",
        "            x = ActQuant(x, self.scalesDict[\"conv1.conv\"])\n",
        "            x = ReLU(x).flatten()\n",
        "            x_ = np.loadtxt(self.source+\"/maxpool2/input.csv\", delimiter=',').astype(int)\n",
        "            self.assertTrue(np.all(x == x_))\n",
        "\n",
        "    def test_S2(self):\n",
        "        for i in range(self.max_samples):\n",
        "            self.source = \"./activations/img{}/\".format(i)\n",
        "            x = np.loadtxt(self.source+\"/maxpool2/input.csv\", delimiter=',').astype(int)\n",
        "            x = x.reshape(1, 6, 28, 28)\n",
        "            x = MaxPool2d(x).flatten()\n",
        "            x_ = np.loadtxt(self.source+\"/maxpool2/output.csv\", delimiter=',').astype(int)\n",
        "            self.assertTrue(np.all(x == x_))\n",
        "    \n",
        "    def test_C3(self):\n",
        "        for i in range(self.max_samples):\n",
        "            self.source = \"./activations/img{}/\".format(i)         \n",
        "            x = np.loadtxt(self.source+\"/conv3/input.csv\", delimiter=',').astype(int)\n",
        "            x = x.reshape(1, 6, 14, 14)\n",
        "            x, _ = Conv2d(self.number_range, x, self.weightsDict[\"conv3.conv\"], out_channels=16)\n",
        "            x = x.flatten()\n",
        "            x_ = np.loadtxt(self.source+\"/conv3/output.csv\", delimiter=',').astype(int)\n",
        "            self.assertTrue(np.all(x == x_))\n",
        "    \n",
        "    def test_S4(self):\n",
        "        for i in range(self.max_samples):\n",
        "            self.source = \"./activations/img{}/\".format(i)         \n",
        "            x = np.loadtxt(self.source+\"/maxpool4/input.csv\", delimiter=',').astype(int)\n",
        "            x = x.reshape(1, 16, 10, 10)\n",
        "            x = MaxPool2d(x).flatten()\n",
        "            x_ = np.loadtxt(self.source+\"/maxpool4/output.csv\", delimiter=',').astype(int)\n",
        "            self.assertTrue(np.all(x == x_))\n",
        "            \n",
        "    def test_C5(self):\n",
        "        for i in range(self.max_samples):\n",
        "            self.source = \"./activations/img{}/\".format(i)             \n",
        "            x = np.loadtxt(self.source+\"/conv5/input.csv\", delimiter=',').astype(int)\n",
        "            x = x.reshape(1, 16, 5, 5)\n",
        "            x, _ = Conv2d(self.number_range, x, self.weightsDict[\"conv5.conv\"], out_channels=120)\n",
        "            x = x.flatten()\n",
        "            x_ = np.loadtxt(self.source+\"/conv5/output.csv\", delimiter=',').astype(int)\n",
        "            self.assertTrue(np.all(x == x_))\n",
        "    \n",
        "    def test_F6(self):\n",
        "        for i in range(self.max_samples):\n",
        "            self.source = \"./activations/img{}/\".format(i)             \n",
        "            x = np.loadtxt(self.source+\"/fc6/input.csv\", delimiter=',').astype(int)\n",
        "            x = x.reshape(1, 120)\n",
        "            x, _ = Linear(self.number_range, x, self.weightsDict[\"fc6.fc\"])\n",
        "            x_ = np.loadtxt(self.source+\"/fc6/output.csv\", delimiter=',')\n",
        "            self.assertTrue(np.all(x == x_))\n",
        "            \n",
        "    def test_OUTPUT(self):\n",
        "        for i in range(1,self.max_samples):\n",
        "            self.source = \"./activations/img{}/\".format(i)             \n",
        "            x = np.loadtxt(self.source+\"/output/input.csv\", delimiter=',').astype(int)\n",
        "            x = x.reshape(1, 84)\n",
        "            x, _ = Linear(self.number_range, x, self.weightsDict[\"output.fc\"], self.weightsDict[\"outputBias\"])\n",
        "            x_ = np.loadtxt(self.source+\"/output/output.csv\", delimiter=',')\n",
        "            self.assertTrue(np.all(x == x_))\n"
      ],
      "id": "rtNleN7vAvWA"
    },
    {
      "cell_type": "code",
      "execution_count": 110,
      "metadata": {
        "id": "TB-3h1RzM-1G"
      },
      "outputs": [],
      "source": [
        "#@title\n",
        "import numba as nb\n",
        "import json\n",
        "\n",
        "@nb.jit()\n",
        "def MaxPool2d(x, kernel_size=2, stride=2):\n",
        "    N, C, H, W = x.shape\n",
        "    x_out = np.zeros((N, C, int(((H-kernel_size)/stride)+1),\n",
        "                     int((W-kernel_size)/stride + 1)), dtype='int32')\n",
        "    # TODO\n",
        "    for n in range(N):\n",
        "      for c in range(C):\n",
        "        for h in range(int(((H-kernel_size)/stride)+1)):\n",
        "          for w in range(int((W-kernel_size)/stride + 1)):\n",
        "            val = 0\n",
        "            for i in range(kernel_size):\n",
        "              for j in range(kernel_size):\n",
        "                x_out[n,c,h,w] = max(x[n,c,h*stride+i,w*stride+j],x_out[n,c,h,w])\n",
        "    return x_out\n",
        "\n",
        "\n",
        "@nb.jit()\n",
        "def ReLU(x):\n",
        "    # TODO\n",
        "    x = np.where(x>0,x,0)\n",
        "    return x\n",
        "\n",
        "\n",
        "@nb.jit()\n",
        "def Linear(psum_range, x, weights, weightsBias=None, psum_record=False):\n",
        "  psum_record_list = [np.complex64(x) for x in range(0)]\n",
        "  H, W = x.shape\n",
        "  C = weights.shape[0]\n",
        "  x_out = np.zeros((H, C))\n",
        "  # TODO\n",
        "  for h in range(H):\n",
        "    for c in range(C):\n",
        "      for w in range(W):\n",
        "        x_out[h,c] = x_out[h,c]+x[h,w]*weights[c,w]\n",
        "      if(x_out[h,c]>psum_range[1]):\n",
        "        x_out[h,c] = psum_range[1]\n",
        "      elif(x_out[h,c]<psum_range[0]):\n",
        "        x_out[h,c] = psum_range[0]\n",
        "      if(psum_record==True):\n",
        "        psum_record_list.append(x_out[h,c])\n",
        "  if (weightsBias!=None):\n",
        "    x_out = x_out + weightsBias\n",
        "  return x_out, psum_record_list\n",
        "\n",
        "\n",
        "@nb.jit()\n",
        "def Conv2d(psum_range, x, weights, out_channels, kernel_size=5, stride=1, bias=False, psum_record=False):\n",
        "    psum_record_list = [np.complex64(x) for x in range(0)]\n",
        "    N, C, H, W = x.shape\n",
        "    x_out = np.zeros((N, out_channels, int(((H-kernel_size)/stride)+1),\n",
        "                     int((W-kernel_size)/stride + 1)))\n",
        "    # TODO\n",
        "    for n in range(N):\n",
        "      for c in range(out_channels):\n",
        "        for h in range(int(((H-kernel_size)/stride)+1)):\n",
        "          for w in range(int((W-kernel_size)/stride + 1)):\n",
        "            result = 0\n",
        "            for i in range(kernel_size):\n",
        "              for j in range(kernel_size):\n",
        "                product = 0\n",
        "                for k in range(C):\n",
        "                  product = product+x[n, k, h*stride+i, w*stride+j] * weights[c, k, i, j]\n",
        "                result = result+product\n",
        "            x_out[n, c, h, w] = result\n",
        "            if(x_out[n, c, h, w]>psum_range[1]):\n",
        "              x_out[n, c, h, w] = psum_range[1]\n",
        "            elif(x_out[n, c, h, w]<psum_range[0]):\n",
        "              x_out[n, c, h, w] = psum_range[0]\n",
        "            if(psum_record==True):\n",
        "              psum_record_list.append(x_out[n, c, h, w])\n",
        "    return x_out, psum_record_list\n",
        "\n",
        "\n",
        "def ActQuant(x, scale, shiftbits=16):\n",
        "    # TODO\n",
        "    x = np.round((x * scale))\n",
        "    x = np.floor(x / 2**shiftbits)\n",
        "    x = np.where(x>127,127,x)\n",
        "    x = np.where(x<-128,-128,x)\n",
        "    return x\n"
      ],
      "id": "TB-3h1RzM-1G"
    },
    {
      "cell_type": "code",
      "execution_count": 111,
      "metadata": {
        "id": "87b1c981",
        "colab": {
          "base_uri": "https://localhost:8080/"
        },
        "outputId": "4a961f1b-d500-4f21-d3c4-551611a4d76a"
      },
      "outputs": [
        {
          "output_type": "stream",
          "name": "stderr",
          "text": [
            "test_ACTQUANT (__main__.OpTestCase) ... ok\n",
            "test_C1 (__main__.OpTestCase) ... ok\n",
            "test_C3 (__main__.OpTestCase) ... ok\n",
            "test_C5 (__main__.OpTestCase) ... ok\n",
            "test_F6 (__main__.OpTestCase) ... ok\n",
            "test_OUTPUT (__main__.OpTestCase) ... ok\n",
            "test_S2 (__main__.OpTestCase) ... ok\n",
            "test_S4 (__main__.OpTestCase) ... ok\n",
            "\n",
            "----------------------------------------------------------------------\n",
            "Ran 8 tests in 20.461s\n",
            "\n",
            "OK\n"
          ]
        },
        {
          "output_type": "execute_result",
          "data": {
            "text/plain": [
              "<unittest.runner.TextTestResult run=8 errors=0 failures=0>"
            ]
          },
          "metadata": {},
          "execution_count": 111
        }
      ],
      "source": [
        "tests = ['test_C5']\n",
        "suite = unittest.TestSuite(map(OpTestCase, tests))\n",
        "suite = unittest.TestLoader().loadTestsFromTestCase(OpTestCase)\n",
        "unittest.TextTestRunner(verbosity=2).run(suite)"
      ],
      "id": "87b1c981"
    },
    {
      "cell_type": "markdown",
      "metadata": {
        "id": "7c623abf"
      },
      "source": [
        "### 2.2 Reconstruct the LeNet in HW1\n",
        "* Fill in the TODO in `forward()` of `LeNet`.\n",
        "* Test the model with the test dataset. There should be no accuracy degradation if you have done everything correctly."
      ],
      "id": "7c623abf"
    },
    {
      "cell_type": "code",
      "execution_count": 112,
      "metadata": {
        "id": "e5p17sYm5ZN7"
      },
      "outputs": [],
      "source": [
        "class LeNet:\n",
        "\n",
        "    def __init__(self, psum_range_dict):\n",
        "        self.psum_range = psum_range_dict\n",
        "        self.weightsDict, self.scalesDict = getWeightAndScale()\n",
        "        self.psum_record_dict = {}\n",
        "        \n",
        "    def forward(self, x, psum_record=False):\n",
        "      # TODO\n",
        "      # You should get the record of partial sums by `x, self.psum_record_dict['c1'] = Conv2d(...)`.\n",
        "      x = ActQuant(x,self.scalesDict[\"quant\"],0)\n",
        "      x,self.psum_record_dict['c1'] = Conv2d(self.psum_range[\"c1\"],x,self.weightsDict[\"conv1.conv\"],6,psum_record=psum_record)\n",
        "      x = ActQuant(x,self.scalesDict[\"conv1.conv\"])\n",
        "      x = ReLU(x)\n",
        "      x = MaxPool2d(x)\n",
        "      x,self.psum_record_dict['c3'] = Conv2d(self.psum_range[\"c3\"],x,self.weightsDict[\"conv3.conv\"],16,psum_record=psum_record)\n",
        "      x = ActQuant(x,self.scalesDict[\"conv3.conv\"])\n",
        "      x = ReLU(x)\n",
        "      x = MaxPool2d(x)\n",
        "      x,self.psum_record_dict['c5'] = Conv2d(self.psum_range[\"c5\"],x,self.weightsDict[\"conv5.conv\"],120,psum_record=psum_record)\n",
        "      x = ActQuant(x,self.scalesDict[\"conv5.conv\"])\n",
        "      x = ReLU(x)\n",
        "      \n",
        "      x = np.reshape(x, (x.shape[0], -1))\n",
        "      x,self.psum_record_dict['f6'] = Linear(self.psum_range[\"f6\"],x,self.weightsDict[\"fc6.fc\"],psum_record=psum_record)\n",
        "      x = ActQuant(x,self.scalesDict[\"fc6.fc\"])\n",
        "      x = ReLU(x)\n",
        "            \n",
        "      x,self.psum_record_dict['output'] = Linear(self.psum_range[\"output\"],x,self.weightsDict[\"output.fc\"],self.weightsDict[\"outputBias\"],psum_record=psum_record)\n",
        "      x = ActQuant(x,self.scalesDict[\"output.fc\"]) \n",
        "      \n",
        "      return x"
      ],
      "id": "e5p17sYm5ZN7"
    },
    {
      "cell_type": "code",
      "execution_count": 113,
      "metadata": {
        "id": "BAKPeqz65wpG"
      },
      "outputs": [],
      "source": [
        "def test(model, dataloader: DataLoader, max_samples=None):\n",
        "    cnt = 0\n",
        "    total = 0\n",
        "    n_inferences = 0\n",
        "    for i, data in enumerate(dataloader):\n",
        "\n",
        "        images, labels = data[0].numpy(), data[1].numpy()\n",
        "        y = model.forward(images)\n",
        "\n",
        "        y = np.argmax(y, axis=1)\n",
        "        cnt = cnt + np.count_nonzero((labels == y) == True)\n",
        "        total += images.shape[0]\n",
        "\n",
        "        if max_samples:\n",
        "            n_inferences += images.shape[0]\n",
        "            if n_inferences >= max_samples:\n",
        "                break\n",
        "\n",
        "    print(\"Accuracy: {}%\".format(cnt/total*100))\n",
        "    return cnt/total*100"
      ],
      "id": "BAKPeqz65wpG"
    },
    {
      "cell_type": "code",
      "execution_count": 114,
      "metadata": {
        "id": "2639da05",
        "colab": {
          "base_uri": "https://localhost:8080/"
        },
        "outputId": "a455778d-6dd6-4adf-9230-ad2d95d259b7"
      },
      "outputs": [
        {
          "output_type": "stream",
          "name": "stdout",
          "text": [
            "bit: 32\n",
            "bit-width range: (-2147483648, 2147483647)\n",
            "Accuracy: 98.28%\n"
          ]
        },
        {
          "output_type": "execute_result",
          "data": {
            "text/plain": [
              "98.28"
            ]
          },
          "metadata": {},
          "execution_count": 114
        }
      ],
      "source": [
        "testloader = torch.utils.data.DataLoader(testset, batch_size=4,\n",
        "                                         shuffle=False, num_workers=2)\n",
        "\n",
        "def run_LeNet(n_bit, max_samples = None):\n",
        "    number_range = (-(2**(n_bit-1)), 2**(n_bit-1) - 1)\n",
        "    print(\"bit:\", n_bit)\n",
        "    print(\"bit-width range:\",number_range)\n",
        "\n",
        "    psum_range = {\n",
        "        'c1': number_range,\n",
        "        'c3': number_range,\n",
        "        'c5': number_range,\n",
        "        'f6': number_range,\n",
        "        'output': number_range\n",
        "    }\n",
        "\n",
        "    model = LeNet(psum_range)\n",
        "\n",
        "    return test(model, testloader)\n",
        "\n",
        "run_LeNet(n_bit = 32)"
      ],
      "id": "2639da05"
    },
    {
      "cell_type": "markdown",
      "metadata": {
        "id": "8d44e4d9"
      },
      "source": [
        "## 3. Bit-width of Partial Sums\n",
        "### 3.1 Question: Find the minimum bit-width of partial sums for all layers with the highest accuracy\n",
        "1. Use matplotlib to plot \"Test Accuracy(%)\" versus \"Bit-width of Partial Sums\" for \"Bit-width of Partial Sums\" in $[2, 32]$ by `matplotlib.pyplot.plot()`.\n",
        "    * [Plot with matplotlib](https://matplotlib.org/stable/api/_as_gen/matplotlib.pyplot.plot.html).\n",
        "2. What is the smallest bit-width of partial sums that maintains the same accuracy from the previous plot?"
      ],
      "id": "8d44e4d9"
    },
    {
      "cell_type": "markdown",
      "metadata": {
        "id": "90fd587c"
      },
      "source": [
        "### 3.1 Answers\n",
        "<font color='red'>Write your answers here.</font>\n",
        "1. y軸是Test Accuracy(%)，x軸是bit-width\n",
        "![image.png](data:image/png;base64,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)\n",
        "2. 18 bit-width時"
      ],
      "id": "90fd587c"
    },
    {
      "cell_type": "code",
      "execution_count": 115,
      "metadata": {
        "id": "3c93f393",
        "colab": {
          "base_uri": "https://localhost:8080/",
          "height": 1000
        },
        "outputId": "e6d8153c-e478-4db7-8f15-b36f3d8537ec"
      },
      "outputs": [
        {
          "output_type": "stream",
          "name": "stdout",
          "text": [
            "bit: 2\n",
            "bit-width range: (-2, 1)\n",
            "Accuracy: 9.8%\n",
            "bit: 4\n",
            "bit-width range: (-8, 7)\n",
            "Accuracy: 9.8%\n",
            "bit: 6\n",
            "bit-width range: (-32, 31)\n",
            "Accuracy: 9.8%\n",
            "bit: 8\n",
            "bit-width range: (-128, 127)\n",
            "Accuracy: 9.8%\n",
            "bit: 10\n",
            "bit-width range: (-512, 511)\n",
            "Accuracy: 9.8%\n",
            "bit: 12\n",
            "bit-width range: (-2048, 2047)\n",
            "Accuracy: 9.8%\n",
            "bit: 14\n",
            "bit-width range: (-8192, 8191)\n",
            "Accuracy: 92.12%\n",
            "bit: 16\n",
            "bit-width range: (-32768, 32767)\n",
            "Accuracy: 98.00999999999999%\n",
            "bit: 18\n",
            "bit-width range: (-131072, 131071)\n",
            "Accuracy: 98.28%\n",
            "bit: 20\n",
            "bit-width range: (-524288, 524287)\n",
            "Accuracy: 98.28%\n",
            "bit: 22\n",
            "bit-width range: (-2097152, 2097151)\n",
            "Accuracy: 98.28%\n",
            "bit: 24\n",
            "bit-width range: (-8388608, 8388607)\n",
            "Accuracy: 98.28%\n",
            "bit: 26\n",
            "bit-width range: (-33554432, 33554431)\n",
            "Accuracy: 98.28%\n",
            "bit: 28\n",
            "bit-width range: (-134217728, 134217727)\n",
            "Accuracy: 98.28%\n",
            "bit: 30\n",
            "bit-width range: (-536870912, 536870911)\n",
            "Accuracy: 98.28%\n",
            "bit: 32\n",
            "bit-width range: (-2147483648, 2147483647)\n",
            "Accuracy: 98.28%\n"
          ]
        },
        {
          "output_type": "display_data",
          "data": {
            "text/plain": [
              "<Figure size 640x480 with 1 Axes>"
            ],
            "image/png": "[encoded data removed]"
          },
          "metadata": {}
        }
      ],
      "source": [
        "import matplotlib.pyplot as plt\n",
        "acc = []\n",
        "for i in range(1, 17):\n",
        "    acc.append(run_LeNet(i*2))\n",
        "    \n",
        "# TODO   \n",
        "plt.plot([range(2,33,2)][0],acc)\n",
        "plt.show()"
      ],
      "id": "3c93f393"
    },
    {
      "cell_type": "markdown",
      "metadata": {
        "id": "6127ac58"
      },
      "source": [
        "### 3.2 Question: Find the minimum bit-width of partial sums for each layer with the highest accuracy\n",
        "1. Plot the distribution of partial sums of each quantized layer in the CNN with the MNIST test dataset. Write down the min, max, and standard deviation for each layer. \n",
        "    * Check the TODO in `LeNet` of `LeNetModel`. You should save all partial sums to the dictionary, `psum_record_dict`.\n",
        "    * We can get this dictionary after running the model with the first image in the test dataset by `model.psum_record_dict`.\n",
        "2. Determine the minimum bit-width of partial sums in each layer without hurting the accuracy. \n",
        "    * Fill in the TODO to see if the accuracy is still the same.\n",
        "    * Show the accuracy after doing so."
      ],
      "id": "6127ac58"
    },
    {
      "cell_type": "markdown",
      "metadata": {
        "id": "4892fb04"
      },
      "source": [
        "### 3.2 Answers\n",
        "<font color='red'>Write your answers here.</font>\n",
        "1.由上往下有六層  \n",
        "![image.png](data:image/png;base64,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)  \n",
        "![image.png](data:image/png;base64,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)  \n",
        "![image.png](data:image/png;base64,iVBORw0KGgoAAAANSUhEUgAAAj8AAAGaCAYAAADglSL3AAAAAXNSR0IArs4c6QAAAARnQU1BAACxjwv8YQUAAAAJcEhZcwAADsMAAA7DAcdvqGQAADjcSURBVHhe7d0JnBTF3f/x33ItoHIGECOIIpci3lHRgIjGABEIYDwALxBPNB4PwuPBX43xQGFjVIwHqGBEQHRFFEk8UcQjLiqKiCKgIJeg3Mcu859vpRubeWYPlplllvq8X69+7XRXd093TXX1r6ure7NicQYAAOCJCsFfAAAALxD8AAAArxD8AAAArxD8AAAArxD8AAAArxD8AAAArxD8AAAArxD8AAAArxD8AAAAr6Q0+DnooIPcUJbK+vsyRWF5vSflx5782+5Jv186trm060zltmhdqd63dKwTwM5L6b+3CA/q+fPnu7/ppu/bme9KrHSiyxaVJiVN39nlClPa7xOllfR7MlVh+xDNl2h6Yn5JUemJ6y7pepNtUzIl/b5k61NaSb+nJFK9vkTpWH9p15nKbdG6ZGfWV9z3l2adpVXUd4VpoXCexOmSuHxh640uW9L9K2w7opJ9X7LtFM2TjnVKYevdmW2RxO0p6baUZDnsBAU/5dWBBx4YfCqdopZPTIuO63Oy8ei0ULL5opItI8UtV5SdmTdTJduHxGnR8eL2OXHeki5b1HJS2LLFLVeUnZm3JFK9vkTpWH9p15nufS3O7v7+ULgdhW1PdLo+Fzd/KJw3cb7ixksq2XrCoTiFzZOqdSZ+Lmr5MK2oeSRcT+J8pV0OJVei216KMAsbEtMTRdOSpUtRaYXR/GUV8Zbku5Kll3Ybi1pOadEhGS1bWFqixPVFh1CyaVLYfFHJphVH8yfb/9LkpRS2PiltWlGKW2d0SEbLFpZWmGTrTfY5HA+VZHpimpQmLRwvKj3Z9OIUtVw0LZqeOG9iWuL8UcnSo+NFpUenRUXTo/MUNr04RZVbrac05TqUbNldWV9xSrLund2nnV3nzqw/HduSTGmXw3/tVJ+faGYnfi7uhwjnUcHYnfT94ZC4zUWlhRLTipo3qqTzJUpcTp/DIZUSvyMq+p3anlB0vnB64rJlSdsQDoVRWrJtLG7ZwpYrTuJy+hwOqRJ+R+K6k30Ox0PR6cn2PVla4vcliqYlrjO6bFRx6yxMUcslpmlI3J5kwnkLk2x90WWi6aHE8ahk60jczjCtJNu/M7S+xO3StHCISjZvKkS/L7r+kn6f5kuUjnWGilpHsuU0LRyiilqPlHY5lEyJg59oZu9sxhc3v9JT+WNGC01iwQm/S8POpImmKS2UOF6YZMuFQ7LxkMZLsv5dFf2OZN9X2PaJ5g+nJ1tW05JN31WJeRN+Tzgk29bEZULh9MKWTVxO4+GQbDyk8WTflw7Jvr8kwuWSLVvabS/pOssib6Lbkrg94Xji9OIUtr5dUVS+pCuftP3Jvis6hPuYbN7C7My8sqvfJ4nzpmOdUpJ1RNP1OTqUdFtKuxxKbo981D2x4KRCYYVO08MhOh7S58TlErctcVySLbc7hNuRuH2h3bGdpfnOopYpal3JltN4OCQbl7LMl+j363s1lES4jeGQCulY566Ibkt0m8K/ocTxwmTa/pVWuB87Q8uEQ3Q8SuOpypdw/eF3RD+HEseLE64jXC76OZQ4HtL0ovatsOUKE353uFz0c1FKuxx2lBHBT3n78bStYeUXHST6OVG43M4q7XKplvgbRce1fYnpomnJppeW1lVcXhT3fSVZRzJlvVxplPZ7isuzwhS1XDrWWZRky5V2XSWRynVH15XObU5G35es3ES3Q+nRITotVNh6RGk7s1/huqPfEf0clWxaMuHy0fVEP0clmxZV2L4WtdzO5meotMuhaCkJfqIFO/o504TbFg7RAlNUWvg5TCupsl4uHbQtybYjHI/mk6Rze8N1h9sT/a7EadHtKio/o/sXDuH8RS1XlNIuV1rh94RD+P1R0fRQdN93RnS5xO9KxzqLUty2SJgeDqFw2cTlovMVtkx0WqIwPTpPdDwxLXE7JXGbdlZ0XdHPkuz7QuG0cHpJtyOcP3H54kTn17Az+13Yd6RjnUXlmRS2XDh/mL4z+Vma5VByKX3PT1lTwfC5UBS2/3tCvvjw2+7Jvx8AZLI9ss8PAABAYcp1y4/4dpWs/Q3t6a0Ge+Jv69PvBwCZqtwHPwAAADuD214AAMArBD8AAMArBD8AAMArBD8AAMArBD8AAMArBD8AAMArBD8AAMArBD8AAMAr5eolh1u3brVNmzZZ5cqVgykAAKAkCgoKrEKFCla1alXLysoKpvqp3AQ/+fn59u6779ojjzxiFStWDKYCAICS2LZtm7Vr18769u1r1apVC6b6qdwEP2r1GT9+vD344IN28cUX0/oDAEAJqdXnrbfecufOESNGWPXq1YMUP5Wb4Ec/3IQJEyw3N9cee+wxy87ODlIAAEBRdPdk9OjR9umnn1pOTo7359ByFfxMnDjRBT+jRo1y9ywBAEDxFPzo3JmXl0fwE8fTXgAAwCsEPwAAwCsEPwAAwCsEPwAAwCsEPwAAwCsEPwAAwCsEPwAAwCsEPwAAwCtpDX4+++wz90bJjz/+2I3rfYorV660adOm2ZgxY+z555+3+fPnuxcYAgAAlIW0BT8rVqywYcOG2f/+7/+6tzLLTz/95P4/18iRI+3111+3f/7zn/aPf/zDBUAAAABlIS3Bj/4J6cMPP2x169a1Aw880E1Tq8/XX3/tWns6duxot912m/Xv398+//xze/PNN23jxo1uPgAAgHRKS/AzefJk++KLL+yqq67a/j+4tmzZYl9++aW7xdW9e3dr1KiR+9f6zZo1c/OuXr3azRel/0WyadOm7YPWAQAAsCtS/o9NZ8+ebbfeeqsNGDDAtfCceuqp9tvf/tauu+46e/DBB23mzJn23HPPWaVKldz8d911l3311Vc2ePBga968uZsWGjdunGspkm3bttn333/vWpL4x6bwzZ/HzQo+Zbab/3CI1d27SjAGIFPwj013lNLgZ82aNXbDDTdYq1atrF+/frbXXnvZKaec4oKfa6+91mX4J598YpMmTQqWMLvvvvvcv9hX8KPlohRIzZkzx31W8KPAadmyZQQ/8E6TwVOCT5nt7UEdrHGd6sEYgExB8LOjlN72Usfl9957z3ViPv30013Qoye99MTXhRdeaHvvvbdt3rzZ3cIKbdiwwapUqeKGRIcccoj16NHDDbpVduyxxwYpAAAApZPS4OeAAw6w4cOH25133mmDBg2y//mf/7HGjRtb27Zt7bLLLnO3tfTE17x589z8+rxgwQJr0KCB1apVy02LqlChglWsWNENuk2mvwAAALsipcGPAhh1Yu7cufP2QU98qVNzhw4dXPBTr149u//+++3DDz+0xx9/3PX3Oe6446x27drBWgAAANInpcFPVlaWa6GJDpqmFhx9Pvjgg23IkCG2ZMkSFxg9/fTTdskll7h+QZoHAAAg3dIecehlhnr6S3TbSq08U6ZMcS9BVH+gPn36uI7RAAAAZYHmFgAA4BWCHwAA4BWCHwAA4BWCHwAA4BWCHwAA4BWCHwAA4BWCHwAA4BWCHwAA4BWCHwAA4BWCHwAA4BWCHwAA4BWCHwAA4BWCHwAA4BWCHwAA4BWCHwAA4BWCHwAA4BWCHwAA4BWCHwAA4BWCHwAA4BWCHwAA4BWCHwAA4BWCHwAA4BWCHwAA4BWCHwAA4BWCHwAA4BWCHwAA4BWCHwAA4BWCHwAA4BWCHwAA4BWCHwAA4JWUBj/btm2zrVu32pYtW2zz5s3us6ZJLBbbPj0cNB6mAwAAlIWUBj/Tpk2zM8880w499FBr0aKFdezY0SZOnGgFBQW2cOFCO+GEE6xevXrWqFEjN3Tp0sVmzJgRLA0AAJB+KQ1+9ttvP7vmmmvslVdesTfffNN69eplF198sX3++ecuvX79+nbrrbfaF1984YYJEybYcccd59IAAADKQkqDnzZt2lj79u3t4IMPtgMOOMB69+5tVapUsQULFrh03eJavXq1LVq0yH788Uc3rVKlSu5vMppfrUbRAQAAYFekvMPzhg0b7J133nGtP3/729/skEMOsaOPPtoFOTVq1LCZM2faLbfcYjfddJONGTPGli1bFiz5f82ZM8deeOEFN+Tm5tpHH30UpAAAAJROyoOfNWvW2DPPPGMPPvigC4DU70dBT+3atW3gwIEuILr33nutXbt29uKLL7p+Qvn5+cHSO/r0009t3Lhxbnj22WfpHwQAAHZZyoMfdWi+/fbb7eGHH7abb77Z9et5/fXXba+99nIBT6tWraxly5Z27rnnWrNmzWz27NkuYEpGnafVOqThiSeesCuuuCJIAQAAKJ2UBz8VK1a0OnXquKe5unbtag0aNLDp06cHqb/QbbDKlSu7x+EL68ujeapWreqGatWquf5DAAAAuyKlwY/65OjJrpUrV9rSpUtt6tSp9u2337rH3hcvXuxuW/3www/us26JzZ0713WO3meffYI1AAAApFfKg5/hw4e7x90HDx5sTz75pPXs2dM6derkAp4HHnjABg0a5NLUgVnv/Tn99NNdyw4AAEBZyIrp1csp8vXXX7vH2tetW+duf9WsWdP171E/oFWrVtmsWbNcWlZWlrs11rRpU3dbrEKF4mMw3RrTCxMVNI0aNYqACV5pMnhK8CmzvT2ogzWuUz0YA5Ap9GCRzp15eXmWk5Nj2dnZQYqfUtryo1tYp556qnXv3t3OOOMM18FZLzZUsFO3bl335Fe3bt1cX6CTTjrJGjZsWKLABwAAIFWIPAAAgFcIfgAAgFcIfgAAgFcIfgAAgFcIfgAAgFcIfgAAgFcIfgAAgFcIfgAAgFcIfgAAgFcIfgAAgFcIfgAAgFcIfgAAgFcIfgAAgFcIfgAAgFcIfgAAgFcIfgAAgFcIfgAAgFcIfgAAgFcIfgAAgFcIfgAAgFcIfgAAgFcIfgAAgFcIfgAAgFcIfgAAgFcIfgAAgFcIfgAAgFcIfgAAgFcIfgAAgFcIfgAAgFcIfgAAgFdSGvx88MEHNnjwYOvRo4d17drVBg4caB999JFLi8VitmjRIhs6dKh1797d+vfvb1OnTrXNmze7dAAAgLKQ0uAnPz/fWrRoYX369LF+/fpZxYoVXZCzcOFC+/HHH23EiBE2a9Ys69atm9WrV88eeughe/vtt4OlAQAA0i+lwc/RRx9tZ511lv3hD3+wzp072y233GJLlixxrT9q9VGgM2DAADvnnHPs0ksvtQYNGtgbb7xhq1atCtYAAACQXikNfrKzs6169epWpUoVq1Chgk2fPt3d1mratKl99tlnVrlyZTvppJOsatWq1rhxY9dKpOBo+fLlwRp2pGXXrl27fdi4cWOQAgAAUDop7/A8f/58a9OmjQuCLrjgAhs3bpwLchTgVKtWzWrWrOnmy8rKsho1atjWrVttw4YNblqi22+/3WrVquWGunXr2kUXXRSkAAAAlE7Kgx+16EyZMsV1fr722mvtkksusc8//9wFO6KOz4nCtEQ333yz/fTTT25YuXKlPf7440EKAABA6aQ8+KlUqZI1atTIDj/8cBe8qNVn7Nixrn+PblspkJFt27a5z7pFplaiZHQbbZ999nGDWokKmw8AAKCkUhr8rF692tasWeP66mzatMmWLl3q+uoocGndurUVFBTYW2+9ZevXr7dvv/3W5s6da/vvv7/Vr18/WAMAAEB6pTT4mTRpko0ePdr9nThxot1xxx2uhadXr17udtgpp5zi0p966ikbOXKka/np0KGD1a5dO1gDAABAeqU0+NGtrQULFlhubq5NmzbNBTWPPfaY6wBdp04d99LD448/3t555x3XOnTZZZfZiSeeGCwNAACQflmxZD2QM5Bumak1SYHVqFGj3OPygC+aDJ4SfMpsbw/qYI3r0DcPyDR6CbHOnXl5eZaTk+P61Pos5R2eAQAAMhnBDwAA8ArBDwAA8ArBDwAA8ArBDwAA8ArBDwAA8ArBDwAA8ArBDwAA8ArBDwAA8ArBDwAA8ArBDwAA8ArBDwAA8ArBDwAA8ArBDwAA8ArBDwAA8ArBDwAA8ArBDwAA8ArBDwAA8ArBDwAA8ArBDwAA8ArBDwAA8ArBDwAA8ArBDwAA8ArBDwAA8ArBDwAA8ArBDwAA8ArBDwAA8ArBDwAA8ArBDwAA8ArBDwAA8EpKg58FCxbYv/71L3vmmWds3Lhx9tprr9maNWuCVLPVq1dbbm6uPfHEE9uHl19+2VasWBHMAQAAkF4pDX6mTp1qEyZMcEHPG2+8Yffff7898sgjlp+f79K///57u/vuu+2pp56yGTNmuGH27Nm2bt06lw4AAJBuKQ1+WrZsaRdccIHddtttbujWrZsNGzbMvvvuu2AOs7p161qfPn1s+PDhbhg4cKA1btw4SAUAAEivlAY/J598srVt29b2228/a9CggZ122mn2888/73DrS5+nTJli9957r40fP94WL15sWVlZQeqO1GK0adOm7cOWLVuCFAAAgNJJW4fnWCzmbm81a9bMmjRp4qbts88+duKJJ9oRRxxhlSpVcrfHcnJybO7cuS490XPPPWcXXnihG/r162cPP/xwkAIAAFA6aQt+FPhMnDjR7rzzTqtZs6ab1rBhQ7v88svdcOmll1rfvn3t22+/dX1/Nm/e7OaJatWqlXXv3t0NXbt2tWOOOSZIAQAAKJ20BD8KfEaOHGk33XST/e53vwummmVnZ9v+++/v+v386le/spNOOskFRAqAknV6bt26tfXq1csNPXv2tOOOOy5IAQAAKJ2UBj/hra6HHnrIrr/+euvSpYtVqVIlSP2/1q5da+vXr3dBkW6DJapQoYJVrFjRDUrXXwAAgF2R0uBnzJgx7gmu8847z4499ljXuVnv8NEtra1bt9rHH39sY8eOdX18Pv30U9ffZ/78+XbkkUdajRo1grUAAACkT0qDn0mTJtlnn31m1113nR166KF20EEHWfPmze2ll15y6XrJ4d///ndr3769axX68ssvbejQoXbqqacW+sQXAABAKqU0+HnhhResoKDANm7c6PrwaFDAo/46lStXto4dO9r7779vS5cude/+0dueO3fubFWrVg3WAAAAkF5p6fAMAACQqQh+AACAVwh+AACAVwh+AACAVwh+AACAVwh+AACAVwh+AACAVwh+AACAVwh+AACAVwh+AACAV7Ji+lfs5YD+bcbEiRPdv8QYNWoU/xIDXmkyeErwKbMd26SOVa1cMRjLXFd1PNhtK+CL/Px8d+7My8tz/1Q8Ozs7SPETwQ9QDpSX4Ke8eKj3Udb5sIbBGLDnI/jZEbe9AACAVwh+AACAVwh+AACAVwh+AACAVwh+AACAVwh+AACAVwh+AACAVwh+AACAVwh+AACAVwh+AACAVwh+AACAVwh+AACAVwh+AACAVwh+AACAVwh+AACAVwh+AACAVwh+AACAVwh+AACAV1Ia/MRiMSsoKLD8/Hw36LOmRUXnSZYOAACQTikNfsaNG2fdu3e3Fi1aWKtWreyPf/yj/ec//9ke4GzdutXeeecd69atmzVt2tTatm1rTzzxhK1Zs8alAwAApFtKg5/ly5e74Cc3N9cmT55s++67r/3pT3+yn376yaV/8803du+991rjxo1t0qRJ1rt3bxf8vP7667Zt2zY3DwAAQDqlNPi5+uqrrV+/fta6dWtr2bKl3X777bZkyRIX9Og219y5c+3HH3+0yy+/3I4++mg777zzrHnz5vbBBx/YqlWrgrX8QgGRbo2FAwESAADYVWnt8Pzxxx9brVq1rEGDBrZp0yb7+uuvrWbNmtasWTOXrjS1AqnFKGwdivryyy9dC5KGl156yd1CAwAA2BVpC35mzZpl99xzj1100UXWqFEj13Kzbt06y87OdkOoevXqri+QhkRax5gxY9wwduxYmz59epACAABQOmkJftTi89e//tUOPfRQGzRokJuWlZXlgp7wSbCQgp6KFSu6IZH6Cz399NNueOqpp+zKK68MUgAAAEon5cGP+u8MGzbMfv3rX9vQoUPdrS1R4KMWoLVr17p+QLJx40ZbunSpm2fvvfd206IqVapkVatWdUO1atWsSpUqQQoAAEDppDT4mTlzpnuaq3bt2jZgwAAXtOhWl1p6FLjoEfjKlSu7J70WLlxor732ms2bN891kK5Tp06wFgAAgPRJafCjW1Ovvvqqe6rrjjvusCuuuMIGDhzoOirrtpc6OutW1ltvvWU33HCDPf7443bEEUfYySef7AIlAACAdEtp8HPOOefYI4884lp9zjjjDOvSpYt17tzZ9ttvP5deo0YN69mzp11zzTUuCLr00kvtkksusQMOOMClAwAApFtWrJz8fwk9LTZx4kT3AsVRo0bRUgSvNBk8JfiEVHio91HW+bCGwRiw51P3E5078/LyLCcnZ4enrn2Ulqe9AAAAMhXBDwAA8ArBDwAA8ArBDwAA8ArBDwAA8ArBDwAA8ArBDwAA8ArBDwAA8ArBDwAA8ArBDwAA8ArBDwAA8ArBDwAA8ArBDwAA8ArBDwAA8ArBDwAA8ArBDwAA8ArBDwAA8ArBDwAA8EpWLC74nNEKCgps4sSJlpuba6NGjbKqVasGKUDpzPlhjfV6+L1gLLOt35wffEIqPNT7KOt8WMNgDNjz5efnu3NnXl6e5eTkWHZ2dpDiJ1p+4K1t8bBfQUV5GAAAqUPwAwAAvELwAwAAvELwAwAAvELwAwAAvELwAwAAvELwAwAAvELwAwAAvELwAwAAvELwAwAAvELwAwAAvJLy4Gf+/Pl23333Wd++fe33v/+9zZw5M0gxW7x4sQ0ePNhND4eLL77YZs2aFcwBAACQXikPflauXGk///yzHXHEEfbaa6/ZihUrghSz9evX2zfffGNNmjSxq6++2g3nnXeeNWrUKJgDAAAgvVIe/LRp08b+/Oc/24ABA6xSpUrB1F9UqVLFWrRoYaeddpob2rZta3Xq1AlSAQAA0ivlwU/VqlVdMLPPPvsEU3a0evVqGz58uB1zzDHWu3dv1zq0devWIHVHmzdvtrVr124fNm7cGKQAAACUTpl2eK5du7adf/75NmrUKMvJybF69erZkCFD7N///rfFYrFgrl/85S9/sbp167qhfv361r9//yAFAACgdMo0+FGwc9ZZZ7nbXSeffLILbnSb7O2337Yff/wxmOsXN910k5uuYdmyZfboo48GKQAAAKVTpsFPoho1argWnTVr1tiGDRuCqb/Izs52t880aN7q1asHKQAAAKWT8uBn27Ztrq/Opk2b3PiWLVvcZ/Xr0XQ9DaZxDXosftGiRa6P0F577eXmBwAASKeUBz/q0Pziiy/aM888YwUFBe6W1vjx4927fObNm+c6O0+YMMENI0aMcK0+p5xyiusPBAAAkG4pD370jp9XX33VXnjhBevUqZMtWLDAJk+ebHPmzLFq1aq5FqCXX37ZXnnlFdfic8stt9hJJ51kFSrs1jtwAADAE1mxZI9ZZSC1Ik2cONFyc3Pd02J6pB7YFZ8vWWNd7p8ejMEnD/U+yjof1jAYA/Z8+fn57tyZl5fnnrZWn1qf0dwCAAC8QssPUk4tKv+esywYy1zL12y2p99fGIzBJ7T8wDe0/OyI4Acp9+yH39kNz30ajAGZh+AHviH42RG3vQAAgFcIfgAAgFcIfgAAgFcIfgAAgFcIfgAAgFcIfgAAgFcIfgAAgFcIfgAAgFcIfgAAgFcIfgAAgFcIfgAAgFcIfgAAgFcIfgAAgFcIfgAAgFcIfgAAgFcIfgAAgFcIfgAAgFcIfgAAgFcIfgAAgFcIfgAAgFcIfgAAgFcIfgAAgFcIfgAAgFcIfgAAgFcIfgAAgFcIfgAAgFcIfgAAgFdSHvysXr3aZsyYYZMmTbKxY8fa999/H6T815o1a2z69Ok2fvx4y83NtXnz5tnWrVuDVAAAgPRKefAzf/58F9g899xzdsEFF1heXl6QYrZu3TqbMmWK5eTk2OTJk23MmDH2wAMP2JdffmmxWCyYCwAAIH1SHvzUr1/fevToYUOGDLFKlSoFU//ru+++s2effdbatGljt912m1199dW2cOFCmzZtmq1duzaYCwAAIH1SHvw0atTI2rVrZ61bt7asrKxgqllBQYELdFatWmVdu3a1Aw880Nq2bWtHHnmka/lZvnx5MOcv8vPzbdOmTduHLVu2BCkAAAClU2YdntWv54cffrAqVarY/vvv76ZVrFjRGjZs6G6HrV+/3k2Lev75561///5uGDBggD3yyCNBCgAAQOmUWfCzbds227x5s1WoUMEqV64cTDX3WWlqGUrUvHlz69Klixs6derkWokAAAB2RZkFP2rlqVGjhmsBirbybNiwwQVA0YAodNhhh9mZZ565fTj++OODFAAAgNIps+BHt7vUH0j9eL766is3TX149HRYzZo1rVatWm5alFqJ1Gk6HBRAAQAA7IqUBz/qmKx393zxxRfu8fVFixbZnDlzbMWKFda4cWNr2rSpPfroozZz5kz3HqD333/ftejsu+++wRoAAADSJ+XBz9y5c61bt272m9/8xvXxuf766619+/Y2cuRI1/Jz7bXXuj4+PXv2tOHDh9vZZ5/t+vQku+0FAACQaikPfg4//HDX6qMnuNTys3HjRvcY+9ChQ91tLL3jZ9y4cbZ48WKbPXu2XXnllVanTp1gaQAAgPQqsz4/AAAAmYDgBwAAeIXgBwAAeIXgBwAAeIXgBwAAeIXgBwAAeIXgBwAAeIXgBwAAeIXgBwAAeIXgBwAAeIXgBwAAeIXgBwAAeIXgBwAAeIXgBwAAeIXgBwAAeIXgBwAAeIXgBwAAeIXgBwAAeIXgBwAAeIXgBwAAeIXgBwAAeIXgBwAAeIXgBwAAeIXgBwAAeIXgBwAAeIXgBwAAeCUrFhd8zmgFBQU2ceJEy83NtVGjRlnVqlWDFGSaZz/8zm547tNgDMg8D/U+yjof1jAYy2xjZy60lz79IRjLXCce/CsbeMrBwRgyTX5+vjt35uXlWU5OjmVnZwcpfiL4QcoR/CDTlafg546X59ijb88PxjJXtyP2s7+dfWQwhkxD8LMjbnsBAACvEPwAAACvlHnwo7ts27Zt22EoJ3feAADAHqBMg59FixZZnz59bK+99rK6deu6oWXLljZ16tRgDgAAgPQq85afvffe2y6//HL76quv3PDee+9Zx44dg1QAAID02i23vdavX29Lly61VatWWVZWllWqVClI3ZHm1VNe4aBbZAAAALuiTB91X7x4sY0YMcLef/99q1GjhlWsWNFOOOEEO+ecc+yAAw5wgVDUnDlzbN68ee6zAp93333XrYNH3TMbj7oj013dsZkde2CdYCyzPfP+IpvyWea/54dH3TMbj7rvqEyDn3Xr1tncuXNdS0+1atVcEKQf449//KNddNFF7pZY1NixY927fUSbuWTJEmvWrBnBT4Yj+AH8Q/CT2Qh+dlSmt70U3Bx99NF2+OGHW/Pmze3ss8+2tm3b2uzZs2358uXBXL9Q+rhx49zw9NNP21VXXRWkAAAAlE6Z9/mJqlChglWpUsVFpOrTk0gtRGrh0aCWIs0LAACwK8o0+Fm9erVNnz7d9dtZtmyZvfnmm/bRRx9ZkyZNrE6d8nH/HQAAlG9lGvysXLnSRo8ebTfeeKMNGTLEHnvsMTv44IOta9euVqtWrWAuAACA9CnT4KdBgwbWt29fF+x06dLFdXK++uqrrXXr1u7JLwAAgHQr0+BHj7d36NDBevToYT179rTTTjvN3fIq7D0/AAAAqbZbOzwDAACUtTJ9z8+u0NNgeudPbm5uyt/zc9Uzefb5kjXBGHbVmk1bbcXazcEYAB/snV3JGtTI/PevNa5T3UZfeGww5g/e87Mjgp+4niNn2H8Wrg7GAAB7qqb19rbXrmsfjPmD4GdH3PYCAABeIfgBAABeIfgBAABeIfgBAABeIfgBAABeIfgBAABe4VH3OB51BwA/1K9R1YZ0ahmMZbY/Hvnr4NOu41H3HRH8xBH8AAAyzYK7ugSfdh3Bz4647QUAALxC8AMAALxC8AMAALxC8AMAALxC8AMAALxC8AMAALxC8AMAALxC8AMAALxC8AMAALxC8AMAALxC8AMAALxC8AMAALxC8AMAALxC8AMAALxC8AMAALxC8AMAALxC8AMAALxC8AMAALxC8AMAALyyW4Kf77//3nJycuzss8+2fv362UsvvWTr168PUgEAANKnzIOflStX2pNPPmlvvPGGtWvXzho2bGj333+/vfPOO5afnx/MBQAAkB5lHvx888039uGHH1rXrl3t/PPPt2uvvdYaN25sr776qguMAAAA0ikrFhd8Tjt91eTJk11Lz7Bhw+zII4900x988EF766237LbbbrOWLVu6abJ582bbsmWL+1xQUGDPP/+8vfLKK27+qlWruump0Pux923Wdz8FYwAA7H6f33p68GnX6c7KU089ZV9++aXrdpKdnR2k+KlMgx8FMuPGjXPDQw89ZE2aNHHTNa4f5a677rI2bdq4aTJ06FC755573Gdt5rZt29xQqVIly8rKctNTYUv+Nrd+AAAyRXblisGnXadznBoRdMdl+PDhVqNGjSDFT7st+FHrzYEHHuimFxb8qOVHQ0ift27danvvvXcwJTMpS3Vr76abbrLc3FyrVq1akIKoJUuW2GmnnWYffPCB7bXXXsFURK1du9YaNWpk3333ne2zzz7BVIQ2bNjgytAjjzxihx56aDAVUZs2bXInPD1ccuqpp1qFCjzkm0jnpiFDhtghhxzi8koX2HsinT8rVqxoNWvWTGkDQnm0W257/f3vf3ctOsXd9iqv1DqlE/p1111n//rXv6x69epBCqIWL15sJ5xwgs2ZM4fgpxAKflRR/fzzzwQ/SSj4adu2rY0ZM8Zat27tfYWezMaNG+1Pf/qTXXbZZXb66ae7kx92pAtr9T897LDDrH///nts8INflOklgCqmBg0auJabjz/+2D3evmrVKsvLy3NXt7Vq1QrmBAAASI8yb/9s2rSpHXPMMa4FSI+8jxgxwjXp/+53v7Nf/epXwVzlm4K8KlWquECPK9HC6Qp0v/32I4+KoLzRhQF5lJzyZd9997XKlSsHU5BIeaS6VQ+JUI6SU77Url2bFmiPVPx/ccHnMqFbQAcddJBr9ZkxY4ZrbtQ9Vr3zJ5VPcO1uCn5+/etfW7NmzbjHXgjli97z1KpVK/KoEKqUlUfqC8ftiv8rPLGrDNG3LjnlUZ06daxFixbu1ikB0P+lPFEH4IMPPtjq1q1LHnmgTPv8AAAA7G5cbgMAAK8Q/AAAAK8Q/AAAAK/Q56cYehHf2LFj3V+9HVOdmPWiMHVAVadmWbp0qT377LPuteF6J8vvf/97O/nkk12a6H+W/fvf/7b333/fvT9CaergHb63JXz/0ZtvvuleQnXEEUdYjx493NMHomkfffTR9v9/pk7UvXr1yognpbTt+i/9U6ZMsa+//tq9LExv7taL5/TSubAjs7b7hRdesE8++cS9Vr1jx47WqVMnlyZ6n43+2e3bb7/t3pN0/PHHu3nU+TCkPNR7k9asWeM6uJ577rnbnxDUq9u/+OILl48//PCDHXDAAdatWzfXgTETOlMrf2bNmuXebaT8GTRoUJDyX3pfjd51pTKgl9KpDPTs2XP7W1iVJ1pe/+Jl9erV1rx5c+vSpYt7ejI0e/Zse/nll23hwoVWv359O/vss10nV9HvtGLFCps4caJ7r5LKqX4j5XN5fs298kR5q3xVx/A+ffpsf3lqeffTTz/Ze++9594ZtmzZMnc86D094Ute9ZvqJao6ZlT+jz76aFfmw1eGqN5QnTNt2jT3ShGVhTPPPHOHp1B1zOolszpm9FShjsnDDz/cpcmCBQtc/qpuU32l9R977LEZcUzpOJg6daor96oT6tWrZx06dHBPE4ed35UvL774ok2fPt3VTcojvfMozEM9cPOf//zH/dsk5bfeM6d9VD0f5tFXX31lzzzzjKvn999/fzvjjDN2eBmv8kjHXXhcKV3vsAvPD8hMZf60V3nz448/usBDFYMOLh0I+g/0qmAVfOjgufnmm+2zzz5zlYJO4v/85z/dyUnLrFu3zp1wJk2a5E56OonpQNFJW+MKhnTg6QWPesGWTvY6yasy18vbVMmoAhs5cqRbVid1VXbffvutHXXUUbv9CRdtk7ZPJ25tm066qgRUYWtcjyGr0tHr1JVvCoi0jN7Iq8BE+ag8VAX98MMPuzzTU3/KA1GFrceYFRTceeedrvJRvikIUqUXvrFWlfPf/vY393spONS7oz7//HP3xtZMeH+UTjCqrOfNm+eCtAsvvDBI+e9J7KWXXnJvOdfvr7Khk5ryRUGQnvJSBauXsClQUZ5p/7QelRmdlPQPg++77z53klPZU35oHZ07d3b5qXKpfymjAFMVt/JJearfq7wGC9rHv/71r658qZx8+umnLsD+wx/+sEf83yIFqzNnznQXDjrmdaz/5je/2f7SVJWZ22+/3QUrOunqmFi+fLkLaHVM6Hj7xz/+4T7rn0e//vrrtmjRIldPKX9UN11xxRXuBZo6LhUIKdhSXqoMal06pnQ8q0xpXBd5qpeiFyW7i+rIp59+2pVh1QsK4FSPqM5RHaHgZcKECa7ca/80n44J5edJJ53kjjvV7fpfk6K6R0GSLnRVb+ixd82rl0OqjOlYUx699tprru7Vxam+89FHH3XHo/JIAZLqdwU/ykOeGstg8QKAIsSvwmPxgyEWP3nE4pVFLH7CiMWvvmLxK4FY/CTuxuMHVix+UnHzxCuXWPyKO3bxxRe75eMn6Fjfvn1j8UoqFq/MYvGDJXb55ZfH4gdU7LvvvnPr0Po0Tenxk1csfkDHTjjhhNgnn3zi1nnHHXfE4le0sfhVbix+dRKLB1Ox+MEX+/DDD2MFBQXue3YXbX+8UozFg8JY/OTutjdeAcV69eoVGzVqlJsnHgjF2rVr5/JM88SvYl2exK+wXHq8Eov1798/dtVVV8XilYdbXzwmj5133nku//Qd559/fqxfv36xhQsXuu+IB0expk2bxuInh9jGjRtjo0ePjnXp0iU2Y8YMl0fxK8JY/CowFq/sYvErYPc9u9P8+fNj8QAlFg9yXV5EqXypvAwaNMjtn8pAPJCJxa9gY/HK181zzz33xOInnVg8CHL7Fw+mXf6pLEg8cIz16NEjFj/BxeInM/d7xIPA2BNPPOHyLx4oxOJXvbF4gOV+g/gJzeX54MGD3feVR/fee6/b53jwHYtf+bt9jJ/4XDnbE6hc69j4/vvvY717947dcMMNro4Q/aYnn3xybODAgW6ayomOgfbt28fiF2IuP2655ZZYPMh24yoz8cAlFg983biWjwcGsYMOOigWD6JdmVFd1rNnz1g8GHDf8eKLL24vY1peZVPr13ozgepjbbv2X3WCyvy5557r6lptr/IvfnEUu/HGG12domk6HpQH8YtHdxyoblV9rbKjcR0fqjdUryiPHn/88Vg8GIzFL1rcd6isderUKRYPCt02xAMdVwbHjh3rltd6TzvttNjdd98dW79+vZsHmYk+P8XQFZKa09VMqhaI+IHmovnwfRlq4dBVla6mNY9ag/TCRl1R6FaGmqt1lX3ccce5KwFdlehfOuhKPn4wuqspXbHqNpbSdTWhplmtS9P1ffETp2uO1dWLrvDU9K0WI6WrWXd3Uh6oRUytLWph0XbrqlBNvrpNKNpObbeuUDWPrsDU/P7uu++6q081WatFRFdjapLX+nR1qum6ClP+qRVHrTzhb6F0fVb+az5dnerKTU3e+q7f/va3bju0nN4ptbupdUVXp8n+1YmuxuMVpytDmkdlQE3n+u2VL6JWGuWPWtO0f7oK1btb1PqhfFYrmMqhyolulen3UAuAbpWG6boNoluy+g2Urn8HoatnXa2WN9onXW3r9qdaEHU8qsVCx5ZaOPYEarFTfaJbMInvQFO9olvIuoWjekNlXa0Rmk9lXulqHVadoTKhMhPeZtatQuWfWlfVshiWGeWl3sGmY0mtjvqrshjWOypfp5xySsbkr1pmtM3af9UJqjfUOhYPWly6WkNVz3bt2tXNo33QrUOlK+/USqp0rSOsv9QlQXWajju19qilVC1dKmP6Dv3VcaP/3aj1KI9VFyvvtbxanFQ3qWzq9jUyF8FPCehAiF+Zu0Kv21NqVteJSNTsqZN5+L9gdODoJKwTrk7aCoBUkehEFdL88asIN12VlP7qoAmpAtOBqsBIwYEOIh1Y4XfoINS4TlphgJEptL9qOtf+6wQtajpW5Rq9FaFgQPulE7wqGQWCypeQKl2drLUeLa/16iQQvuhPgagCJQVHWo8CIC0TvulXQYbySBWc8jeT6baDyo1+87AvhfZVnxWciPpVqVyFVPFrUL6pLGkdKmPR26AKlFS5q5JWPiktvF2hfFT+KI+1fHmjcqF91gkv2rdC5UpvjN/T6djXcROtN/T7KgjUMaXfVL+tylRYbyhNv7nKQvzC1wXdCmhU9iQsHzqWtLyOHdVF0bcea/5MzF/tjy4QtG3hrWDVrSr7ukgK91H1guoJ1duqUzTouAmPuzCA0rLKPx132ueQyprmUd6oDOr40zqVzyEFrPoNMq1uxo68DX7Uz0ZXiToQkg26ilTHUdFJ54YbbnD9VNTqog6AunIQFfDwwAmFJ2gdeDooNUTn0edweniAJL69VwdruHw4HqV1pPvgUhCj/U2WP+Gge+AhVcbK1+eee8617KgVRrQf2t7oPoT7q30I8yKaB2F+abqWl8Q80jyF5bGEeZguuupTB9tk+RIOukou7nfStks0f8J9CZfV3+j+a95w/8I8CKeFNH+4vOZRWjSPwnnD7y9Pwn3W/hS2z3uycB8TjwnlRbRMJB4TGleaJCtTYbqWDeeL5q/SMzF/1Yqsvjfq8KzWqeh+FpYH2sfEPNLnMA+VlphHEi4fDpo/MY80HZltx1LhEd0WUcdkneCTDQpwFMGLrn7U3KkmUXVu1q0rndQU9etKSX/Dwq4DRlG/rrZ0RaHWDl0tRK+udcWqqwW1Uqg5VgeLrjRCupWlqwpdpekqRAefxkM6IMMr/eiBm2pqElfAlyx/wiG8KtJVkprRhw0b5p7C0hBWGroq0hWW5glpf1Vh6CpK+aDWLOVjSC1eykPlvYIIzaMWoDCf9Ve3ipT/yl/lk65YQ0pXnusKMGwNSjXdorr77ruT5ks46HZnYuWZSFfWKjfKo5CuLPU7q3VLlE/a/5BauzQo35S/Kk/a/2grl1oOVVZVRlTONL/yNaQypd9Ay5Y32m/95iozieUq2oK4p1J50G+n3zikekNlKCwP+t2jZSqsN3TMaFmVrejyungJ6yblr1prlbfRMqUymGn5q1tQehhCnYzVOTlshVH9qONK+6S/onpBZSasmzUk1s3aX6Wr/lE+qz4PKY81j+qVcNB/zU88dlV3p7Nuxq7z9tfRwa0mct3vTjYo2FHh18GvSkEVhwYVdE3TwaRBB5yeutEtrjBdTz7pPrIODJ109Ff34cN16T/aqylWB6lOoLo9oRYTpWtQc7SaZcMnFDSPbr2pCVYHn56u0gGr707XiV10ctG2JcufcFDgoX3SExC33nqr9e7d2z3JFOaPKC90+0b7FOaBgks1TysP9FsoiNIjp0rTPMpTBT6qoHUC13bo6RVVMspnNd3PnTvX9Y/SOnTPXvmm+/zKI7XM6USopza0/nRQ3uv2VLJ8CYfwloEqXW13mC/6HAZy+n1VCasVTb+rtl9lSPuvdYj67+iJHwUwSlfzvk5EetRdwZX2X9PCW6EKbLSO9u3bu3T1t1LeKiDT8jrp6clFlU/lb3mjY1PlSmUgPPa0zyqHJ554YjBX+ReWG/2NflZrtG556TgKjym1VKtMKF9Uv+jiTfmjY0W/uf6XovJI/VNUJnQBqPKgoFnr1XxqzVSZ0rGvv8rbsN5RUKA+MGoxzwTKB/Wt/Mtf/uKOk2uuucbVtWG9o9Z7BXoqE9p27YP6O+kCQMeDAhyVfeWRAhalq25WHaPjScef9lW301SvK490waW6XHWXghv9Dlq3jl0tr/nUD1G/QfQ2PzIPj7oXQScanXDUyqOTkgq43vmjE/NZZ53l+gDppK0KQScanYTV+qHbPoMHD3YHkCoRnfT1PgodrKpsVGGpo6IeW9UJVAdZTk6Oa+FQH40HH3zQBT79+vVzV2Gq3PQYq9ajikqPhCtw0zak68ReUtonHewDBgxwLUXdu3d3J2BVpKocVBmpglEHQFVCCpaUB3r8VEVPwYmmKa/1WKrWp9cG6JFl9avSbbfwCm306NGu0taVlx7xVdBw3XXXufzTlax+A1VkOhGMGTPGrVf5HLae7E7aJwV3OgGpHOnEpYpUv7muLvVZ5UInJwUxDzzwgHuPjzrP60SvIGvUqFHb+3OMHz/e5e8FF1zg1qF8VhlT+VElrUecdTLUKwYUgGkdOrFpHpVJPRKsK2Z1tA9vT5Y3apnQKyQUyOnEo8eyVfb0yH95bM1KpGNCnY51Qla9ohOryrrKt8qMftcRI0a4k7jKlFppdVI/77zzXJqW1++sMqPWDtUrChL0/qcwuNGj66rPdPzoMXBdpKjeUeCkcqXbSQoYRO+YUiCgVpZMCJh1oaPXP6h+1EWX9lf1jsa1/9pHBSaqN1RWdHGklloFx/pn2kpXoKRjQgGejsEnn3zS5Ys6Sas+13GqaXroRMebjjtdiKre0YWp1qG6TUGY6LUmyi9tly7YlK/ITAQ/RdCBoYNJB71elKUTlw6IK6+80l01KXDRoKcBdHLTbTQFKH/+85/di7JElZUCFZ3UtB4dRDpQla4TlugpH1XWqohU2Wh9egmeDlhRgKUrGAVhqsx0RaN0nfx398GlE63ejaEKQJWs3nGhk7gGVZ66ylQe6a8qHwU4qjwGDhzo8kGUropCf3Uy05NJejJFt86036JKW/mhPFQrmQLPO+64w32H6GSgfFL+KV0Vk34HBZGZ0Pys9zSpT4JOzgrgFDDrswIPNZErUNZ0vbtFwaH6LWj7wzKiE5wCReWvgkjll/IwbBlSgKdpahXUSUx5edddd7n1isqhypnKn/JQJ0MFTnoPkOYtj3SC1j4r6FWwrAsBvbMl2gm4PNPJWO+xUdlRa4TGVQfpAkgncLUGKsBXvaELkHbt2rnWj7DeUD6ovtKFk8qMyo8uylRWVG/ogkLrUP6p3OlErrotbNnRelTX6IlCHZcqMzfddNP294/tbgpY9PJBBYWqG8N6RwFP2OKrekf1uN6zpQtZHVc33njj9gsmlSHVHQoudUxqOR1Xyjul6/jT/qre1TlAeaa6N7xg0LGr+l2BmI4rtSpdf/317nZ3eT2ufMEbngEAgFfokQUAALxC8AMAALxC8AMAALxC8AMAALxC8AMAALxC8AMAALxC8AMAALxC8AMAALxC8AMAALxC8AMAADxi9v8B1NCMUgJyeUkAAAAASUVORK5CYII=)  \n",
        "![image.png](data:image/png;base64,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)  \n",
        "![image.png](data:image/png;base64,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)  \n",
        "![image.png](data:image/png;base64,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)\n",
        "2. 有改動的層數下: \n",
        "  第一層是18bit width  \n",
        "  第二至四層是16bit width\n",
        "  第五層是14 bit width"
      ],
      "id": "4892fb04"
    },
    {
      "cell_type": "code",
      "execution_count": 116,
      "metadata": {
        "id": "80d07474",
        "colab": {
          "base_uri": "https://localhost:8080/",
          "height": 1000
        },
        "outputId": "b0330747-4140-41bd-d42f-adb0f9d15e8f"
      },
      "outputs": [
        {
          "output_type": "stream",
          "name": "stdout",
          "text": [
            "bit: 32\n",
            "bit-width range: (-2147483648, 2147483647)\n"
          ]
        },
        {
          "output_type": "stream",
          "name": "stderr",
          "text": [
            "/usr/local/lib/python3.9/dist-packages/numpy/lib/histograms.py:852: ComplexWarning: Casting complex values to real discards the imaginary part\n",
            "  indices = f_indices.astype(np.intp)\n",
            "/usr/local/lib/python3.9/dist-packages/matplotlib/axes/_axes.py:6793: ComplexWarning: Casting complex values to real discards the imaginary part\n",
            "  bins = np.array(bins, float)  # causes problems if float16\n"
          ]
        },
        {
          "output_type": "stream",
          "name": "stdout",
          "text": [
            "min: (-80999+0j) max: (73170+0j) standard deviation 17456.034507099987\n"
          ]
        },
        {
          "output_type": "display_data",
          "data": {
            "text/plain": [
              "<Figure size 640x480 with 1 Axes>"
            ],
            "image/png": "[encoded data removed]"
          },
          "metadata": {}
        },
        {
          "output_type": "stream",
          "name": "stdout",
          "text": [
            "min: (-81440+0j) max: (38512+0j) standard deviation 17895.05284801483\n"
          ]
        },
        {
          "output_type": "display_data",
          "data": {
            "text/plain": [
              "<Figure size 640x480 with 1 Axes>"
            ],
            "image/png": "[encoded data removed]"
          },
          "metadata": {}
        },
        {
          "output_type": "stream",
          "name": "stdout",
          "text": [
            "min: (-33040+0j) max: (25060+0j) standard deviation 10542.347347075454\n"
          ]
        },
        {
          "output_type": "display_data",
          "data": {
            "text/plain": [
              "<Figure size 640x480 with 1 Axes>"
            ],
            "image/png": "[encoded data removed]"
          },
          "metadata": {}
        },
        {
          "output_type": "stream",
          "name": "stdout",
          "text": [
            "min: (-25602+0j) max: (28150+0j) standard deviation 12630.589792981395\n"
          ]
        },
        {
          "output_type": "display_data",
          "data": {
            "text/plain": [
              "<Figure size 640x480 with 1 Axes>"
            ],
            "image/png": "[encoded data removed]"
          },
          "metadata": {}
        },
        {
          "output_type": "stream",
          "name": "stdout",
          "text": [
            "min: (-32939+0j) max: (7843+0j) standard deviation 11814.286851096853\n"
          ]
        },
        {
          "output_type": "display_data",
          "data": {
            "text/plain": [
              "<Figure size 640x480 with 1 Axes>"
            ],
            "image/png": "[encoded data removed]"
          },
          "metadata": {}
        }
      ],
      "source": [
        "import matplotlib.pyplot as plt\n",
        "n_bit = 32\n",
        "number_range = (-(2**(n_bit-1)), 2**(n_bit-1) - 1)\n",
        "print(\"bit:\", n_bit)\n",
        "print(\"bit-width range:\",number_range)\n",
        "\n",
        "psum_range = {\n",
        "    'c1': number_range,\n",
        "    'c3': number_range,\n",
        "    'c5': number_range,\n",
        "    'f6': number_range,\n",
        "    'output': number_range\n",
        "}\n",
        "\n",
        "model = LeNet(psum_range)\n",
        "\n",
        "image = np.expand_dims(testset[0][0], axis=0)\n",
        "_ = model.forward(image, psum_record = True)\n",
        "\n",
        "# TODO\n",
        "# Plot the distribution of partial sums of each quantized layer in the CNN\n",
        "plt.figure(1)\n",
        "C1 = model.psum_record_dict['c1']\n",
        "plt.hist(C1)\n",
        "print(\"min:\",np.min(C1),\"max:\",np.max(C1),\"standard deviation\",np.std(C1))\n",
        "plt.show()\n",
        "plt.figure(2)\n",
        "C3 = model.psum_record_dict['c3']\n",
        "plt.hist(C3)\n",
        "print(\"min:\",np.min(C3),\"max:\",np.max(C3),\"standard deviation\",np.std(C3))\n",
        "plt.show()\n",
        "plt.figure(3)\n",
        "C5 = model.psum_record_dict['c5']\n",
        "plt.hist(C5)\n",
        "print(\"min:\",np.min(C5),\"max:\",np.max(C5),\"standard deviation\",np.std(C5))\n",
        "plt.show()\n",
        "plt.figure(4)\n",
        "F6 = model.psum_record_dict['f6']\n",
        "plt.hist(F6)\n",
        "print(\"min:\",np.min(F6),\"max:\",np.max(F6),\"standard deviation\",np.std(F6))\n",
        "plt.show()\n",
        "plt.figure(5)\n",
        "OUT = model.psum_record_dict['output']\n",
        "plt.hist(OUT)\n",
        "print(\"min:\",np.min(OUT),\"max:\",np.max(OUT),\"standard deviation\",np.std(OUT))\n",
        "plt.show()"
      ],
      "id": "80d07474"
    },
    {
      "cell_type": "code",
      "execution_count": 117,
      "metadata": {
        "id": "d1d17e5f",
        "colab": {
          "base_uri": "https://localhost:8080/"
        },
        "outputId": "38cbc931-862a-4527-b9d3-5bb281d65835"
      },
      "outputs": [
        {
          "output_type": "stream",
          "name": "stdout",
          "text": [
            "Accuracy: 98.28%\n"
          ]
        }
      ],
      "source": [
        "# TODO\n",
        "# Test your model with those Bit-widths you choose\n",
        "n_bit = 18\n",
        "number_range1 = (-(2**(n_bit-1)), 2**(n_bit-1) - 1)\n",
        "n_bit = 16\n",
        "number_range3 = (-(2**(n_bit-1)), 2**(n_bit-1) - 1)\n",
        "n_bit = 16\n",
        "number_range5 = (-(2**(n_bit-1)), 2**(n_bit-1) - 1)\n",
        "n_bit = 16\n",
        "number_range6 = (-(2**(n_bit-1)), 2**(n_bit-1) - 1)\n",
        "n_bit = 14\n",
        "number_rangeo = (-(2**(n_bit-1)), 2**(n_bit-1) - 1)\n",
        "psum_range = {\n",
        "    'c1': number_range1, #18\n",
        "    'c3': number_range3, #16\n",
        "    'c5': number_range5,  #16\n",
        "    'f6': number_range6,  #16\n",
        "    'output': number_rangeo #14\n",
        "}\n",
        "\n",
        "model = LeNet(psum_range)\n",
        "\n",
        "_ = test(model, testloader)\n"
      ],
      "id": "d1d17e5f"
    },
    {
      "cell_type": "markdown",
      "metadata": {
        "id": "f718967b"
      },
      "source": [
        "## 4. Evaluation: Energy Model\n",
        "### 4.1 Question: Evaluate these two approaches based on the following energy model:\n",
        "$$E_w = s_{mul}\\times N_{mul} + s_{add}\\times N_{add},$$\n",
        "$$s_{mul} = \\alpha\\times \\left(\\frac{B_{mul}}{8}\\right)^2,\\ \\alpha = 64,$$\n",
        "$$s_{add} = \\beta\\times B_{add}, \\ \\beta=1,$$\n",
        "The variables $N_{mul}$ and $N_{add}$ represent the number of multiplications and additions in your dataflow, respectively. It's possible to calculate the $N_{mul}$ and $N_{add}$ of each layer by hand. The variables $B_{mul}$ and $B_{add}$ denote the bit-widths of multiplier and adder, respectively. The constants α and β are provided to model the energy scaling factor of multiplication and addition, respectively. Additionally, $s_{mul}$ represents the energy cost per multiplication, which is proportional to the square of the multiplier’s bit-width. On the other hand, $s_{add}$ denotes the energy cost per addition, which is linearly proportional to the adder’s bit-width. For instance, in our estimation model, a 4-bit multiplier has an energy cost per multiplication of 16, which is computed as 64 x (4/8)^2.\n",
        "* You must accumulate the energy layer by layer to obtain the overall $E_w$, if each layer has a  different $B_{mul}$ or $B_{add}$.\n",
        "* We only consider convolution and fully-connected operations, ignoring pooling and ReLU operations in this energy model.\n",
        "* Disclaimer: Note that this energy model is artificial and oversimplified. DO NOT apply it to your research work.\n",
        "\n",
        "1. Calculate the overall $E_w$ with minimum bit-width for the setup of 3.1.\n",
        "2. Calculate the energy layer by layer and also the overall $E_w$ for the setup of 3.2."
      ],
      "id": "f718967b"
    },
    {
      "cell_type": "markdown",
      "metadata": {
        "id": "5168ea53"
      },
      "source": [
        "### 4.1 Answers\n",
        "<font color='red'>Write your answers here.</font>\n",
        "1. 設定X = N*out_channels*(((H-kernel_size)/stride)+1)*  \n",
        "(((W-kernel_size)/stride)+1)*(kernel_size**2)次   \n",
        "我在convolution(Conv2d)的乘法運算次數是X * C次，而加法次數則是X * (C+1)次。\n",
        "而在fully_connected layer的乘法次數是H*C*W次，而加法次數基本上是H*W*C，但output layer時會加10次做weightsBias。    \n",
        "convolution做了三次X分別是  \n",
        "4 32 32 6 28 28 25 1  ->4*32*32*6*28*28*25  =481,689,600次  \n",
        "4 14 14 16 10 10 25 6  ->4*14*14*16*10*10*25*6=188,160,000次  \n",
        "4 5 5 120 1 1 25 16   ->4*5*5*120*1*1*25*16 =4,800,000次  \n",
        "而fully_connected layer做了兩次H,W,C分別是  \n",
        "4 84 120           ->4*84*120       =40320次  \n",
        "4 10 84            ->4*10*84       =3360次  \n",
        "在這題我們用了18bit width，Smul=64*(18/8)*(18/8)=324,Sadd=1*18=18\n",
        "Ew=(481,689,600+188,160,000+4,800,000)*324 + (40320+3360)*18=  \n",
        "674,649,600*324+786,240=218,587,256,640 \n",
        "\n",
        "2. 使用上一題的資料和3.2得到的五層分別是18,16,16,16,14 bit width\n",
        "->324*481,689,600+64*4*(188,160,000+4,800,000)+40320*16+3360*14=  \n",
        "205,465,882,560"
      ],
      "id": "5168ea53"
    }
  ],
  "metadata": {
    "colab": {
      "provenance": []
    },
    "kernelspec": {
      "display_name": "Python 3 (ipykernel)",
      "language": "python",
      "name": "python3"
    },
    "language_info": {
      "codemirror_mode": {
        "name": "ipython",
        "version": 3
      },
      "file_extension": ".py",
      "mimetype": "text/x-python",
      "name": "python",
      "nbconvert_exporter": "python",
      "pygments_lexer": "ipython3",
      "version": "3.8.12"
    }
  },
  "nbformat": 4,
  "nbformat_minor": 5
}