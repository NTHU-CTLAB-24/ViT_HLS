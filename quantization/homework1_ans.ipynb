{
  "cells": [
    {
      "cell_type": "markdown",
      "metadata": {
        "id": "zTvIwDlYvBzC"
      },
      "source": [
        "# HW1: LeNet-5 with Post-training Quantization and Quantization Aware Training\n",
        "[LeNet](http://vision.stanford.edu/cs598_spring07/papers/Lecun98.pdf) is considered to be the first ConvNet.\n",
        "We are going to implement a neural architecture similar to LeNet and train it with [MNIST](https://en.wikipedia.org/wiki/MNIST_database) dataset.\n",
        "\n",
        "Before we start, you may check this [Tensorspace-LeNet](https://tensorspace.org/html/playground/lenet.html) to play with LeNet and get familiar with this neural architecture.\n",
        "\n",
        "![image](https://production-media.paperswithcode.com/methods/LeNet_Original_Image_48T74Lc.jpg)\n",
        "Ref.: LeCun et al., Gradient-Based Learning Applied to Document Recognition, 1998a"
      ]
    },
    {
      "cell_type": "markdown",
      "metadata": {
        "id": "EQy5UdrvnUkJ"
      },
      "source": [
        "<font color='red'>Name: 潘勝元 Student ID: 109062116 </font>"
      ]
    },
    {
      "cell_type": "markdown",
      "metadata": {
        "id": "aMbQ1FFgQs0K"
      },
      "source": [
        "## 1. Initial Setup\n",
        "\n",
        "We are goint to implement and train this nerual network with PyTorch \n",
        "If you are not familer with PyTorch, check [official tutorail](https://pytorch.org/tutorials/beginner/basics/intro.html)\n",
        "\n",
        "**Reminder:** set the runtime type to \"GPU\", or your code will run much more slowly on a CPU."
      ]
    },
    {
      "cell_type": "code",
      "execution_count": 5,
      "metadata": {
        "colab": {
          "base_uri": "https://localhost:8080/"
        },
        "id": "hbiiMcdNJI--",
        "outputId": "34ecdda0-fd07-492a-cc78-2eae14be72c3"
      },
      "outputs": [
        {
          "output_type": "stream",
          "name": "stdout",
          "text": [
            "cuda:0\n",
            "Looking in indexes: https://pypi.org/simple, https://us-python.pkg.dev/colab-wheels/public/simple/\n",
            "Collecting torchinfo\n",
            "  Downloading torchinfo-1.7.2-py3-none-any.whl (22 kB)\n",
            "Installing collected packages: torchinfo\n",
            "Successfully installed torchinfo-1.7.2\n"
          ]
        }
      ],
      "source": [
        "import torch\n",
        "import torchvision\n",
        "from torch import nn\n",
        "from torchvision import transforms\n",
        "from torch import optim\n",
        "from torch.utils.data import DataLoader\n",
        "import numpy as np\n",
        "import random\n",
        "SEED = 0\n",
        "random.seed(SEED)\n",
        "np.random.seed(SEED)\n",
        "torch.manual_seed(SEED)\n",
        "torch.cuda.manual_seed_all(SEED)\n",
        "torch.backends.cudnn.deterministic = True\n",
        "torch.backends.cudnn.benchmark = False\n",
        "device = torch.device(\"cuda:0\" if torch.cuda.is_available() else \"cpu\")\n",
        "print(device)\n",
        "#!pip install torchinfo"
      ]
    },
    {
      "cell_type": "markdown",
      "metadata": {
        "id": "nCaMDWYArEXO"
      },
      "source": [
        "### 1.1 Load dataset\n",
        "Load training and test data from the MNIST dataset."
      ]
    },
    {
      "cell_type": "code",
      "execution_count": 6,
      "metadata": {
        "id": "_5UuOjjrnogR"
      },
      "outputs": [],
      "source": [
        "def seed_worker(worker_id):\n",
        "    worker_seed = torch.initial_seed() % 2**32\n",
        "    np.random.seed(worker_seed)\n",
        "    random.seed(worker_seed)\n",
        "\n",
        "g = torch.Generator()\n",
        "g.manual_seed(0)\n",
        "\n",
        "transform = transforms.Compose(\n",
        "    [\n",
        "     transforms.Resize((32, 32)),\n",
        "     transforms.ToTensor(),\n",
        "     transforms.Normalize((0.5,), (0.5,))\n",
        "    ])\n",
        "\n",
        "trainset = torchvision.datasets.MNIST(root='./data', train=True,\n",
        "                                        download=True, transform=transform)\n",
        "trainloader = torch.utils.data.DataLoader(trainset, batch_size=4,\n",
        "                                          shuffle=True, num_workers=2,\n",
        "                                          worker_init_fn=seed_worker, generator=g,)\n",
        "\n",
        "testset = torchvision.datasets.MNIST(root='./data', train=False,\n",
        "                                       download=True, transform=transform)\n",
        "testloader = torch.utils.data.DataLoader(testset, batch_size=8,\n",
        "                                         shuffle=False, num_workers=2,\n",
        "                                         worker_init_fn=seed_worker, generator=g,)"
      ]
    },
    {
      "cell_type": "markdown",
      "metadata": {
        "id": "l62CkyIwtSOv"
      },
      "source": [
        "### 1.2 Define the Neural Network \n",
        "Define a simple CNN that classifies MNIST images."
      ]
    },
    {
      "cell_type": "code",
      "execution_count": 7,
      "metadata": {
        "id": "9fL3F-7Rntog"
      },
      "outputs": [],
      "source": [
        "from collections import OrderedDict\n",
        "class Net(nn.Module):\n",
        "    def __init__(self):\n",
        "        super(Net, self).__init__()\n",
        "\n",
        "        self.conv1 = nn.Sequential(OrderedDict([\n",
        "            ('conv', nn.Conv2d(1, 6, 5, bias=False)),\n",
        "            ('relu', nn.ReLU()),\n",
        "        ]))\n",
        "        \n",
        "        self.maxpool2 = nn.Sequential(OrderedDict([\n",
        "            ('pool', nn.MaxPool2d(kernel_size=(2, 2), stride=2))\n",
        "        ]))\n",
        "        \n",
        "        self.conv3 = nn.Sequential(OrderedDict([\n",
        "            ('conv', nn.Conv2d(6, 16, 5, bias=False)),\n",
        "            ('relu', nn.ReLU())\n",
        "        ]))\n",
        "        \n",
        "        self.maxpool4 = nn.Sequential(OrderedDict([\n",
        "            ('pool', nn.MaxPool2d(kernel_size=(2, 2), stride=2))\n",
        "        ]))\n",
        "        \n",
        "        self.conv5 = nn.Sequential(OrderedDict([\n",
        "            ('conv', nn.Conv2d(16, 120, 5, bias=False)),\n",
        "            ('relu', nn.ReLU())\n",
        "        ]))\n",
        "        \n",
        "        self.fc6 = nn.Sequential(OrderedDict([\n",
        "            ('fc', nn.Linear(120, 84, bias=False)),\n",
        "            ('relu', nn.ReLU())\n",
        "        ]))\n",
        "        \n",
        "        self.output = nn.Sequential(OrderedDict([\n",
        "            ('fc', nn.Linear(84, 10, bias=False)),\n",
        "        ]))\n",
        "        \n",
        "\n",
        "    def forward(self, x: torch.Tensor) -> torch.Tensor:\n",
        "        x = self.conv1(x)\n",
        "        x = self.maxpool2(x)\n",
        "        x = self.conv3(x)\n",
        "        x = self.maxpool4(x)\n",
        "        x = self.conv5(x)\n",
        "        x = torch.flatten(x, 1)\n",
        "        x = self.fc6(x)\n",
        "        x = self.output(x)\n",
        "        return x\n",
        "\n",
        "NET = Net().to(device)"
      ]
    },
    {
      "cell_type": "markdown",
      "metadata": {
        "id": "TyOAi8OFQs0N"
      },
      "source": [
        "### 1.3 Question: Profile the Neural Architecture by TorchInfo\n",
        "Torchinfo provides information complementary to what is provided by print(your_model) in PyTorch, similar to Tensorflow's model.summary() API to view the visualization of the model, which is helpful while debugging your network. Check this [link](https://github.com/TylerYep/torchinfo#how-to-use) about how to use TorchInfo by `summary()` and fill in the TODO in the following cell. You should get the result similar to the table below:\n",
        "\n",
        "```\n",
        "==========================================================================================\n",
        "Layer (type:depth-idx)                   Output Shape              Param #\n",
        "==========================================================================================\n",
        "LeNet                                    --                        --\n",
        "...\n",
        "...\n",
        "==========================================================================================\n",
        "Total params: ...\n",
        "...\n",
        "Estimated Total Size (MB): ...\n",
        "==========================================================================================\n",
        "```\n",
        "\n",
        "\n",
        "Ref.: https://github.com/TylerYep/torchinfo\n",
        "\n",
        "Please read *B. LeNet-5* in the [original paper](http://vision.stanford.edu/cs598_spring07/papers/Lecun98.pdf) and answer the following questions.\n",
        "1. What is the type (convolution, pooling, fully-connected layer, etc.), input activation size, output activation size, and activation function (if any) of each layer?\n",
        "2. What is the difference part between this neural architecture and the lenet-5 in the [original paper](http://vision.stanford.edu/cs598_spring07/papers/Lecun98.pdf)?\n",
        "3. Could we replace the 3rd conv, the conv in conv5, with a fully connected layer?"
      ]
    },
    {
      "cell_type": "markdown",
      "metadata": {
        "id": "AL8p7FqslIq6"
      },
      "source": [
        "### 1.3 Answers\n",
        "<font color='red'>Write your answers here.</font>\n",
        "1. 假設batch size = 1 \n",
        "  activation size的算法是將shape的數字都乘起來。\n",
        "  layer1:convolution,1028(1(batch size),1,32,32),4704(1,6,28,28),RELU   \n",
        "  layer2:pooling,4704(1,6,28,28),1176(1,6,14,14)     \n",
        "  layer3:convolution,1176(1,6,14,14),1600(1,16,10,10),RELU    \n",
        "  layer4:pooling,1600(1,16,10,10),400(1,16,5,5)     \n",
        "  layer5:convolution,400(1,16,5,5),120(1,120,1,1),RELU,    \n",
        "  layer6:fully-connected layer,120(1,120,1,1),84(1,84),RELU     \n",
        "  layer7:fully-connected layer,84(1,84),10(1,10)\n",
        "2. 在output layer的部分，我們的model是使用fully connected layer的方式，而原本的paper是使用Euclidean Radial Basis Function units(RBF)。\n",
        "3. 可以，因為kernel size和input size都是5*5，使用fully connected layer有相同效果。"
      ]
    },
    {
      "cell_type": "code",
      "execution_count": 8,
      "metadata": {
        "colab": {
          "base_uri": "https://localhost:8080/"
        },
        "id": "n50e9PASQs0N",
        "outputId": "832cfc07-c4b6-4949-f098-2c2e1ecd7a08"
      },
      "outputs": [
        {
          "output_type": "execute_result",
          "data": {
            "text/plain": [
              "==========================================================================================\n",
              "Layer (type:depth-idx)                   Output Shape              Param #\n",
              "==========================================================================================\n",
              "Net                                      [1, 10]                   --\n",
              "├─Sequential: 1-1                        [1, 6, 28, 28]            --\n",
              "│    └─Conv2d: 2-1                       [1, 6, 28, 28]            150\n",
              "│    └─ReLU: 2-2                         [1, 6, 28, 28]            --\n",
              "├─Sequential: 1-2                        [1, 6, 14, 14]            --\n",
              "│    └─MaxPool2d: 2-3                    [1, 6, 14, 14]            --\n",
              "├─Sequential: 1-3                        [1, 16, 10, 10]           --\n",
              "│    └─Conv2d: 2-4                       [1, 16, 10, 10]           2,400\n",
              "│    └─ReLU: 2-5                         [1, 16, 10, 10]           --\n",
              "├─Sequential: 1-4                        [1, 16, 5, 5]             --\n",
              "│    └─MaxPool2d: 2-6                    [1, 16, 5, 5]             --\n",
              "├─Sequential: 1-5                        [1, 120, 1, 1]            --\n",
              "│    └─Conv2d: 2-7                       [1, 120, 1, 1]            48,000\n",
              "│    └─ReLU: 2-8                         [1, 120, 1, 1]            --\n",
              "├─Sequential: 1-6                        [1, 84]                   --\n",
              "│    └─Linear: 2-9                       [1, 84]                   10,080\n",
              "│    └─ReLU: 2-10                        [1, 84]                   --\n",
              "├─Sequential: 1-7                        [1, 10]                   --\n",
              "│    └─Linear: 2-11                      [1, 10]                   840\n",
              "==========================================================================================\n",
              "Total params: 61,470\n",
              "Trainable params: 61,470\n",
              "Non-trainable params: 0\n",
              "Total mult-adds (M): 0.42\n",
              "==========================================================================================\n",
              "Input size (MB): 0.00\n",
              "Forward/backward pass size (MB): 0.05\n",
              "Params size (MB): 0.25\n",
              "Estimated Total Size (MB): 0.30\n",
              "=========================================================================================="
            ]
          },
          "metadata": {},
          "execution_count": 8
        }
      ],
      "source": [
        "from torchinfo import summary\n",
        "# TODO\n",
        "net1 = Net()\n",
        "summary(net1,input_size=(1, 1, 32 , 32))"
      ]
    },
    {
      "cell_type": "markdown",
      "metadata": {
        "id": "Nijieuxptag6"
      },
      "source": [
        "### 1.4 Train and Test the Neural Network\n",
        "Train this CNN on the training dataset (this may take a few moments).\n",
        "* Check how to save and load the model\n",
        "    * https://pytorch.org/tutorials/beginner/saving_loading_models.html\n",
        "    * Save:\n",
        "        ```\n",
        "        torch.save(model.state_dict(), PATH)\n",
        "        ```\n",
        "    * Load:\n",
        "        ```\n",
        "        model = TheModelClass(*args, **kwargs)\n",
        "        model.load_state_dict(torch.load(PATH))\n",
        "        model.eval()\n",
        "        ```\n",
        "* After training the model, we will save it as `lenet.pt`.\n",
        "* You should comment out `train(NET, trainloader, 2)` and uncomment `NET.load_state_dict(torch.load('lenet.pt'))` before submitting your homework.\n",
        "    * Also, reloading the model from `lenet.pt` can save your time if there is something wrong and you need to restart and run all."
      ]
    },
    {
      "cell_type": "code",
      "execution_count": 9,
      "metadata": {
        "id": "CzK6ohj5oNCT"
      },
      "outputs": [],
      "source": [
        "def train(model: nn.Module, dataloader: DataLoader, num_epoch):\n",
        "    \n",
        "    criterion = nn.CrossEntropyLoss()\n",
        "    optimizer = optim.Adam(model.parameters(), lr=0.001)\n",
        "\n",
        "    for epoch in range(num_epoch):  # loop over the dataset multiple times\n",
        "\n",
        "        running_loss = 0.0\n",
        "        for i, data in enumerate(dataloader):\n",
        "            \n",
        "            inputs, labels = data[0].to(device), data[1].to(device)\n",
        "            optimizer.zero_grad()\n",
        "            outputs = model(inputs)\n",
        "            loss = criterion(outputs, labels)\n",
        "            loss.backward()\n",
        "            optimizer.step()\n",
        "\n",
        "            # print statistics\n",
        "            running_loss += loss.item()\n",
        "            if i % 2000 == 1999:    # print every 2000 mini-batches\n",
        "                print('[%d, %5d] loss: %.3f' %\n",
        "                    (epoch + 1, i + 1, running_loss / 2000))\n",
        "                running_loss = 0.0\n",
        "        print(test(model, testloader, None))\n",
        "    print('Finished Training')\n",
        "    \n",
        "def test(model: nn.Module, dataloader: DataLoader, max_samples=None, device=device) -> float:\n",
        "    correct = 0\n",
        "    total = 0\n",
        "    n_inferences = 0\n",
        "\n",
        "    with torch.no_grad():\n",
        "        for data in dataloader:\n",
        "            \n",
        "            inputs, labels = data[0].to(device), data[1].to(device)\n",
        "\n",
        "            outputs = model(inputs)\n",
        "            _, predicted = torch.max(outputs.data, 1)\n",
        "            total += labels.size(0)\n",
        "            correct += (predicted == labels).sum().item()\n",
        "\n",
        "            if max_samples:\n",
        "                n_inferences += inputs.shape[0]\n",
        "                if n_inferences > max_samples:\n",
        "                    break\n",
        "    \n",
        "    return 100 * correct / total"
      ]
    },
    {
      "cell_type": "code",
      "execution_count": 10,
      "metadata": {
        "colab": {
          "base_uri": "https://localhost:8080/"
        },
        "id": "LIeiyuPvQs0O",
        "outputId": "c61cce43-ea5b-4df1-8b1c-9a81e4494251"
      },
      "outputs": [
        {
          "output_type": "stream",
          "name": "stdout",
          "text": [
            "Accuracy of the network on the test images: 98.92%\n"
          ]
        }
      ],
      "source": [
        "#train(NET, trainloader, 2)\n",
        "NET.load_state_dict(torch.load('lenet.pt'))\n",
        "score = test(NET, testloader, None)\n",
        "print('Accuracy of the network on the test images: {}%'.format(score))\n",
        "\n",
        "torch.save(NET.state_dict(), 'lenet.pt')"
      ]
    },
    {
      "cell_type": "code",
      "execution_count": 11,
      "metadata": {
        "id": "ZVWbC5YWT-MU"
      },
      "outputs": [],
      "source": [
        "from copy import deepcopy\n",
        "\n",
        "# A convenience function which we use to copy CNNs\n",
        "def copy_model(model: nn.Module) -> nn.Module:\n",
        "    result = deepcopy(model)\n",
        "\n",
        "    # Copy over the extra metadata we've collected which copy.deepcopy doesn't capture\n",
        "    if hasattr(model, 'input_activations'):\n",
        "        result.input_activations = deepcopy(model.input_activations)\n",
        "\n",
        "    for result_layer, original_layer in zip(result.modules(), model.modules()):\n",
        "        if isinstance(result_layer, (nn.Conv2d, nn.Linear)):\n",
        "            if hasattr(original_layer.weight, 'scale'):\n",
        "                result_layer.weight.scale = deepcopy(original_layer.weight.scale)\n",
        "            \n",
        "        if hasattr(original_layer, 'inAct'):\n",
        "            result_layer.inAct = deepcopy(original_layer.inAct)\n",
        "        if hasattr(original_layer, 'outAct'):\n",
        "            result_layer.outAct = deepcopy(original_layer.outAct)\n",
        "        if hasattr(original_layer, 'output_scale'):\n",
        "            result_layer.output_scale = deepcopy(original_layer.output_scale)\n",
        "\n",
        "    return result"
      ]
    },
    {
      "cell_type": "markdown",
      "metadata": {
        "id": "SQZoEjBSveV8"
      },
      "source": [
        "## 2. Post-training Quantization\n",
        "### 2.1 Question: Visualize Weights"
      ]
    },
    {
      "cell_type": "markdown",
      "metadata": {
        "id": "5qKRX7ply7I2"
      },
      "source": [
        "We have flattened all vector for you by `tensor.view(-1)`.\n",
        "\n",
        "Try plotting a histogram of each weight and show the total range and 3-sigma range for each weight.\n",
        "\n",
        "hint: `np.histogram()` and `plt.hist()`"
      ]
    },
    {
      "cell_type": "code",
      "execution_count": 12,
      "metadata": {
        "colab": {
          "base_uri": "https://localhost:8080/",
          "height": 1000
        },
        "id": "N2h7zJ8m3GAF",
        "outputId": "335c46e3-90d0-43cf-890d-ee25cb7bccc9"
      },
      "outputs": [
        {
          "output_type": "display_data",
          "data": {
            "text/plain": [
              "<Figure size 432x288 with 1 Axes>"
            ],
            "image/png": "[encoded data removed]"
          },
          "metadata": {
            "needs_background": "light"
          }
        },
        {
          "output_type": "stream",
          "name": "stdout",
          "text": [
            "total range: 0.7823901772499084 from -0.37052456 to 0.41186562\n",
            "three sigma range: 0.8713697791099548 from -0.4239271879196167 to 0.44744259119033813\n"
          ]
        },
        {
          "output_type": "display_data",
          "data": {
            "text/plain": [
              "<Figure size 432x288 with 1 Axes>"
            ],
            "image/png": "[encoded data removed]"
          },
          "metadata": {
            "needs_background": "light"
          }
        },
        {
          "output_type": "stream",
          "name": "stdout",
          "text": [
            "total range: 1.8173847198486328 from -1.2109491 to 0.60643566\n",
            "three sigma range: 1.3489525318145752 from -0.7375973463058472 to 0.611355185508728\n"
          ]
        },
        {
          "output_type": "display_data",
          "data": {
            "text/plain": [
              "<Figure size 432x288 with 1 Axes>"
            ],
            "image/png": "[encoded data removed]"
          },
          "metadata": {
            "needs_background": "light"
          }
        },
        {
          "output_type": "stream",
          "name": "stdout",
          "text": [
            "total range: 2.255288600921631 from -1.2984394 to 0.9568492\n",
            "three sigma range: 1.2827434539794922 from -0.6541403532028198 to 0.6286031007766724\n"
          ]
        },
        {
          "output_type": "display_data",
          "data": {
            "text/plain": [
              "<Figure size 432x288 with 1 Axes>"
            ],
            "image/png": "[encoded data removed]"
          },
          "metadata": {
            "needs_background": "light"
          }
        },
        {
          "output_type": "stream",
          "name": "stdout",
          "text": [
            "total range: 1.5640497207641602 from -0.8917776 to 0.6722721\n",
            "three sigma range: 1.1030151844024658 from -0.5643313527107239 to 0.5386838316917419\n"
          ]
        },
        {
          "output_type": "display_data",
          "data": {
            "text/plain": [
              "<Figure size 432x288 with 1 Axes>"
            ],
            "image/png": "[encoded data removed]"
          },
          "metadata": {
            "needs_background": "light"
          }
        },
        {
          "output_type": "stream",
          "name": "stdout",
          "text": [
            "total range: 2.4234235286712646 from -2.247601 to 0.17582247\n",
            "three sigma range: 2.0099949836730957 from -1.3333276510238647 to 0.676667332649231\n"
          ]
        }
      ],
      "source": [
        "import matplotlib.pyplot as plt\n",
        "\n",
        "conv1_weights = NET.conv1[0].weight.data.cpu().view(-1)\n",
        "conv2_weights = NET.conv3[0].weight.data.cpu().view(-1)\n",
        "conv3_weights = NET.conv5[0].weight.data.cpu().view(-1)\n",
        "fc1_weights = NET.fc6[0].weight.data.cpu().view(-1)\n",
        "fc2_weights = NET.output[0].weight.data.cpu().view(-1)\n",
        "\n",
        "weightDict = {\n",
        "    'conv1_weights':conv1_weights, \n",
        "    'conv2_weights': conv2_weights, \n",
        "    'conv3_weights': conv3_weights, \n",
        "    'fc1_weights': fc1_weights, \n",
        "    'fc2_weights':fc2_weights\n",
        "}\n",
        "\n",
        "# TODO\n",
        "for key,weight in weightDict.items():\n",
        "  a,b=(np.histogram(weight,bins=50))\n",
        "  Max = b[-1]\n",
        "  Min = b[0]\n",
        "  total_range = Max-Min\n",
        "  three_sigma_range = (torch.mean(weight) - 3 * torch.std(weight), torch.mean(weight) + 3 * torch.std(weight))\n",
        "  plt.hist(weight,50)\n",
        "  plt.show()\n",
        "  print(\"total range:\",total_range.item(),\"from\",Min,\"to\",Max)\n",
        "  print(\"three sigma range:\",three_sigma_range[1].item()-three_sigma_range[0].item(),\"from\",three_sigma_range[0].item(),\"to\",three_sigma_range[1].item())"
      ]
    },
    {
      "cell_type": "markdown",
      "metadata": {
        "id": "2hKjshaHD11m"
      },
      "source": [
        "### 2.2 Question:  Quantize Weights\n",
        "Computation of convolution or fully-connected layer can be expressed as\n",
        "$$W\\times I = O$$\n",
        "where $W$ is the weight tensor, $I$ is the input tensor, and $O$ is the output tensor.\n",
        "Let $n_w$ be the scaling factor. We have $$W_q\\times I =n_w W \\times I\\approx n_w O$$ where $W_q$ is the quantized 8-bit signed integer weight tensor.\n",
        "\n",
        "Fill in the TODO in `quantized_weights()`.If you’ve done everything correctly, the accuracy degradation should be negligible(~1%).\n",
        "1. What is $n_w$? Explain how you get it.\n",
        "2. What is the accuracy degradation? \\\n",
        "Show both relative error and absolute error when the true value is the accuracy we get before performing any quanitzion."
      ]
    },
    {
      "cell_type": "markdown",
      "metadata": {
        "id": "29fZlNzhnpgK"
      },
      "source": [
        "### 2.2 Answers\n",
        "<font color='red'>Write your answers here.</font>\n",
        "1. nw是我們在進行quantizec後要在縮放回原本的range的倍率。   \n",
        "  因為是symmetric quantization所以我們先從total_range取絕對值得最大值x，我們原本的range設定為-x至x，然後將這個range的總長度除以-128至127(目標的range)的總長度，然後這是fix轉成float的scaler，所以我們取倒數就是nw了。\n",
        "2. accuracy degradation是我們在進行quantized後，捨棄了小數點的部分，所以導致精準度的下降。   \n",
        "  absolute error: 98.92 - 98.91 = 0.01   \n",
        "  relative error: 0.01 / 98.92 = 1.011e-4 "
      ]
    },
    {
      "cell_type": "code",
      "execution_count": 13,
      "metadata": {
        "id": "qXNk1fXuPGjB"
      },
      "outputs": [],
      "source": [
        "net_q2 = copy_model(NET)"
      ]
    },
    {
      "cell_type": "code",
      "execution_count": 14,
      "metadata": {
        "id": "GIBrqSFrVi5x"
      },
      "outputs": [],
      "source": [
        "from typing import Tuple\n",
        "\n",
        "def quantized_weights(weights: torch.Tensor) -> Tuple[torch.Tensor, float]:\n",
        "    '''\n",
        "    Quantize the weights so that all values are integers between -128 and 127.\n",
        "    Use the total range when deciding just what factors to scale the float32 \n",
        "    values by.\n",
        "\n",
        "    Parameters:\n",
        "    weights (Tensor): The unquantized weights\n",
        "\n",
        "    Returns:\n",
        "    (Tensor, float): A tuple with the following elements:\n",
        "        * The weights in quantized form, where every value is an integer between -128 and 127.\n",
        "          The \"dtype\" will still be \"float\", but the values themselves should all be integers.\n",
        "        * The scaling factor that your weights were multiplied by.\n",
        "          This value does not need to be an 8-bit integer.\n",
        "    '''\n",
        "\n",
        "    # TODO\n",
        "    # Adopt the symmetric quantization by the total range\n",
        "    wmax = torch.max(weights)\n",
        "    wmin = torch.min(weights)\n",
        "    wmin = -wmin\n",
        "    xf_max = torch.max(wmax,wmin)\n",
        "    S = xf_max*2/255\n",
        "    S = 1/S\n",
        "    qweights=torch.round(weights*S)\n",
        "    qweights=torch.where(qweights>=128,127,qweights)\n",
        "    return qweights, S"
      ]
    },
    {
      "cell_type": "code",
      "execution_count": 15,
      "metadata": {
        "id": "orOwTnXxU1nb"
      },
      "outputs": [],
      "source": [
        "def quantize_layer_weights(model: nn.Module):\n",
        "    for layer in model.modules():\n",
        "        if isinstance(layer, (nn.Conv2d, nn.Linear)):\n",
        "            q_layer_data, scale = quantized_weights(layer.weight.data)\n",
        "            q_layer_data = q_layer_data.to(device)\n",
        "\n",
        "            layer.weight.data = q_layer_data\n",
        "            layer.weight.scale = scale\n",
        "\n",
        "            if (q_layer_data < -128).any() or (q_layer_data > 127).any():\n",
        "                raise Exception(\"Quantized weights of {} layer include values out of bounds for an 8-bit signed integer\".format(layer.__class__.__name__))\n",
        "            if (q_layer_data != q_layer_data.round()).any():\n",
        "                raise Exception(\"Quantized weights of {} layer include non-integer values\".format(layer.__class__.__name__))\n",
        "\n",
        "quantize_layer_weights(net_q2)"
      ]
    },
    {
      "cell_type": "code",
      "execution_count": 16,
      "metadata": {
        "colab": {
          "base_uri": "https://localhost:8080/"
        },
        "id": "wE3HqeBKVoYR",
        "outputId": "998143ce-e2af-4bc5-864b-d85b6cb0caaf"
      },
      "outputs": [
        {
          "output_type": "stream",
          "name": "stdout",
          "text": [
            "Accuracy of the network after quantizing all weights: 98.91%\n"
          ]
        }
      ],
      "source": [
        "score = test(net_q2, testloader)\n",
        "print('Accuracy of the network after quantizing all weights: {}%'.format(score))"
      ]
    },
    {
      "cell_type": "markdown",
      "metadata": {
        "id": "xg7bfTF1bBVe"
      },
      "source": [
        "### 2.3 Question: Visualize Activations\n",
        "Plot histograms of the input images and the output activations of each operation and answer the following questions.\n",
        "1. Discuss any observations about the distribution of these activations.\n",
        "2. Record the range of the values, as well as their 3-sigma range (the difference between μ + 3σ and μ − 3σ)."
      ]
    },
    {
      "cell_type": "markdown",
      "metadata": {
        "id": "KmwrrQ3cnxLo"
      },
      "source": [
        "### 2.3 Answers\n",
        "<font color='red'>Write your answers here.</font>\n",
        "1. 除了第一層與最後一層以外，其他層的range都是從0開始。  \n",
        "  除了最後一層外，其他層的data大多位於range最左邊。  \n",
        "2.   \n",
        "  total range: 1.984313726425171 from -1.0 to 0.9843137  \n",
        "  three sigma range: 3.522346019744873 from -2.484403610229492 to 1.0379424095153809 \n",
        "   \n",
        "  total range: 2.1659035682678223 from 0.0 to 2.1659036  \n",
        "  three sigma range: 1.5503243207931519 from -0.6854264736175537 to 0.8648978471755981   \n",
        "\n",
        "  total range: 4.587000846862793 from 0.0 to 4.587001  \n",
        "  three sigma range: 2.4688878059387207 from -1.1300053596496582 to 1.3388824462890625  \n",
        "\n",
        "  total range: 9.805818557739258 from 0.0 to 9.805819  \n",
        "  three sigma range: 9.40185546875 from -4.2335052490234375 to 5.1683502197265625  \n",
        "\n",
        "  total range: 11.374738693237305 from 0.0 to 11.374739  \n",
        "  three sigma range: 12.047304153442383 from -5.239156723022461 to 6.808147430419922  \n",
        "\n",
        "  total range: 32.52015686035156 from -33.211838 to -0.6916796  \n",
        "  three sigma range: 67.73571014404297 from -53.08457565307617 to 14.651134490966797"
      ]
    },
    {
      "cell_type": "code",
      "execution_count": 17,
      "metadata": {
        "colab": {
          "base_uri": "https://localhost:8080/"
        },
        "id": "Mcv-7s5WQs0P",
        "outputId": "1e6c58d9-68bd-4aaf-a44d-b045ba1023e3"
      },
      "outputs": [
        {
          "output_type": "stream",
          "name": "stdout",
          "text": [
            "conv1\n",
            " [register_forward_hook]: Sequential(\n",
            "  (conv): Conv2d(1, 6, kernel_size=(5, 5), stride=(1, 1), bias=False)\n",
            "  (relu): ReLU()\n",
            ")\n",
            "maxpool2\n",
            " [register_forward_hook]: Sequential(\n",
            "  (pool): MaxPool2d(kernel_size=(2, 2), stride=2, padding=0, dilation=1, ceil_mode=False)\n",
            ")\n",
            "conv3\n",
            " [register_forward_hook]: Sequential(\n",
            "  (conv): Conv2d(6, 16, kernel_size=(5, 5), stride=(1, 1), bias=False)\n",
            "  (relu): ReLU()\n",
            ")\n",
            "maxpool4\n",
            " [register_forward_hook]: Sequential(\n",
            "  (pool): MaxPool2d(kernel_size=(2, 2), stride=2, padding=0, dilation=1, ceil_mode=False)\n",
            ")\n",
            "conv5\n",
            " [register_forward_hook]: Sequential(\n",
            "  (conv): Conv2d(16, 120, kernel_size=(5, 5), stride=(1, 1), bias=False)\n",
            "  (relu): ReLU()\n",
            ")\n",
            "fc6\n",
            " [register_forward_hook]: Sequential(\n",
            "  (fc): Linear(in_features=120, out_features=84, bias=False)\n",
            "  (relu): ReLU()\n",
            ")\n",
            "output\n",
            " [register_forward_hook]: Sequential(\n",
            "  (fc): Linear(in_features=84, out_features=10, bias=False)\n",
            ")\n"
          ]
        }
      ],
      "source": [
        "net_q3 = copy_model(NET)\n",
        "\n",
        "def visualize_activations(module, input, output):\n",
        "    if module.profile_activations is True:\n",
        "        module.inAct = input[0].cpu().reshape(-1)\n",
        "        module.outAct = output[0].cpu().reshape(-1)\n",
        "    \n",
        "for name, model in net_q3.named_children():\n",
        "    print(\"{}\\n [register_forward_hook]: {}\".format(name, model))\n",
        "    model.profile_activations = True\n",
        "    model.register_forward_hook(visualize_activations)\n",
        "net_q3.eval()\n",
        "with torch.no_grad():\n",
        "    input = trainset[0][0].unsqueeze(0)\n",
        "    _ = net_q3(input.to(device))   \n",
        "for name, model in net_q3.named_children(): \n",
        "    model.profile_activations = False "
      ]
    },
    {
      "cell_type": "code",
      "execution_count": 18,
      "metadata": {
        "colab": {
          "base_uri": "https://localhost:8080/",
          "height": 1000
        },
        "id": "AEo8VK46bwjn",
        "outputId": "5e139fb9-8091-411b-b077-e6c486958c6d"
      },
      "outputs": [
        {
          "output_type": "display_data",
          "data": {
            "text/plain": [
              "<Figure size 432x288 with 1 Axes>"
            ],
            "image/png": "[encoded data removed]"
          },
          "metadata": {
            "needs_background": "light"
          }
        },
        {
          "output_type": "stream",
          "name": "stdout",
          "text": [
            "total range: 1.984313726425171 from -1.0 to 0.9843137\n",
            "three sigma range: 3.522346019744873 from -2.484403610229492 to 1.0379424095153809\n"
          ]
        },
        {
          "output_type": "display_data",
          "data": {
            "text/plain": [
              "<Figure size 432x288 with 1 Axes>"
            ],
            "image/png": "[encoded data removed]"
          },
          "metadata": {
            "needs_background": "light"
          }
        },
        {
          "output_type": "stream",
          "name": "stdout",
          "text": [
            "total range: 2.1659035682678223 from 0.0 to 2.1659036\n",
            "three sigma range: 1.5503243207931519 from -0.6854264736175537 to 0.8648978471755981\n"
          ]
        },
        {
          "output_type": "display_data",
          "data": {
            "text/plain": [
              "<Figure size 432x288 with 1 Axes>"
            ],
            "image/png": "[encoded data removed]"
          },
          "metadata": {
            "needs_background": "light"
          }
        },
        {
          "output_type": "stream",
          "name": "stdout",
          "text": [
            "total range: 4.587001323699951 from 0.0 to 4.5870013\n",
            "three sigma range: 2.4688878059387207 from -1.1300053596496582 to 1.3388824462890625\n"
          ]
        },
        {
          "output_type": "display_data",
          "data": {
            "text/plain": [
              "<Figure size 432x288 with 1 Axes>"
            ],
            "image/png": "[encoded data removed]"
          },
          "metadata": {
            "needs_background": "light"
          }
        },
        {
          "output_type": "stream",
          "name": "stdout",
          "text": [
            "total range: 9.80582046508789 from 0.0 to 9.80582\n",
            "three sigma range: 9.401857376098633 from -4.233506202697754 to 5.168351173400879\n"
          ]
        },
        {
          "output_type": "display_data",
          "data": {
            "text/plain": [
              "<Figure size 432x288 with 1 Axes>"
            ],
            "image/png": "[encoded data removed]"
          },
          "metadata": {
            "needs_background": "light"
          }
        },
        {
          "output_type": "stream",
          "name": "stdout",
          "text": [
            "total range: 11.374739646911621 from 0.0 to 11.37474\n",
            "three sigma range: 12.047306060791016 from -5.239157676696777 to 6.808148384094238\n"
          ]
        },
        {
          "output_type": "display_data",
          "data": {
            "text/plain": [
              "<Figure size 432x288 with 1 Axes>"
            ],
            "image/png": "[encoded data removed]"
          },
          "metadata": {
            "needs_background": "light"
          }
        },
        {
          "output_type": "stream",
          "name": "stdout",
          "text": [
            "total range: 32.52015686035156 from -33.211838 to -0.69168067\n",
            "three sigma range: 67.73571014404297 from -53.08457565307617 to 14.651134490966797\n"
          ]
        }
      ],
      "source": [
        "input_activations = net_q3.conv1.inAct\n",
        "conv1_output_activations = net_q3.conv1.outAct\n",
        "conv3_output_activations = net_q3.conv3.outAct\n",
        "conv5_output_activations = net_q3.conv5.outAct\n",
        "fc6_output_activations = net_q3.fc6.outAct\n",
        "output_output_activations = net_q3.output.outAct\n",
        "\n",
        "actDict = {\n",
        "    'input_activations':input_activations, \n",
        "    'conv1_output_activations':conv1_output_activations, \n",
        "    'conv3_output_activations':conv3_output_activations, \n",
        "    'conv5_output_activations':conv5_output_activations, \n",
        "    'fc6_output_activations':fc6_output_activations, \n",
        "    'output_output_activations':output_output_activations\n",
        "}\n",
        "\n",
        "# TODO\n",
        "for key,act in actDict.items():\n",
        "  a,b=(np.histogram(act,bins=50))\n",
        "  Max = b[-1]\n",
        "  Min = b[0]\n",
        "  total_range = Max-Min\n",
        "  three_sigma_range = (torch.mean(act) - 3 * torch.std(act), torch.mean(act) + 3 * torch.std(act))\n",
        "  plt.hist(act,50)\n",
        "  plt.show()\n",
        "  print(\"total range:\",total_range.item(),\"from\",Min,\"to\",Max)\n",
        "  print(\"three sigma range:\",three_sigma_range[1].item()-three_sigma_range[0].item(),\"from\",three_sigma_range[0].item(),\"to\",three_sigma_range[1].item())"
      ]
    },
    {
      "cell_type": "markdown",
      "metadata": {
        "id": "haiPVx4ibEra"
      },
      "source": [
        "### 2.4 Question:  Quantize Activations\n",
        "The output of conv in conv1 can be $$W_{conv1}\\times I=O_{conv1}.$$\n",
        "Let the scaling factor of the quantized input matrix $I$ be $n_I$, the scaling factor of the quantized weight matrix $W_{conv1}$ \n",
        "be $n_{W_{conv1}}$, and the scaling factor of the output matrix $O_{conv1}$ be $n_{O_{conv1}}$.  \n",
        "$$W_{conv1_q}\\times I_q = (n_{W_{conv1}}W_{conv1})\\times (n_II)\\approx (n_{W_{conv1}}n_I)O_{conv1}$$\n",
        "where $W_{conv1_q}$ is the quantized 8-bit signed integer weight tensor and $I_q$ is the quantized 8-bit signed integer input activation tensor.\n",
        "\n",
        "$$O_{conv1_q} \\approx n_{O_{conv1}}O_{conv1}$$\n",
        "where $O_{conv1_q}$ is the quantized 8-bit signed integer output activation tensor.\n",
        "\n",
        "Since we're doing post-training quantization, we can get $n_I$, $n_{W_{conv1}}$, and $n_{O_{conv1}}$ first and do the other calculations for quantization.\n",
        "\n",
        "As for `forward()` of `NetQuantized()`, make sure you can simulate fixed-point representation when doing any calculation with input/output scale. Keep in mind that we will implement hardware to accelerate this model with fixed-point computations.\n",
        "   * In this assignment, we only \"emulate\" fixed-point computations. We don't need to use any fixed-point data type (e.g., `int`).\n",
        "   * You will have to fill in the TODO in `forward()` to scale the outputs of each layer. Consider rounding binary fractions to the 16th place with the following steps (e.g., for output_scale): \n",
        "- Initial input:\n",
        "   To scaling the initial input, you can simply perform `round(scale)*features` since `input_scale` is much greater than 1.\n",
        "- the convolution/fully connected layer:\n",
        "       1. `scale = round(scale*(2**16))`: Now, we have the `scale` rounded to the 16th place with a software trick of moving the binary point (`*(2**16)`) and applying the round function.\n",
        "       2. emulating bit-shifting in fixed-point numbers instead of floating-point numbers by either of the following:\n",
        "        1.\t`floor(input × scale >> 16)`\n",
        "        2.\t`int(input × scale >> 16)`\n",
        "       4. Clamp the value between -128 and 127\n",
        "    \n",
        "    \n",
        "\n",
        "Answer the following questions.\n",
        "\n",
        "1. How to compute $n_I$, $n_{W_{conv1}}$, and $n_{O_{conv1}}$? \n",
        "2. The ture quantized output activation tensor is depend on $W_{conv1_q}$ and $I_q$, so we cannot simply apply only $n_{O_{conv1}}$ on the output of $W_{conv1_q}\\times I_q$ to quantize output activation. \\\n",
        "Derive an equation for the quantized output of the conv in conv1 after quantizing activation and weight with  $n_I$, $n_{W_{conv1}}$, and $n_{O_{conv1}}$ and show the scaling factor $S_1$ of it. \\\n",
        "(hint: re-quantize $O'$ in $W_{conv1_q}\\times I_q = O'$.That is to have $S_1(W_{conv1_q}\\times I_q) \\approx S_1O' = O_{conv1_q}$ where $O_{conv1_q}$ is the quantized 8-bit signed integer output.)\n",
        "3. Derive an equation for the quantized output of the conv in conv3 after quantizing activation and weight.\n",
        "4. Show the general equantion of each layer for calculating the scaling factor of output activation.\n",
        "5. Fill in the TODO in the following code.If you’ve done everything correctly, the accuracy degradation should be negligible(~1%). What is the accuracy degradation? Show both relative error and absolute error when the true value is the accuracy we get before performing any quanitzion."
      ]
    },
    {
      "cell_type": "markdown",
      "metadata": {
        "id": "TP8BXLoBn7Wz"
      },
      "source": [
        "### 2.4 Answers\n",
        "<font color='red'>Write your answers here.</font>\n",
        "1. nI : 除了initial input要quantized(255/torch.max(torch.max(I),-torch.min(I)))外都是取前一個layer的output scalar.  \n",
        "  nWconv1 :與initial input的算法相同(255/torch.max(torch.max(W),-torch.min(W)))   \n",
        "  nOconv1 :與initial input的算法相同(255/torch.max(torch.max(O),-torch.min(O)))   \n",
        "2. S1(nWconvl * nI * Wconv1×I) = nOconvl * Oconv1 = Oconvq1  \n",
        "  Oconv1q = Wconv1*I * nOconv1   \n",
        "  S1 = nOconvl / nWconvl / nI\n",
        "3. Oconv3q = Wconv3 * Omaxpooling2 * nOconv3   \n",
        "  S3 = nOconv3 / nWmaxpool2 / nI\n",
        "4. S = nO / nW / nI\n",
        "5. accuracy degradation是我們在進行quantized後，捨棄了小數點的部分，所以導致精準度的下降。   \n",
        "  absolute error: 98.92 - 98.84 = 0.08   \n",
        "  relative error: 0.01 / 98.92 = 8.087e-4 \n"
      ]
    },
    {
      "cell_type": "code",
      "execution_count": 19,
      "metadata": {
        "id": "zLjSp7hsXofq"
      },
      "outputs": [],
      "source": [
        "from typing import List\n",
        "\n",
        "class NetQuantized(nn.Module):\n",
        "    def __init__(self, net_with_weights_quantized: nn.Module):\n",
        "        super(NetQuantized, self).__init__()\n",
        "        \n",
        "        net_init = copy_model(net_with_weights_quantized)\n",
        "\n",
        "        self.conv1 = net_init.conv1\n",
        "        self.maxpool2 = net_init.maxpool2\n",
        "        self.conv3 = net_init.conv3\n",
        "        self.maxpool4 = net_init.maxpool4\n",
        "        self.conv5 = net_init.conv5\n",
        "        self.fc6 = net_init.fc6\n",
        "        self.output = net_init.output\n",
        "\n",
        "        for layer in self.conv1, self.conv3, self.conv5, self.fc6, self.output:\n",
        "            def pre_hook(l, x):\n",
        "                x = x[0]\n",
        "                if (x < -128).any() or (x > 127).any():\n",
        "                    raise Exception(\"Input to {} layer is out of bounds for an 8-bit signed integer\".format(l.__class__.__name__))\n",
        "                if (x != x.round()).any():\n",
        "                    raise Exception(\"Input to {} layer has non-integer values\".format(l.__class__.__name__))\n",
        "            layer.register_forward_pre_hook(pre_hook)\n",
        "\n",
        "        # Calculate the scaling factor for the initial input to the CNN\n",
        "        self.input_activations = net_with_weights_quantized.conv1.inAct\n",
        "        self.input_scale = NetQuantized.quantize_initial_input(self.input_activations)\n",
        "\n",
        "        # Calculate the output scaling factors for all the layers of the CNN\n",
        "        preceding_layer_scales = []\n",
        "        for layer in self.conv1, self.conv3, self.conv5, self.fc6, self.output:\n",
        "            layer.output_scale = NetQuantized.quantize_activations(layer.outAct, layer[0].weight.scale, self.input_scale, preceding_layer_scales)\n",
        "            preceding_layer_scales.append((layer[0].weight.scale, layer.output_scale))\n",
        "\n",
        "    @staticmethod\n",
        "    def quantize_initial_input(pixels: np.ndarray) -> float:\n",
        "        '''\n",
        "        Calculate a scaling factor for the images that are input to the first layer of the CNN.\n",
        "\n",
        "        Parameters:\n",
        "        pixels (ndarray): The values of all the pixels which were part of the input image during training\n",
        "\n",
        "        Returns:\n",
        "        float: A scaling factor that the input should be multiplied by before being fed into the first layer.\n",
        "               This value does not need to be an 8-bit integer.\n",
        "        '''\n",
        "\n",
        "        # TODO\n",
        "        rmax = torch.max(torch.max(pixels),-torch.min(pixels))\n",
        "        S = rmax*2/255\n",
        "\n",
        "\n",
        "        return 1/S\n",
        "\n",
        "    @staticmethod\n",
        "    def quantize_activations(activations: np.ndarray, n_w: float, n_initial_input: float, n_s: List[Tuple[float, float]]) -> float:\n",
        "        '''\n",
        "        Calculate a scaling factor to multiply the output of a layer by.\n",
        "\n",
        "        Parameters:\n",
        "        activations (ndarray): The values of all the pixels which have been output by this layer during training\n",
        "        n_w (float): The scale by which the weights of this layer were multiplied as part of the \"quantize_weights\" function you wrote earlier\n",
        "        n_initial_input (float): The scale by which the initial input to the neural network was multiplied\n",
        "        n_s ([(float, float)]): A list of tuples, where each tuple represents the \"weight scale\" and \"output scale\" (in that order) for every preceding layer\n",
        "\n",
        "        Returns:\n",
        "        float: A scaling factor that the layer output should be multiplied by before being fed into the first layer.\n",
        "               This value does not need to be an 8-bit integer.\n",
        "        '''\n",
        "        # TODO\n",
        "        rmax = torch.max(torch.max(activations),-torch.min(activations))\n",
        "        S = rmax*2/255\n",
        "        S = 1/S\n",
        "        M = n_initial_input\n",
        "        for i in n_s:\n",
        "          M = M * i[0] * i[1]\n",
        "        M = M * n_w\n",
        "        S = S / M\n",
        "        \n",
        "        return S\n",
        "\n",
        "    def forward(self, x: torch.Tensor) -> torch.Tensor:\n",
        "        '''\n",
        "        Since input_scale is 128 and all output_scales are less than 1, we should keep input_scale as it is and tranform output_scale to \n",
        "        round(1/output_scale) to ease the verilog implementaion.\n",
        "        \n",
        "        Also, the normalized input images is a matrix with lots of floating numbers. We can transform x*input_scale to\n",
        "        input_scale/round(1/x)\n",
        "        \n",
        "        To not implement rounding in verilog, we use floor when doing other calculations with input/output_scale.\n",
        "        '''\n",
        "        # To make sure that the outputs of each layer are integers between -128 and 127, you may need to use the following functions:\n",
        "        #   * torch.Tensor.round\n",
        "        #   * torch.Tensor.floor\n",
        "        #   * torch.clamp\n",
        "\n",
        "        # TODO\n",
        "        \n",
        "        x = torch.Tensor.round(self.input_scale)/torch.round(1/x)\n",
        "        x = torch.Tensor.floor(x)\n",
        "        x = self.conv1(x)\n",
        "        S = torch.Tensor.round(self.conv1.output_scale*(2**16))\n",
        "        x = torch.Tensor.floor((x*S)/(2**16))\n",
        "        x = torch.clamp(x, -128, 127)\n",
        "        x = self.maxpool2(x)\n",
        "        x = self.conv3(x)\n",
        "        \n",
        "        S = torch.Tensor.round(self.conv3.output_scale*(2**16))\n",
        "        x = torch.Tensor.floor((x*S)/(2**16))\n",
        "        x = torch.clamp(x, -128, 127)\n",
        "    \n",
        "        x = self.maxpool4(x)\n",
        "        x = self.conv5(x)\n",
        "\n",
        "        S = torch.Tensor.round(self.conv5.output_scale*(2**16))\n",
        "        x = torch.Tensor.floor((x*S)/(2**16))\n",
        "        x = torch.clamp(x, -128, 127)\n",
        "        \n",
        "        x = torch.flatten(x, 1)\n",
        "        x = self.fc6(x)\n",
        "        S = torch.Tensor.round(self.fc6.output_scale*(2**16))\n",
        "        x = torch.Tensor.floor((x*S)/(2**16))\n",
        "        x = torch.clamp(x, -128, 127)\n",
        "        x = self.output(x)\n",
        "        S = torch.Tensor.round(self.output.output_scale*(2**16))\n",
        "        x = torch.Tensor.floor((x*S)/(2**16))\n",
        "        x = torch.clamp(x, -128, 127)  \n",
        "        return x"
      ]
    },
    {
      "cell_type": "code",
      "execution_count": 20,
      "metadata": {
        "id": "13CpHgvE994J"
      },
      "outputs": [],
      "source": [
        "net_init = copy_model(net_q2)\n",
        "net_init.input_activations = deepcopy(net_q3.conv1.inAct)\n",
        "        \n",
        "for layer_init, layer_q3 in zip(net_init.children(), net_q3.children()):\n",
        "    layer_init.inAct = deepcopy(layer_q3.inAct)\n",
        "    layer_init.outAct = deepcopy(layer_q3.outAct)\n",
        "\n",
        "net_quantized = NetQuantized(net_init)"
      ]
    },
    {
      "cell_type": "code",
      "execution_count": 21,
      "metadata": {
        "colab": {
          "base_uri": "https://localhost:8080/"
        },
        "id": "VcBXEodN6hrY",
        "outputId": "03703b59-06c2-4d2d-8ab4-b6ed69bc10e3"
      },
      "outputs": [
        {
          "output_type": "stream",
          "name": "stdout",
          "text": [
            "Accuracy of the network after quantizing both weights and activations: 98.84%\n"
          ]
        }
      ],
      "source": [
        "score = test(net_quantized, testloader)\n",
        "print('Accuracy of the network after quantizing both weights and activations: {}%'.format(score))"
      ]
    },
    {
      "cell_type": "markdown",
      "metadata": {
        "id": "f-y3ioyHQs0R"
      },
      "source": [
        "Answer the following questions.(hint: please consider verilog implementation):\n",
        "\n",
        "6. What is the benefit of using `floor`?\n",
        "7. What is the benefit of replacing `x*output_scale`with `x/round(1/output_scale)`?"
      ]
    },
    {
      "cell_type": "markdown",
      "metadata": {
        "id": "OJRfyKGzoQUv"
      },
      "source": [
        "### 2.4 Answers\n",
        "<font color='red'>Write your answers here.</font>\n",
        "6. 我們可以保證得到的數字是向下取的整數，而round計算可能會產生小數。verilog的計算是以整數去算的，所以floor用在verilog會比較好。\n",
        "7. 好處是轉成整數後運算速度比較快且可以減少誤差。"
      ]
    },
    {
      "cell_type": "code",
      "execution_count": 22,
      "metadata": {
        "id": "oFYJQKXTQs0R",
        "colab": {
          "base_uri": "https://localhost:8080/"
        },
        "outputId": "ce27a931-3147-4c51-9f31-9b019ba05478"
      },
      "outputs": [
        {
          "output_type": "stream",
          "name": "stdout",
          "text": [
            "input_scale:\n",
            " 127.49999237060547\n",
            "output_scale:\n",
            " 0.0014914418570697308\n",
            " 0.004484623204916716\n",
            " 0.004763831850141287\n",
            " 0.006029605399817228\n",
            " 0.006037507671862841\n",
            "input_scale:\n",
            " 127.49999237060547\n",
            "output_scale:\n",
            " 670\n",
            " 223\n",
            " 210\n",
            " 166\n",
            " 166\n"
          ]
        }
      ],
      "source": [
        "print(\"input_scale:\\n\", net_quantized.input_scale.item())\n",
        "print(\"output_scale:\\n {}\\n {}\\n {}\\n {}\\n {}\".format(\n",
        "    net_quantized.conv1.output_scale.item(),\n",
        "    net_quantized.conv3.output_scale.item(),\n",
        "    net_quantized.conv5.output_scale.item(),\n",
        "    net_quantized.fc6.output_scale.item(),\n",
        "    net_quantized.output.output_scale.item()\n",
        "))\n",
        "\n",
        "print(\"input_scale:\\n\", net_quantized.input_scale.item())\n",
        "print(\"output_scale:\\n {}\\n {}\\n {}\\n {}\\n {}\".format(\n",
        "    round(1/net_quantized.conv1.output_scale.item()),\n",
        "    round(1/net_quantized.conv3.output_scale.item()),\n",
        "    round(1/net_quantized.conv5.output_scale.item()),\n",
        "    round(1/net_quantized.fc6.output_scale.item()),\n",
        "    round(1/net_quantized.output.output_scale.item())\n",
        "))"
      ]
    },
    {
      "cell_type": "markdown",
      "metadata": {
        "id": "1jTOL7scbMs7"
      },
      "source": [
        "### 2.5 Question:  Quantize Biases\n",
        "We add a bias in the final layer of this LeNet.\n",
        "* You should comment out `train(NET_WITH_BIAS, trainloader, 2)` and uncomment `NET_WITH_BIAS.load_state_dict(torch.load('lenet_with_bias.pt'))` before submitting your homework.\n",
        "    * Also, reloading the model from `lenet_with_bias.pt` can save your time if there is something wrong and you need to restart and run all.\n",
        "\n",
        "Answer the following questions.\n",
        "1. Now the equation is $$W*I+\\beta = O$$ where $\\beta$ is the bias. Derive the equation of a quantized layer with bias.\\\n",
        "Note that our biases are commonly quantized to 32-bits\n",
        "2. What is the scaling factor for the bias?\\\n",
        "(hint: the form looks just like what we have done for quantizing activations)\n",
        "3. Fill in the TODO in the following code.If you’ve done everything correctly, the accuracy degradation should be negligible(~1%). What is the accuracy degradation?\\\n",
        "Show both relative error and absolute error when the true value is the accuracy we get before performing any quanitzion."
      ]
    },
    {
      "cell_type": "markdown",
      "metadata": {
        "id": "JbEIJDCsoZOF"
      },
      "source": [
        "### 2.5 Answers\n",
        "<font color='red'>Write your answers here.</font>\n",
        "1. W = Wq / nW, I = Iq / nI,O = Oq/nO  \n",
        "  Wq*Iq/nW/nI +Bq/nB = Oq/nO  \n",
        "  Bq = (Oq/nO-Wq*Iq/nW/nI)nB\n",
        "2. S = 1 / nW / nI\n",
        "3. absolute error 98.57-98.45 = 0.12%   \n",
        "   relative error 0.12/98.57 = 1.2e-3=0.12%"
      ]
    },
    {
      "cell_type": "code",
      "execution_count": 23,
      "metadata": {
        "id": "bvv9-k1HPbgz"
      },
      "outputs": [],
      "source": [
        "class NetWithBias(Net):\n",
        "    def __init__(self):\n",
        "        super(NetWithBias, self).__init__()\n",
        "\n",
        "        self.output = nn.Sequential(OrderedDict([\n",
        "            ('fc', nn.Linear(84, 10, bias=True)),\n",
        "        ]))\n",
        "    \n",
        "NET_WITH_BIAS = NetWithBias().to(device)"
      ]
    },
    {
      "cell_type": "code",
      "execution_count": 24,
      "metadata": {
        "id": "9vLUCDnnVf4R",
        "colab": {
          "base_uri": "https://localhost:8080/"
        },
        "outputId": "3d1f84f6-4705-4d2f-c3c8-51809afc42c6"
      },
      "outputs": [
        {
          "output_type": "stream",
          "name": "stdout",
          "text": [
            "Accuracy of the network (with a bias) on the test images: 98.57%\n"
          ]
        }
      ],
      "source": [
        "#train(NET_WITH_BIAS, trainloader, 2)\n",
        "NET_WITH_BIAS.load_state_dict(torch.load('lenet_with_bias.pt'))\n",
        "score = test(NET_WITH_BIAS, testloader)\n",
        "print('Accuracy of the network (with a bias) on the test images: {}%'.format(score))\n",
        "torch.save(NET_WITH_BIAS.state_dict(), 'lenet_with_bias.pt')"
      ]
    },
    {
      "cell_type": "code",
      "execution_count": 25,
      "metadata": {
        "id": "U_ZiJk6yEEM-",
        "scrolled": true,
        "colab": {
          "base_uri": "https://localhost:8080/"
        },
        "outputId": "afde95bc-1921-4bc0-92ac-09e8c18ab476"
      },
      "outputs": [
        {
          "output_type": "stream",
          "name": "stdout",
          "text": [
            "conv1\n",
            " [register_forward_hook]: Sequential(\n",
            "  (conv): Conv2d(1, 6, kernel_size=(5, 5), stride=(1, 1), bias=False)\n",
            "  (relu): ReLU()\n",
            ")\n",
            "maxpool2\n",
            " [register_forward_hook]: Sequential(\n",
            "  (pool): MaxPool2d(kernel_size=(2, 2), stride=2, padding=0, dilation=1, ceil_mode=False)\n",
            ")\n",
            "conv3\n",
            " [register_forward_hook]: Sequential(\n",
            "  (conv): Conv2d(6, 16, kernel_size=(5, 5), stride=(1, 1), bias=False)\n",
            "  (relu): ReLU()\n",
            ")\n",
            "maxpool4\n",
            " [register_forward_hook]: Sequential(\n",
            "  (pool): MaxPool2d(kernel_size=(2, 2), stride=2, padding=0, dilation=1, ceil_mode=False)\n",
            ")\n",
            "conv5\n",
            " [register_forward_hook]: Sequential(\n",
            "  (conv): Conv2d(16, 120, kernel_size=(5, 5), stride=(1, 1), bias=False)\n",
            "  (relu): ReLU()\n",
            ")\n",
            "fc6\n",
            " [register_forward_hook]: Sequential(\n",
            "  (fc): Linear(in_features=120, out_features=84, bias=False)\n",
            "  (relu): ReLU()\n",
            ")\n",
            "output\n",
            " [register_forward_hook]: Sequential(\n",
            "  (fc): Linear(in_features=84, out_features=10, bias=True)\n",
            ")\n"
          ]
        }
      ],
      "source": [
        "for name, model in NET_WITH_BIAS.named_children():\n",
        "    print(\"{}\\n [register_forward_hook]: {}\".format(name, model))\n",
        "    model.profile_activations = True\n",
        "    model.register_forward_hook(visualize_activations)\n",
        "NET_WITH_BIAS.eval()\n",
        "with torch.no_grad():\n",
        "    input = trainset[0][0].unsqueeze(0)\n",
        "    _ = NET_WITH_BIAS(input.to(device))\n",
        "for name, model in NET_WITH_BIAS.named_children(): model.profile_activations = False "
      ]
    },
    {
      "cell_type": "code",
      "execution_count": 26,
      "metadata": {
        "id": "yZwk8KLtAUAM",
        "colab": {
          "base_uri": "https://localhost:8080/"
        },
        "outputId": "91cb0364-06f9-4e09-86e6-4d5f12022247"
      },
      "outputs": [
        {
          "output_type": "stream",
          "name": "stdout",
          "text": [
            "Accuracy of the network on the test images after all the weights are quantized but the bias isn't: 98.54%\n"
          ]
        }
      ],
      "source": [
        "net_with_bias_with_quantized_weights = copy_model(NET_WITH_BIAS)\n",
        "quantize_layer_weights(net_with_bias_with_quantized_weights)\n",
        "\n",
        "score = test(net_with_bias_with_quantized_weights, testloader)\n",
        "print('Accuracy of the network on the test images after all the weights are quantized but the bias isn\\'t: {}%'.format(score))"
      ]
    },
    {
      "cell_type": "code",
      "execution_count": 27,
      "metadata": {
        "id": "mO2Gdu_tEZ4v"
      },
      "outputs": [],
      "source": [
        "class NetQuantizedWithBias(NetQuantized):\n",
        "    def __init__(self, net_with_weights_quantized: nn.Module):\n",
        "        super(NetQuantizedWithBias, self).__init__(net_with_weights_quantized)\n",
        "        preceding_scales = [\n",
        "            (self.conv1[0].weight.scale, self.conv1.output_scale),\n",
        "            (self.conv3[0].weight.scale, self.conv3.output_scale),\n",
        "            (self.conv5[0].weight.scale, self.conv5.output_scale),\n",
        "            (self.fc6[0].weight.scale, self.fc6.output_scale),\n",
        "            (self.output[0].weight.scale, self.output.output_scale)\n",
        "        ][:-1]\n",
        "        \n",
        "        self.output[0].bias.data = NetQuantizedWithBias.quantized_bias(\n",
        "            self.output[0].bias.data,\n",
        "            self.output[0].weight.scale,\n",
        "            self.input_scale,\n",
        "            preceding_scales\n",
        "        )\n",
        "\n",
        "        if (self.output[0].bias.data < -2147483648).any() or (self.output[0].bias.data > 2147483647).any():\n",
        "            raise Exception(\"Bias has values which are out of bounds for an 32-bit signed integer\")\n",
        "        if (self.output[0].bias.data != self.output[0].bias.data.round()).any():\n",
        "            raise Exception(\"Bias has non-integer values\")\n",
        "\n",
        "    @staticmethod\n",
        "    def quantized_bias(bias: torch.Tensor, n_w: float, n_initial_input: float, n_s: List[Tuple[float, float]]) -> torch.Tensor:\n",
        "        '''\n",
        "        Quantize the bias so that all values are integers between -2147483648 and 2147483647.\n",
        "\n",
        "        Parameters:\n",
        "        bias (Tensor): The floating point values of the bias\n",
        "        n_w (float): The scale by which the weights of this layer were multiplied\n",
        "        n_initial_input (float): The scale by which the initial input to the neural network was multiplied\n",
        "        n_s ([(float, float)]): A list of tuples, where each tuple represents the \"weight scale\" and \"output scale\" (in that order) for every preceding layer\n",
        "\n",
        "        Returns:\n",
        "        Tensor: The bias in quantized form, where every value is an integer between -2147483648 and 2147483647.\n",
        "                The \"dtype\" will still be \"float\", but the values themselves should all be integers.\n",
        "        '''\n",
        "\n",
        "        # TODO\n",
        "        # --------------------------------------------------------------------\n",
        "        # The quantization way are similar to quantize output activation\n",
        "        # --------------------------------------------------------------------\n",
        "        M = n_initial_input\n",
        "        for i in n_s:\n",
        "          M = M * i[0] * i[1]\n",
        "        M = M * n_w\n",
        "        bias = bias /  M\n",
        "        return torch.clamp((bias).round(), min=-2147483648, max=2147483647)"
      ]
    },
    {
      "cell_type": "code",
      "execution_count": 28,
      "metadata": {
        "id": "TA6rXt3Q-zF8"
      },
      "outputs": [],
      "source": [
        "net_quantized_with_bias = NetQuantizedWithBias(net_with_bias_with_quantized_weights)"
      ]
    },
    {
      "cell_type": "code",
      "execution_count": 29,
      "metadata": {
        "id": "UJvR6Wv_GJJX",
        "colab": {
          "base_uri": "https://localhost:8080/"
        },
        "outputId": "238b8e83-105a-4677-b648-32e97d3ea33f"
      },
      "outputs": [
        {
          "output_type": "stream",
          "name": "stdout",
          "text": [
            "Accuracy of the network on the test images after all the weights and the bias are quantized: 98.45%\n"
          ]
        }
      ],
      "source": [
        "score = test(net_quantized_with_bias, testloader)\n",
        "print('Accuracy of the network on the test images after all the weights and the bias are quantized: {}%'.format(score))"
      ]
    },
    {
      "cell_type": "markdown",
      "metadata": {
        "id": "dFKPOnHG4_y2"
      },
      "source": [
        "## 3. Quantization Aware Training (QAT)\n",
        "* You should comment out `train(model_fp32_prepared, trainloader, 2)` and uncomment `model_fp32_prepared.load_state_dict(torch.load('model_fp32_prepared.pt'))` before submitting your homework.\n",
        "    * Also, reloading the model from `model_fp32_prepared.pt` can save your time if there is something wrong and you need to restart and run all.\n",
        "\n",
        "### 3.1 Question: \n",
        "Try to trace code and study the quantization-aware training (QAT) from [Quantization — PyTorch 1.13 documentation](https://pytorch.org/docs/stable/quantization.html), then answer the following question.\n",
        "\n",
        "1. How can the QAT achieve a higher accuracy than the post-training quantization (PTQ)?\n",
        "2. What does the function model_fp32_fused do to improve precision and speed?\n",
        "3. Two more layers (quant, dequant) appeared after we quantized our model using the PyTorch QAT method. What do these two layers do?"
      ]
    },
    {
      "cell_type": "markdown",
      "metadata": {
        "id": "_ey6AaTG6n9M"
      },
      "source": [
        "### 3.1 Answers\n",
        "<font color='red'>Write your answers here.</font>\n",
        "1. 因為QAT會在training的過程中模擬quantization的效益並進行調整，而PTQ在一開始預測完後就部會再調整了，所以比較準。\n",
        "2. model_fp32_fused將activation與前面的layer結合一起計算，因為一起計算可以減少round類型的操作增加accuracy，而減少存取次數可以增加速度。\n",
        "3. QuantStub()負責將floating point轉成quantized，而DeQuantStub()會將quantized再轉回floating point。這兩個layer會加進去各層layer中使用。"
      ]
    },
    {
      "cell_type": "code",
      "execution_count": 30,
      "metadata": {
        "colab": {
          "base_uri": "https://localhost:8080/"
        },
        "id": "2TfUxMTyQs0S",
        "outputId": "e266a9d8-1d0e-4969-cb02-188492fb3988"
      },
      "outputs": [
        {
          "output_type": "stream",
          "name": "stdout",
          "text": [
            "QATNet(\n",
            "  (conv1): Sequential(\n",
            "    (conv): Conv2d(1, 6, kernel_size=(5, 5), stride=(1, 1), bias=False)\n",
            "    (relu): ReLU()\n",
            "  )\n",
            "  (maxpool2): Sequential(\n",
            "    (pool): MaxPool2d(kernel_size=(2, 2), stride=2, padding=0, dilation=1, ceil_mode=False)\n",
            "  )\n",
            "  (conv3): Sequential(\n",
            "    (conv): Conv2d(6, 16, kernel_size=(5, 5), stride=(1, 1), bias=False)\n",
            "    (relu): ReLU()\n",
            "  )\n",
            "  (maxpool4): Sequential(\n",
            "    (pool): MaxPool2d(kernel_size=(2, 2), stride=2, padding=0, dilation=1, ceil_mode=False)\n",
            "  )\n",
            "  (conv5): Sequential(\n",
            "    (conv): Conv2d(16, 120, kernel_size=(5, 5), stride=(1, 1), bias=False)\n",
            "    (relu): ReLU()\n",
            "  )\n",
            "  (fc6): Sequential(\n",
            "    (fc): Linear(in_features=120, out_features=84, bias=False)\n",
            "    (relu): ReLU()\n",
            "  )\n",
            "  (output): Sequential(\n",
            "    (fc): Linear(in_features=84, out_features=10, bias=True)\n",
            "  )\n",
            "  (quant): QuantStub()\n",
            "  (dequant): DeQuantStub()\n",
            ")\n",
            "QATNet(\n",
            "  (conv1): Sequential(\n",
            "    (conv): Conv2d(1, 6, kernel_size=(5, 5), stride=(1, 1), bias=False)\n",
            "    (relu): ReLU()\n",
            "  )\n",
            "  (maxpool2): Sequential(\n",
            "    (pool): MaxPool2d(kernel_size=(2, 2), stride=2, padding=0, dilation=1, ceil_mode=False)\n",
            "  )\n",
            "  (conv3): Sequential(\n",
            "    (conv): Conv2d(6, 16, kernel_size=(5, 5), stride=(1, 1), bias=False)\n",
            "    (relu): ReLU()\n",
            "  )\n",
            "  (maxpool4): Sequential(\n",
            "    (pool): MaxPool2d(kernel_size=(2, 2), stride=2, padding=0, dilation=1, ceil_mode=False)\n",
            "  )\n",
            "  (conv5): Sequential(\n",
            "    (conv): Conv2d(16, 120, kernel_size=(5, 5), stride=(1, 1), bias=False)\n",
            "    (relu): ReLU()\n",
            "  )\n",
            "  (fc6): Sequential(\n",
            "    (fc): Linear(in_features=120, out_features=84, bias=False)\n",
            "    (relu): ReLU()\n",
            "  )\n",
            "  (output): Sequential(\n",
            "    (fc): Linear(in_features=84, out_features=10, bias=True)\n",
            "  )\n",
            "  (quant): QuantStub()\n",
            "  (dequant): DeQuantStub()\n",
            ")\n",
            "QConfig(activation=functools.partial(<class 'torch.ao.quantization.fake_quantize.FusedMovingAvgObsFakeQuantize'>, observer=<class 'torch.ao.quantization.observer.MovingAverageMinMaxObserver'>, quant_min=0, quant_max=255, reduce_range=True){}, weight=functools.partial(<class 'torch.ao.quantization.fake_quantize.FusedMovingAvgObsFakeQuantize'>, observer=<class 'torch.ao.quantization.observer.MovingAveragePerChannelMinMaxObserver'>, quant_min=-128, quant_max=127, dtype=torch.qint8, qscheme=torch.per_channel_symmetric){})\n"
          ]
        },
        {
          "output_type": "stream",
          "name": "stderr",
          "text": [
            "/usr/local/lib/python3.9/dist-packages/torch/ao/quantization/observer.py:214: UserWarning: Please use quant_min and quant_max to specify the range for observers.                     reduce_range will be deprecated in a future release of PyTorch.\n",
            "  warnings.warn(\n",
            "/usr/local/lib/python3.9/dist-packages/torch/ao/quantization/fake_quantize.py:309: UserWarning: _aminmax is deprecated as of PyTorch 1.11 and will be removed in a future release. Use aminmax instead. This warning will only appear once per process. (Triggered internally at ../aten/src/ATen/native/ReduceAllOps.cpp:45.)\n",
            "  return torch.fused_moving_avg_obs_fake_quant(\n",
            "/usr/local/lib/python3.9/dist-packages/torch/ao/quantization/fake_quantize.py:309: UserWarning: _aminmax is deprecated as of PyTorch 1.11 and will be removed in a future release. Use aminmax instead. This warning will only appear once per process. (Triggered internally at ../aten/src/ATen/native/TensorCompare.cpp:568.)\n",
            "  return torch.fused_moving_avg_obs_fake_quant(\n"
          ]
        },
        {
          "output_type": "stream",
          "name": "stdout",
          "text": [
            "Accuracy of the model_fp32_prepared: 98.3%\n"
          ]
        }
      ],
      "source": [
        "class QATNet(NetWithBias):\n",
        "    def __init__(self):\n",
        "        super().__init__()\n",
        "        # QuantStub converts tensors from floating point to quantized\n",
        "        self.quant = torch.quantization.QuantStub()\n",
        "        # DeQuantStub converts tensors from quantized to floating point\n",
        "        self.dequant = torch.quantization.DeQuantStub()\n",
        "\n",
        "    def forward(self, x):\n",
        "        x = self.quant(x)\n",
        "        x = super().forward(x)\n",
        "        x = self.dequant(x)\n",
        "        return x\n",
        "    \n",
        "MODEL_FP32 = QATNet().to(device)\n",
        "print(MODEL_FP32)\n",
        "\n",
        "MODEL_FP32.eval()\n",
        "print(MODEL_FP32)\n",
        "\n",
        "MODEL_FP32.qconfig = torch.quantization.get_default_qat_qconfig('fbgemm')\n",
        "MODEL_FP32_FUSED = torch.quantization.fuse_modules(MODEL_FP32,\n",
        "    [['conv1.conv', 'conv1.relu'], \n",
        "     ['conv3.conv', 'conv3.relu'],\n",
        "     ['conv5.conv', 'conv5.relu'],\n",
        "     ['fc6.fc', 'fc6.relu'],\n",
        "    ])\n",
        "MODEL_FP32_FUSED = MODEL_FP32\n",
        "# Specify quantization configuration\n",
        "MODEL_FP32_FUSED.qconfig = torch.ao.quantization.get_default_qat_qconfig('fbgemm')\n",
        "print(MODEL_FP32_FUSED.qconfig)\n",
        "\n",
        "model_fp32_prepared = torch.quantization.prepare_qat(MODEL_FP32_FUSED.train())\n",
        "\n",
        "#train(model_fp32_prepared, trainloader, 2)\n",
        "model_fp32_prepared.load_state_dict(torch.load('model_fp32_prepared.pt'))\n",
        "score = test(model_fp32_prepared, testloader)\n",
        "print('Accuracy of the model_fp32_prepared: {}%'.format(score))\n",
        "torch.save(model_fp32_prepared.state_dict(), 'model_fp32_prepared.pt')"
      ]
    },
    {
      "cell_type": "code",
      "execution_count": 31,
      "metadata": {
        "id": "Qdw9gz9kQs0T"
      },
      "outputs": [],
      "source": [
        "# model_fp32_prepared"
      ]
    },
    {
      "cell_type": "code",
      "execution_count": 32,
      "metadata": {
        "id": "d_Tbb3tlQs0T"
      },
      "outputs": [],
      "source": [
        "model_fp32_prepared = model_fp32_prepared.to('cpu')\n",
        "model_fp32_prepared.eval()\n",
        "qat = torch.quantization.convert(model_fp32_prepared, inplace=False)\n"
      ]
    },
    {
      "cell_type": "markdown",
      "metadata": {
        "id": "U_W-RCmHjlkg"
      },
      "source": [
        "# Extract the input and output of the quantized model"
      ]
    },
    {
      "cell_type": "code",
      "execution_count": 33,
      "metadata": {
        "id": "AllumB6-YI9B"
      },
      "outputs": [],
      "source": [
        "# copy the model with bias quantized model and save the weights\n",
        "inference_model = copy_model(qat)"
      ]
    },
    {
      "cell_type": "code",
      "execution_count": 34,
      "metadata": {
        "colab": {
          "base_uri": "https://localhost:8080/"
        },
        "id": "jWPqoj8tf0Rr",
        "outputId": "bf5361f3-39c8-4065-e321-16035778fdc2"
      },
      "outputs": [
        {
          "output_type": "stream",
          "name": "stdout",
          "text": [
            "Accuracy of the network after quantizing both weights and activations: 98.3%\n"
          ]
        }
      ],
      "source": [
        "# Use accuray to make sure it is same model\n",
        "score = test(inference_model, testloader, None, torch.device('cpu'))\n",
        "print('Accuracy of the network after quantizing both weights and activations: {}%'.format(score))"
      ]
    },
    {
      "cell_type": "markdown",
      "metadata": {
        "id": "5TfpcnC60_g4"
      },
      "source": [
        "Use an image as an input of the activations，and choose 100 images to generate patterns for our homework 2."
      ]
    },
    {
      "cell_type": "code",
      "execution_count": 35,
      "metadata": {
        "id": "CByZgw-ftMBD"
      },
      "outputs": [],
      "source": [
        "# random choose images as the input and get the output\n",
        "np.random.seed(0)\n",
        "index = np.random.randint(0,len(trainset), size=100)\n",
        "index = range(100)"
      ]
    },
    {
      "cell_type": "markdown",
      "metadata": {
        "id": "x9M4QXt60WmL"
      },
      "source": [
        "Save the activations of input and output to the CSV format."
      ]
    },
    {
      "cell_type": "code",
      "execution_count": 36,
      "metadata": {
        "id": "WSIdYFyZshFj"
      },
      "outputs": [],
      "source": [
        "import os \n",
        "import zipfile\n",
        "# It is easier to download all the files with zip\n",
        "zf = zipfile.ZipFile('parameters.zip', 'w', zipfile.ZIP_DEFLATED)\n",
        "\n",
        "if not os.path.exists('./activations'):\n",
        "    os.mkdir('./activations')"
      ]
    },
    {
      "cell_type": "code",
      "execution_count": 37,
      "metadata": {
        "id": "dWkY6fZ_Qs0T"
      },
      "outputs": [],
      "source": [
        "for ind in range(100):\n",
        "    if not os.path.exists('./activations/img{}'.format(ind)):\n",
        "        os.mkdir('./activations/img{}'.format(ind))\n",
        "\n",
        "    for name, model in qat.named_children():\n",
        "        model.profile_activations = True\n",
        "        model.register_forward_hook(visualize_activations)\n",
        "    input0, label = testset[index[ind]]\n",
        "    input = input0.reshape(1, 1, 32, 32)\n",
        "    output = qat(input)\n",
        "    for name, model in qat.named_children(): model.profile_activations = False \n",
        "    \n",
        "\n",
        "    np.savetxt('./activations/img{}/input.csv'.format(ind), input.cpu().data.numpy().reshape(-1), delimiter=',')\n",
        "    np.savetxt('./activations/img{}/output.csv'.format(ind), output.cpu().data.numpy().reshape(-1).astype(int), delimiter=',')\n",
        "    zf.write('./activations/img{}/input.csv'.format(ind))\n",
        "    zf.write('./activations/img{}/output.csv'.format(ind))\n",
        "    \n",
        "    opDict = {\n",
        "        'conv1': (qat.conv1.inAct, qat.conv1.outAct),\n",
        "        'maxpool2': (qat.maxpool2.inAct, qat.maxpool2.outAct),\n",
        "        'conv3': (qat.conv3.inAct, qat.conv3.outAct),\n",
        "        'maxpool4': (qat.maxpool4.inAct, qat.maxpool4.outAct),\n",
        "        'conv5': (qat.conv5.inAct, qat.conv5.outAct),\n",
        "        'fc6': (qat.fc6.inAct, qat.fc6.outAct),\n",
        "        'quant': (qat.quant.inAct, qat.quant.outAct),\n",
        "        'dequant': (qat.dequant.inAct, qat.dequant.outAct),\n",
        "        'output': (qat.output.inAct, qat.output.outAct)\n",
        "    }\n",
        "    \n",
        "    for key in opDict:\n",
        "        if not os.path.exists('./activations/img{}/{}'.format(ind, key)):\n",
        "            os.mkdir('./activations/img{}/{}'.format(ind, key))\n",
        "        if(opDict[key][0].type()== \"torch.quantized.QInt8Tensor\" or opDict[key][0].type()== \"torch.quantized.QUInt8Tensor\"):\n",
        "            temp = opDict[key][0].cpu().int_repr()\n",
        "        else:\n",
        "            temp = opDict[key][0].cpu()\n",
        "        if(opDict[key][1].type()== \"torch.quantized.QInt8Tensor\" or opDict[key][1].type()== \"torch.quantized.QUInt8Tensor\"):\n",
        "            temp1 = opDict[key][1].cpu().int_repr()\n",
        "        else:\n",
        "            temp1 = opDict[key][1].cpu()                \n",
        "        np.savetxt('./activations/img{}/{}/input.csv'.format(ind, key), temp.data.numpy().reshape(-1).astype(float), delimiter=',')\n",
        "        np.savetxt('./activations/img{}/{}/output.csv'.format(ind, key), temp1.cpu().data.numpy().reshape(-1).astype(float), delimiter=',')\n",
        "        zf.write('./activations/img{}/{}/input.csv'.format(ind, key))\n",
        "        zf.write('./activations/img{}/{}/output.csv'.format(ind, key))"
      ]
    },
    {
      "cell_type": "markdown",
      "metadata": {
        "id": "5jo_TlzE1dqy"
      },
      "source": [
        "Save each layer's weights, zero point and scaling factor to the CSV format."
      ]
    },
    {
      "cell_type": "code",
      "execution_count": 38,
      "metadata": {
        "id": "27MD_hJUzlnf"
      },
      "outputs": [],
      "source": [
        "if not os.path.exists('./weights'):\n",
        "    os.mkdir('./weights')\n",
        "if not os.path.exists('./weights/scale'):\n",
        "    os.mkdir('./weights/scale')\n",
        "if not os.path.exists('./weights/weight'):\n",
        "    os.mkdir('./weights/weight')\n",
        "if not os.path.exists('./weights/zero_point'):\n",
        "    os.mkdir('./weights/zero_point')\n",
        "for name, weights in qat.state_dict().items():\n",
        "    name_split = name.split('.')\n",
        "    if weights!= None:\n",
        "        if name_split[-2] != \"_packed_params\":\n",
        "            if(weights.type()== \"torch.quantized.QInt8Tensor\" or weights.type()== \"torch.quantized.QUInt8Tensor\"):\n",
        "                np.savetxt('./weights/weight/%s.csv' %(name) , weights.cpu().int_repr().numpy().reshape(-1).astype(float), delimiter=',')\n",
        "                zf.write('./weights/weight/%s.csv' %(name))\n",
        "\n",
        "                np.savetxt('./weights/weight/%s.scale.csv' %(name) , weights.q_per_channel_scales().numpy().reshape(-1).astype(float), delimiter=',')\n",
        "                zf.write('./weights/weight/%s.scale.csv' %(name))\n",
        "\n",
        "                np.savetxt('./weights/weight/%s.zero_point.csv' %(name) , weights.q_per_channel_zero_points().cpu().numpy().reshape(-1).astype(float), delimiter=',')\n",
        "                zf.write('./weights/weight/%s.zero_point.csv' %(name))\n",
        "            else:\n",
        "                np.savetxt('./weights/%s/%s.csv'%(name_split[-1],name) , weights.cpu().numpy().reshape(-1).astype(float), delimiter=',')\n",
        "                zf.write('./weights/%s/%s.csv'%(name_split[-1],name))\n",
        "\n",
        "          \n",
        "          \n",
        "        elif name_split[-1] == \"_packed_params\":\n",
        "            if not os.path.exists('./weights/_packed_params'):\n",
        "                os.mkdir('./weights/_packed_params')\n",
        "            weight, bias = weights\n",
        "            name = name_split[0]+\".\"+name_split[1]\n",
        "            if(weight.type()== \"torch.quantized.QInt8Tensor\" or weight.type()== \"torch.quantized.QUInt8Tensor\"):\n",
        "                np.savetxt('./weights/weight/%s.weight.csv' %(name)  , weight.cpu().int_repr().numpy().reshape(-1).astype(float), delimiter=',')\n",
        "                zf.write('./weights/weight/%s.weight.csv' %(name))\n",
        "\n",
        "                np.savetxt('./weights/weight/%s.weight.scale.csv' %(name) , weight.q_per_channel_scales().cpu().numpy().reshape(-1).astype(float), delimiter=',')\n",
        "                zf.write('./weights/weight/%s.weight.scale.csv' %(name))\n",
        "\n",
        "                np.savetxt('./weights/weight/%s.weight.zero_point.csv' %(name) , weight.q_per_channel_zero_points().cpu().numpy().reshape(-1).astype(float), delimiter=',')\n",
        "                zf.write('./weights/weight/%s.weight.zero_point.csv' %(name))\n",
        "            \n",
        "            if bias is not None:\n",
        "                \n",
        "                if(bias.type()== \"torch.quantized.QInt8Tensor\" or bias.type()== \"torch.quantized.QUInt8Tensor\"):\n",
        "                    np.savetxt('./weights/weight/%s.bias.csv' %(name) , bias.cpu().int_repr().numpy().reshape(-1).astype(float), delimiter=',')\n",
        "                    zf.write('./weights/weight/%s.bias.csv' %(name))\n",
        "                else:\n",
        "                    np.savetxt('./weights/weight/%s.bias.csv' %(name) , bias.cpu().detach().numpy().reshape(-1).astype(float), delimiter=',')\n",
        "                    zf.write('./weights/weight/%s.bias.csv' %(name))\n"
      ]
    },
    {
      "cell_type": "markdown",
      "metadata": {
        "id": "HbUYA1VpKLAB"
      },
      "source": [
        "Save the zip file."
      ]
    },
    {
      "cell_type": "code",
      "execution_count": 39,
      "metadata": {
        "id": "BlOLRLdTJqcm"
      },
      "outputs": [],
      "source": [
        "zf.close()"
      ]
    }
  ],
  "metadata": {
    "accelerator": "GPU",
    "colab": {
      "provenance": []
    },
    "gpuClass": "standard",
    "kernelspec": {
      "display_name": "Python 3",
      "language": "python",
      "name": "python3"
    },
    "language_info": {
      "codemirror_mode": {
        "name": "ipython",
        "version": 3
      },
      "file_extension": ".py",
      "mimetype": "text/x-python",
      "name": "python",
      "nbconvert_exporter": "python",
      "pygments_lexer": "ipython3",
      "version": "3.10.4"
    },
    "vscode": {
      "interpreter": {
        "hash": "aa3a4132232ef57bd967da4f502201fad326f014cc6ad01b5db327eca3c579df"
      }
    }
  },
  "nbformat": 4,
  "nbformat_minor": 0
}