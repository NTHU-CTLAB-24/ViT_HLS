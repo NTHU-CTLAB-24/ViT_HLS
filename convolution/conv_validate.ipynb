{
 "cells": [
  {
   "cell_type": "code",
   "execution_count": 5,
   "metadata": {},
   "outputs": [
    {
     "name": "stdout",
     "output_type": "stream",
     "text": [
      "input depth:  2048\n",
      "output depth:  196\n",
      "tensor([[ 37.,  37.,  37.,  37.,  37.,  37.,  37.],\n",
      "        [ 73.,  73.,  73.,  73.,  73.,  73.,  73.],\n",
      "        [109., 109., 109., 109., 109., 109., 109.],\n",
      "        [145., 145., 145., 145., 145., 145., 145.],\n",
      "        [181., 181., 181., 181., 181., 181., 181.],\n",
      "        [217., 217., 217., 217., 217., 217., 217.],\n",
      "        [253., 253., 253., 253., 253., 253., 253.]], grad_fn=<SliceBackward0>)\n"
     ]
    }
   ],
   "source": [
    "import torch\n",
    "\n",
    "BATCH_SIZE = 2\n",
    "CHANNEL_IN = 4\n",
    "CHANNEL_OUT = 2\n",
    "HEIGHT_IN = 16\n",
    "WIDTH_IN = 16\n",
    "\n",
    "KERNEL_SIZE = 3\n",
    "PADDING = 0\n",
    "STRIDE = 2\n",
    "GROUP = 2\n",
    "\n",
    "HEIGHT_OUT = int((HEIGHT_IN - KERNEL_SIZE + 2 * PADDING) / STRIDE + 1)\n",
    "WIDTH_OUT = int((WIDTH_IN - KERNEL_SIZE + 2 * PADDING) / STRIDE + 1)\n",
    "\n",
    "x = torch.zeros(BATCH_SIZE, CHANNEL_IN, HEIGHT_IN, WIDTH_IN)\n",
    "\n",
    "for n in range(BATCH_SIZE):\n",
    "    for c in range(CHANNEL_IN):\n",
    "        for h in range(HEIGHT_IN):\n",
    "            for w in range(WIDTH_IN):\n",
    "                x[n, c, h, w] = h + c\n",
    "\n",
    "KERNEL_CHANNEL = int(CHANNEL_IN / GROUP)\n",
    "kernel = torch.zeros((CHANNEL_OUT, KERNEL_CHANNEL, KERNEL_SIZE, KERNEL_SIZE))\n",
    "for k in range(CHANNEL_OUT):\n",
    "    for l in range(KERNEL_CHANNEL):\n",
    "        for i in range(KERNEL_SIZE):\n",
    "            for j in range(KERNEL_SIZE):\n",
    "                kernel[k, l, i, j] = j + k\n",
    "\n",
    "bias = torch.zeros((CHANNEL_OUT,))\n",
    "for c in range(CHANNEL_OUT):\n",
    "    bias[c] = c + 10\n",
    "\n",
    "conv = torch.nn.Conv2d(in_channels=CHANNEL_IN, out_channels=CHANNEL_OUT,\n",
    "                       kernel_size=KERNEL_SIZE, bias=True, stride=STRIDE, padding=PADDING, groups=GROUP)\n",
    "conv.weight.data = kernel\n",
    "conv.bias.data = bias\n",
    "\n",
    "res = conv(x)\n",
    "\n",
    "# print(res)\n",
    "print(\"input depth: \", BATCH_SIZE * CHANNEL_IN * HEIGHT_IN * WIDTH_IN)\n",
    "print(\"output depth: \", BATCH_SIZE * CHANNEL_OUT * HEIGHT_OUT * WIDTH_OUT)\n",
    "print(res[0, 0, :, :])"
   ]
  },
  {
   "cell_type": "code",
   "execution_count": null,
   "metadata": {},
   "outputs": [],
   "source": []
  }
 ],
 "metadata": {
  "kernelspec": {
   "display_name": "base",
   "language": "python",
   "name": "python3"
  },
  "language_info": {
   "codemirror_mode": {
    "name": "ipython",
    "version": 3
   },
   "file_extension": ".py",
   "mimetype": "text/x-python",
   "name": "python",
   "nbconvert_exporter": "python",
   "pygments_lexer": "ipython3",
   "version": "3.10.10"
  },
  "orig_nbformat": 4
 },
 "nbformat": 4,
 "nbformat_minor": 2
}
