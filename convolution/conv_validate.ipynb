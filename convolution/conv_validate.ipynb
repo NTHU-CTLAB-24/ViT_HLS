{
 "cells": [
  {
   "cell_type": "code",
   "execution_count": 16,
   "metadata": {},
   "outputs": [
    {
     "name": "stdout",
     "output_type": "stream",
     "text": [
      "1\n",
      "input depth:  3072\n",
      "output depth:  3072\n",
      "kernel depth:  216\n",
      "tensor([[0.0140, 0.0160, 0.0160, 0.0160, 0.0160, 0.0160, 0.0160, 0.0140],\n",
      "        [0.0220, 0.0280, 0.0280, 0.0280, 0.0280, 0.0280, 0.0280, 0.0220],\n",
      "        [0.0340, 0.0460, 0.0460, 0.0460, 0.0460, 0.0460, 0.0460, 0.0340],\n",
      "        [0.0460, 0.0640, 0.0640, 0.0640, 0.0640, 0.0640, 0.0640, 0.0460],\n",
      "        [0.0580, 0.0820, 0.0820, 0.0820, 0.0820, 0.0820, 0.0820, 0.0580],\n",
      "        [0.0700, 0.1000, 0.1000, 0.1000, 0.1000, 0.1000, 0.1000, 0.0700],\n",
      "        [0.0820, 0.1180, 0.1180, 0.1180, 0.1180, 0.1180, 0.1180, 0.0820],\n",
      "        [0.0620, 0.0880, 0.0880, 0.0880, 0.0880, 0.0880, 0.0880, 0.0620]],\n",
      "       grad_fn=<SelectBackward0>)\n"
     ]
    }
   ],
   "source": [
    "import torch\n",
    "import math\n",
    "\n",
    "BATCH_SIZE = 2\n",
    "CHANNEL_IN = 24\n",
    "CHANNEL_OUT = 24\n",
    "HEIGHT_IN = 8\n",
    "WIDTH_IN = 8\n",
    "\n",
    "KERNEL_SIZE = 3\n",
    "isConvBias = True\n",
    "STRIDE = 1\n",
    "PADDING = math.ceil((KERNEL_SIZE - STRIDE) / 2)\n",
    "print(PADDING)\n",
    "GROUP = 24\n",
    "\n",
    "HEIGHT_OUT = int((HEIGHT_IN - KERNEL_SIZE + 2 * PADDING) / STRIDE + 1)\n",
    "WIDTH_OUT = int((WIDTH_IN - KERNEL_SIZE + 2 * PADDING) / STRIDE + 1)\n",
    "\n",
    "x = torch.zeros(BATCH_SIZE, CHANNEL_IN, HEIGHT_IN, WIDTH_IN)\n",
    "\n",
    "for n in range(BATCH_SIZE):\n",
    "    for c in range(CHANNEL_IN):\n",
    "        for h in range(HEIGHT_IN):\n",
    "            for w in range(WIDTH_IN):\n",
    "                x[n, c, h, w] = h + c\n",
    "\n",
    "KERNEL_CHANNEL = int(CHANNEL_IN / GROUP)\n",
    "kernel = torch.zeros((CHANNEL_OUT, KERNEL_CHANNEL, KERNEL_SIZE, KERNEL_SIZE))\n",
    "for k in range(CHANNEL_OUT):\n",
    "    for l in range(KERNEL_CHANNEL):\n",
    "        for i in range(KERNEL_SIZE):\n",
    "            for j in range(KERNEL_SIZE):\n",
    "                kernel[k, l, i, j] = 0.002\n",
    "\n",
    "bias = torch.zeros((CHANNEL_OUT,))\n",
    "for c in range(CHANNEL_OUT):\n",
    "    bias[c] = c + 0.01\n",
    "\n",
    "conv = torch.nn.Conv2d(in_channels=CHANNEL_IN, out_channels=CHANNEL_OUT,\n",
    "                       kernel_size=KERNEL_SIZE, bias=isConvBias, stride=STRIDE, padding=PADDING, groups=GROUP)\n",
    "conv.weight.data = kernel\n",
    "conv.bias.data = bias\n",
    "\n",
    "res = conv(x)\n",
    "\n",
    "# print(res)\n",
    "print(\"input depth: \", BATCH_SIZE * CHANNEL_IN * HEIGHT_IN * WIDTH_IN)\n",
    "print(\"output depth: \", BATCH_SIZE * CHANNEL_OUT * HEIGHT_OUT * WIDTH_OUT)\n",
    "print(\"kernel depth: \", CHANNEL_OUT * KERNEL_CHANNEL * KERNEL_SIZE * KERNEL_SIZE)\n",
    "print(res[0, 0, :8, :8])"
   ]
  },
  {
   "cell_type": "code",
   "execution_count": null,
   "metadata": {},
   "outputs": [],
   "source": []
  }
 ],
 "metadata": {
  "kernelspec": {
   "display_name": "base",
   "language": "python",
   "name": "python3"
  },
  "language_info": {
   "codemirror_mode": {
    "name": "ipython",
    "version": 3
   },
   "file_extension": ".py",
   "mimetype": "text/x-python",
   "name": "python",
   "nbconvert_exporter": "python",
   "pygments_lexer": "ipython3",
   "version": "3.10.10"
  },
  "orig_nbformat": 4
 },
 "nbformat": 4,
 "nbformat_minor": 2
}
