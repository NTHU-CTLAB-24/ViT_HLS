{
 "cells": [
  {
   "cell_type": "code",
   "execution_count": 28,
   "metadata": {},
   "outputs": [],
   "source": [
    "from PIL import Image\n",
    "import numpy as np\n",
    "import matplotlib.pyplot as plt\n",
    "\n",
    "out_height = 24\n",
    "out_width = 24\n",
    "path = 'C:\\\\Users\\\\justi\\\\Documents\\\\CT_lab\\\\ViT_HLS\\\\read_in\\\\source_test.jpg'\n",
    "\n",
    "pic = Image.open(path)\n",
    "target_size = min(pic.size)\n",
    "# print(target_size)\n",
    "\n",
    "left = int(pic.size[0] - target_size)/2\n",
    "top = int(pic.size[1] - target_size)/2\n",
    "right = int(pic.size[0] + target_size)/2\n",
    "bottom = int(pic.size[1] + target_size)/2\n",
    "pic = pic.crop((left, top, right, bottom)).rotate(90).resize((out_width, out_height))\n",
    "rgb_split = Image.Image.split(pic)\n",
    "\n",
    "# print(*list(rgb_split[0].getdata()) + list(rgb_split[1].getdata()) + list(rgb_split[2].getdata()))\n",
    "out = open(\"test.txt\", \"w\")\n",
    "print(*list(rgb_split[0].getdata()) + list(rgb_split[1].getdata()) + list(rgb_split[2].getdata()), file=out)\n",
    "out.close()"
   ]
  }
 ],
 "metadata": {
  "kernelspec": {
   "display_name": "base",
   "language": "python",
   "name": "python3"
  },
  "language_info": {
   "codemirror_mode": {
    "name": "ipython",
    "version": 3
   },
   "file_extension": ".py",
   "mimetype": "text/x-python",
   "name": "python",
   "nbconvert_exporter": "python",
   "pygments_lexer": "ipython3",
   "version": "3.10.9"
  },
  "orig_nbformat": 4
 },
 "nbformat": 4,
 "nbformat_minor": 2
}
