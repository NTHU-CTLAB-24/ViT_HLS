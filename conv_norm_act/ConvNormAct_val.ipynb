{
 "cells": [
  {
   "cell_type": "code",
   "execution_count": 12,
   "metadata": {},
   "outputs": [
    {
     "name": "stdout",
     "output_type": "stream",
     "text": [
      "Padding:  1\n",
      "Height_out:  4\n",
      "WIDTH_OUT:  4\n",
      "In size:  96\n",
      "Out size:  96\n"
     ]
    }
   ],
   "source": [
    "# parameters\n",
    "import torch\n",
    "import torch.nn as nn\n",
    "import math\n",
    "\n",
    "BATCH_SIZE = 2\n",
    "CHANNEL_IN = 3\n",
    "CHANNEL_OUT = 3\n",
    "HEIGHT_IN = 4\n",
    "WIDTH_IN = 4\n",
    "\n",
    "KERNEL_SIZE = 3\n",
    "STRIDE = 1\n",
    "GROUP = 1\n",
    "PADDING = math.ceil((KERNEL_SIZE - STRIDE) / 2)\n",
    "EPS = 1e-5\n",
    "\n",
    "HEIGHT_OUT = int((HEIGHT_IN - KERNEL_SIZE + 2 * PADDING) / STRIDE + 1)\n",
    "WIDTH_OUT = int((WIDTH_IN - KERNEL_SIZE + 2 * PADDING) / STRIDE + 1)\n",
    "\n",
    "print(\"Padding: \", PADDING)\n",
    "print(\"Height_out: \", HEIGHT_OUT)\n",
    "print(\"WIDTH_OUT: \", WIDTH_OUT)\n",
    "print(\"In size: \", BATCH_SIZE * CHANNEL_IN * HEIGHT_IN * WIDTH_IN)\n",
    "print(\"Out size: \", BATCH_SIZE * CHANNEL_IN * HEIGHT_IN * WIDTH_IN)"
   ]
  },
  {
   "cell_type": "code",
   "execution_count": 13,
   "metadata": {},
   "outputs": [
    {
     "name": "stdout",
     "output_type": "stream",
     "text": [
      "afterConv shape:  torch.Size([2, 3, 4, 4])\n",
      "tensor([[37., 37., 37., 19.],\n",
      "        [64., 64., 64., 28.],\n",
      "        [91., 91., 91., 37.],\n",
      "        [73., 73., 73., 31.]], grad_fn=<SliceBackward0>)\n"
     ]
    }
   ],
   "source": [
    "# convolution\n",
    "x = torch.zeros(BATCH_SIZE, CHANNEL_IN, HEIGHT_IN, WIDTH_IN)\n",
    "\n",
    "for n in range(BATCH_SIZE):\n",
    "    for c in range(CHANNEL_IN):\n",
    "        for h in range(HEIGHT_IN):\n",
    "            for w in range(WIDTH_IN):\n",
    "                x[n, c, h, w] = h + c\n",
    "\n",
    "KERNEL_CHANNEL = int(CHANNEL_IN / GROUP)\n",
    "kernel = torch.zeros((CHANNEL_OUT, KERNEL_CHANNEL, KERNEL_SIZE, KERNEL_SIZE))\n",
    "for k in range(CHANNEL_OUT):\n",
    "    for l in range(KERNEL_CHANNEL):\n",
    "        for i in range(KERNEL_SIZE):\n",
    "            for j in range(KERNEL_SIZE):\n",
    "                kernel[k, l, i, j] = j + k\n",
    "\n",
    "bias = torch.zeros((CHANNEL_OUT,))\n",
    "for c in range(CHANNEL_OUT):\n",
    "    bias[c] = c + 10\n",
    "\n",
    "conv = torch.nn.Conv2d(in_channels=CHANNEL_IN, out_channels=CHANNEL_OUT,\n",
    "                       kernel_size=KERNEL_SIZE, bias=True, stride=STRIDE, padding=PADDING, groups=GROUP)\n",
    "conv.weight.data = kernel\n",
    "conv.bias.data = bias\n",
    "\n",
    "afterConv = conv(x)\n",
    "\n",
    "print(\"afterConv shape: \", afterConv.shape)\n",
    "print(afterConv[0, 0, :, :])"
   ]
  },
  {
   "cell_type": "code",
   "execution_count": 14,
   "metadata": {},
   "outputs": [
    {
     "name": "stdout",
     "output_type": "stream",
     "text": [
      "BN output:\n",
      "torch.Size([2, 3, 4, 4])\n",
      "tensor([[-0.5319, -0.5319, -0.5319, -0.8247],\n",
      "        [-0.0928, -0.0928, -0.0928, -0.6783],\n",
      "        [ 0.3464,  0.3464,  0.3464, -0.5319],\n",
      "        [ 0.0536,  0.0536,  0.0536, -0.6295]], grad_fn=<SliceBackward0>)\n"
     ]
    }
   ],
   "source": [
    "# batch normalization\n",
    "# shape of running_mean and running_var should be same as channel_outs\n",
    "RUNNING_MEAN = [ 82, 227, 444]\n",
    "RUNNING_VAR = [ 945, 3780, 8505]\n",
    "weight = [0.5, 0.5, 0.5]\n",
    "bias = [0.2, 0.2, 0.2]\n",
    "momentum = 0\n",
    "eps = 1e-5\n",
    "\n",
    "batch_norm = nn.BatchNorm2d(num_features=CHANNEL_OUT,momentum=momentum, eps=eps)\n",
    "batch_norm.running_mean = torch.tensor(RUNNING_MEAN, dtype=torch.float)\n",
    "batch_norm.running_var = torch.tensor(RUNNING_VAR, dtype=torch.float)\n",
    "batch_norm.weight.data = torch.tensor(weight, dtype=torch.float)\n",
    "batch_norm.bias.data = torch.tensor(bias, dtype=torch.float)\n",
    "\n",
    "batch_norm.eval()\n",
    "afterNorm = batch_norm(afterConv)\n",
    "\n",
    "print(\"BN output:\")\n",
    "# print(\"running_mean:\", batch_norm.running_mean)\n",
    "# print(\"running_var:\",batch_norm.running_var)\n",
    "# print(\"weight:\",batch_norm.weight)\n",
    "# print(\"bias:\",batch_norm.bias)\n",
    "print(afterNorm.shape)\n",
    "print(afterNorm[0, 0, :, :])"
   ]
  },
  {
   "cell_type": "code",
   "execution_count": 13,
   "metadata": {},
   "outputs": [
    {
     "name": "stdout",
     "output_type": "stream",
     "text": [
      "weight shape:  torch.Size([4, 4, 3])\n",
      "bias shape:  torch.Size([4, 4, 3])\n",
      "LN Out:\n",
      "tensor([[ 0.0000,  1.0000,  2.0000,  3.0000],\n",
      "        [-0.6973,  0.3027,  1.3027,  1.6866],\n",
      "        [-0.4706,  0.5294,  1.5294,  0.6812],\n",
      "        [-1.6300, -0.6300,  0.3700, -0.7862]], grad_fn=<SliceBackward0>)\n"
     ]
    }
   ],
   "source": [
    "normalize_shape = (HEIGHT_OUT, WIDTH_OUT, CHANNEL_OUT)\n",
    "weight = torch.zeros(normalize_shape)\n",
    "bias = torch.zeros(normalize_shape)\n",
    "\n",
    "for h in range(HEIGHT_OUT):\n",
    "    for w in range(WIDTH_OUT):\n",
    "        for c in range(CHANNEL_OUT):\n",
    "            weight[h, w, c] = h\n",
    "            bias[h, w, c] = w\n",
    "            \n",
    "ln_in = afterConv.permute(0, 2, 3, 1)\n",
    "\n",
    "ln_norm = nn.LayerNorm([HEIGHT_OUT, WIDTH_OUT, CHANNEL_OUT], eps=EPS, elementwise_affine=True)\n",
    "ln_norm.weight.data = weight\n",
    "ln_norm.bias.data = bias\n",
    "print(\"weight shape: \", ln_norm.weight.shape)\n",
    "print(\"bias shape: \", ln_norm.bias.shape)\n",
    "\n",
    "ln_out = ln_norm(ln_in)\n",
    "afterNorm = ln_out.permute(0, 3, 1, 2)\n",
    "print(\"LN Out:\")\n",
    "print(afterNorm[0, 0, :, :])"
   ]
  },
  {
   "cell_type": "code",
   "execution_count": 4,
   "metadata": {},
   "outputs": [
    {
     "name": "stdout",
     "output_type": "stream",
     "text": [
      "tensor([[ 1.6639,  1.9566,  1.9566,  1.9566,  1.9566,  1.9566,  0.7855,  0.0000],\n",
      "        [ 3.4205,  3.9084,  3.9084,  3.9084,  3.9084,  3.9084,  1.9566,  0.4928],\n",
      "        [ 5.6162,  6.3482,  6.3482,  6.3482,  6.3482,  6.3482,  3.4205,  1.2247],\n",
      "        [ 7.8120,  8.7879,  8.7879,  8.7879,  8.7879,  8.7879,  4.8843,  1.9566],\n",
      "        [10.0078, 11.2277, 11.2277, 11.2277, 11.2277, 11.2277,  6.3482,  2.6885],\n",
      "        [12.2036, 13.6674, 13.6674, 13.6674, 13.6674, 13.6674,  7.8120,  3.4205],\n",
      "        [10.4470, 11.7156, 11.7156, 11.7156, 11.7156, 11.7156,  6.6409,  2.8349],\n",
      "        [ 8.2512,  9.2759,  9.2759,  9.2759,  9.2759,  9.2759,  5.1771,  2.1030]],\n",
      "       grad_fn=<SliceBackward0>)\n"
     ]
    }
   ],
   "source": [
    "# relu\n",
    "relu = nn.ReLU()\n",
    "out = relu(afterNorm)\n",
    "\n",
    "print(out[0, 0, :, :])"
   ]
  },
  {
   "cell_type": "code",
   "execution_count": 15,
   "metadata": {},
   "outputs": [
    {
     "name": "stdout",
     "output_type": "stream",
     "text": [
      "tensor([[-0.1968, -0.1968, -0.1968, -0.2513],\n",
      "        [-0.0442, -0.0442, -0.0442, -0.2283],\n",
      "        [ 0.2029,  0.2029,  0.2029, -0.1968],\n",
      "        [ 0.0275,  0.0275,  0.0275, -0.2188]], grad_fn=<SliceBackward0>)\n"
     ]
    }
   ],
   "source": [
    "# silu\n",
    "silu = nn.SiLU()\n",
    "out = silu(afterNorm)\n",
    "\n",
    "print(out[0, 0, :, :])"
   ]
  },
  {
   "cell_type": "code",
   "execution_count": 19,
   "metadata": {},
   "outputs": [
    {
     "name": "stdout",
     "output_type": "stream",
     "text": [
      "tensor([[-0.1582, -0.1582, -0.1582, -0.1689],\n",
      "        [-0.0430, -0.0430, -0.0430, -0.1688],\n",
      "        [ 0.2201,  0.2201,  0.2201, -0.1582],\n",
      "        [ 0.0280,  0.0280,  0.0280, -0.1665]], grad_fn=<SliceBackward0>)\n"
     ]
    }
   ],
   "source": [
    "# gelu\n",
    "gelu = nn.functional.gelu\n",
    "out = gelu(afterNorm)\n",
    "\n",
    "print(out[0, 0, :, :])"
   ]
  },
  {
   "cell_type": "code",
   "execution_count": 16,
   "metadata": {},
   "outputs": [
    {
     "name": "stdout",
     "output_type": "stream",
     "text": [
      "tensor([[-0.1968, -0.1968, -0.1968, -0.2513],\n",
      "        [ 0.9558,  0.9558,  0.9558,  0.7717],\n",
      "        [ 2.2029,  2.2029,  2.2029,  1.8032],\n",
      "        [ 3.0275,  3.0275,  3.0275,  2.7812]], grad_fn=<SliceBackward0>)\n"
     ]
    }
   ],
   "source": [
    "# shortcut\n",
    "out = out + x\n",
    "\n",
    "print(out[0, 0, :, :])"
   ]
  },
  {
   "cell_type": "code",
   "execution_count": null,
   "metadata": {},
   "outputs": [],
   "source": []
  }
 ],
 "metadata": {
  "kernelspec": {
   "display_name": "base",
   "language": "python",
   "name": "python3"
  },
  "language_info": {
   "codemirror_mode": {
    "name": "ipython",
    "version": 3
   },
   "file_extension": ".py",
   "mimetype": "text/x-python",
   "name": "python",
   "nbconvert_exporter": "python",
   "pygments_lexer": "ipython3",
   "version": "3.10.10"
  },
  "orig_nbformat": 4
 },
 "nbformat": 4,
 "nbformat_minor": 2
}
