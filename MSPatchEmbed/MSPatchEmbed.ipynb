{
 "cells": [
  {
   "cell_type": "code",
   "execution_count": 6,
   "metadata": {},
   "outputs": [
    {
     "name": "stdout",
     "output_type": "stream",
     "text": [
      "padding:  1\n",
      "after conv\n",
      "tensor([[ 2.4000,  6.3000,  9.9000, 13.5000, 17.1000, 20.7000, 24.3000],\n",
      "        [ 6.3000, 13.5000, 18.9000, 24.3000, 29.7000, 35.1000, 40.5000],\n",
      "        [ 9.9000, 18.9000, 24.3000, 29.7000, 35.1000, 40.5000, 45.9000],\n",
      "        [13.5000, 24.3000, 29.7000, 35.1000, 40.5000, 45.9000, 51.3000],\n",
      "        [17.1000, 29.7000, 35.1000, 40.5000, 45.9000, 51.3000, 56.7000],\n",
      "        [20.7000, 35.1000, 40.5000, 45.9000, 51.3000, 56.7000, 62.1000],\n",
      "        [24.3000, 40.5000, 45.9000, 51.3000, 56.7000, 62.1000, 67.5000]],\n",
      "       grad_fn=<SliceBackward0>)\n",
      "torch.Size([1, 16, 7, 7])\n",
      "tensor([[-0.4039,  0.0167,  0.4049,  0.7931,  1.1813,  1.5695,  1.9577],\n",
      "        [ 0.0167,  0.7931,  1.3754,  1.9577,  2.5400,  3.1223,  3.7046],\n",
      "        [ 0.4049,  1.3754,  1.9577,  2.5400,  3.1223,  3.7046,  4.2869],\n",
      "        [ 0.7931,  1.9577,  2.5400,  3.1223,  3.7046,  4.2869,  4.8692],\n",
      "        [ 1.1813,  2.5400,  3.1223,  3.7046,  4.2869,  4.8692,  5.4515],\n",
      "        [ 1.5695,  3.1223,  3.7046,  4.2869,  4.8692,  5.4515,  6.0338],\n",
      "        [ 1.9577,  3.7046,  4.2869,  4.8692,  5.4515,  6.0338,  6.6160]],\n",
      "       grad_fn=<SliceBackward0>)\n"
     ]
    }
   ],
   "source": [
    "import torch.nn as nn\n",
    "import torch\n",
    "import math\n",
    "\n",
    "batch_size = 1\n",
    "image_size = 14\n",
    "dim_in = 3\n",
    "emb_dim = 16\n",
    "c_group = 1\n",
    "kernel_size = 3\n",
    "stride = 2\n",
    "c_group = 1\n",
    "gamma = 0.5\n",
    "beta = 0.2\n",
    "\n",
    "running_mean = torch.zeros(emb_dim)\n",
    "running_var = torch.zeros(emb_dim)\n",
    "for i in range(emb_dim):\n",
    "    running_mean[i] = 8\n",
    "    running_var[i] = 21.5\n",
    "\n",
    "image = torch.zeros(batch_size, dim_in, image_size, image_size)\n",
    "for b in range(batch_size):\n",
    "    for c in range(dim_in):\n",
    "        for i in range(image_size):\n",
    "            for j in range(image_size):\n",
    "                image[b, c, i, j] = (b+c+i+j) % 256\n",
    "\n",
    "kernel = torch.zeros(emb_dim, dim_in, kernel_size, kernel_size)\n",
    "kernel[:, :, :, :] = 0.1\n",
    "\n",
    "c_group = math.gcd(dim_in, emb_dim) if c_group == 1 else c_group\n",
    "padding = math.ceil(((kernel_size - 1) * 1 + 1 - stride) / 2)\n",
    "print('padding: ', padding)\n",
    "conv = nn.Conv2d(dim_in, emb_dim, kernel_size, stride, padding, dilation=1, groups=c_group, bias=False)\n",
    "conv.weight.data = kernel\n",
    "image = conv(image)\n",
    "print('after conv')\n",
    "print(image[0, 0, :, :])\n",
    "\n",
    "norm = nn.BatchNorm2d(emb_dim, momentum=0)\n",
    "norm.running_mean = running_mean\n",
    "norm.running_var = running_var\n",
    "norm.weight.data.fill_(gamma)\n",
    "norm.bias.data.fill_(beta)\n",
    "norm.eval()\n",
    "result = norm(image)\n",
    "\n",
    "print(result.shape)\n",
    "print(result[0, 0, :, :])"
   ]
  },
  {
   "cell_type": "code",
   "execution_count": null,
   "metadata": {},
   "outputs": [],
   "source": []
  }
 ],
 "metadata": {
  "kernelspec": {
   "display_name": "Python 3",
   "language": "python",
   "name": "python3"
  },
  "language_info": {
   "codemirror_mode": {
    "name": "ipython",
    "version": 3
   },
   "file_extension": ".py",
   "mimetype": "text/x-python",
   "name": "python",
   "nbconvert_exporter": "python",
   "pygments_lexer": "ipython3",
   "version": "3.8.6"
  },
  "orig_nbformat": 4
 },
 "nbformat": 4,
 "nbformat_minor": 2
}
