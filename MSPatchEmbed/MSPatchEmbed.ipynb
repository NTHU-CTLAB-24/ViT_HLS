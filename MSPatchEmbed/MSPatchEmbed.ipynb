{
 "cells": [
  {
   "cell_type": "code",
   "execution_count": 1,
   "metadata": {},
   "outputs": [
    {
     "name": "stdout",
     "output_type": "stream",
     "text": [
      "padding:  1\n",
      "Parameter containing:\n",
      "tensor([1., 1., 1., 1., 1., 1., 1., 1., 1., 1., 1., 1., 1., 1., 1., 1.],\n",
      "       requires_grad=True)\n",
      "Parameter containing:\n",
      "tensor([0., 0., 0., 0., 0., 0., 0., 0., 0., 0., 0., 0., 0., 0., 0., 0.],\n",
      "       requires_grad=True)\n",
      "tensor([[-1.8920, -1.6551, -1.4365, -1.2178, -0.9992, -0.7805, -0.5619],\n",
      "        [-1.6551, -1.2178, -0.8898, -0.5619, -0.2339,  0.0941,  0.4221],\n",
      "        [-1.4365, -0.8898, -0.5619, -0.2339,  0.0941,  0.4221,  0.7500],\n",
      "        [-1.2178, -0.5619, -0.2339,  0.0941,  0.4221,  0.7500,  1.0780],\n",
      "        [-0.9992, -0.2339,  0.0941,  0.4221,  0.7500,  1.0780,  1.4060],\n",
      "        [-0.7805,  0.0941,  0.4221,  0.7500,  1.0780,  1.4060,  1.7340],\n",
      "        [-0.5619,  0.4221,  0.7500,  1.0780,  1.4060,  1.7340,  2.0619]],\n",
      "       grad_fn=<SliceBackward0>)\n"
     ]
    }
   ],
   "source": [
    "import torch.nn as nn\n",
    "import torch\n",
    "import math\n",
    "\n",
    "batch_size = 1\n",
    "image_size = 14\n",
    "dim_in = 3\n",
    "emb_dim = 16\n",
    "c_group = 1\n",
    "kernel_size = 3\n",
    "stride = 2\n",
    "c_group = 1\n",
    "\n",
    "image = torch.zeros(batch_size, dim_in, image_size, image_size)\n",
    "for b in range(batch_size):\n",
    "    for c in range(dim_in):\n",
    "        for i in range(image_size):\n",
    "            for j in range(image_size):\n",
    "                image[b, c, i, j] = (b+c+i+j) % 256\n",
    "\n",
    "kernel = torch.zeros(emb_dim, dim_in, kernel_size, kernel_size)\n",
    "kernel[:, :, :, :] = 0.1\n",
    "\n",
    "c_group = math.gcd(dim_in, emb_dim) if c_group == 1 else c_group\n",
    "padding = math.ceil(((kernel_size - 1) * 1 + 1 - stride) / 2)\n",
    "print('padding: ', padding)\n",
    "conv = nn.Conv2d(dim_in, emb_dim, kernel_size, stride, padding, dilation=1, groups=c_group, bias=False)\n",
    "conv.weight.data = kernel\n",
    "image = conv(image)\n",
    "norm = nn.BatchNorm2d(emb_dim)\n",
    "result = norm(image)\n",
    "\n",
    "gamma = norm.weight\n",
    "beta = norm.bias\n",
    "\n",
    "#print(image.shape)\n",
    "#print(image[0, 0, :, :])\n",
    "\n",
    "print(gamma)\n",
    "print(beta)\n",
    "print(result[0, 0, :, :])"
   ]
  }
 ],
 "metadata": {
  "kernelspec": {
   "display_name": "Python 3",
   "language": "python",
   "name": "python3"
  },
  "language_info": {
   "codemirror_mode": {
    "name": "ipython",
    "version": 3
   },
   "file_extension": ".py",
   "mimetype": "text/x-python",
   "name": "python",
   "nbconvert_exporter": "python",
   "pygments_lexer": "ipython3",
   "version": "3.8.6"
  },
  "orig_nbformat": 4
 },
 "nbformat": 4,
 "nbformat_minor": 2
}
