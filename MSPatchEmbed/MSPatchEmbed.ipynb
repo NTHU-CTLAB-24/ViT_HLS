{
 "cells": [
  {
   "cell_type": "code",
   "execution_count": 1,
   "metadata": {},
   "outputs": [
    {
     "name": "stdout",
     "output_type": "stream",
     "text": [
      "padding:  1\n",
      "Parameter containing:\n",
      "tensor([1., 1., 1., 1., 1., 1., 1., 1., 1., 1., 1., 1., 1., 1., 1., 1.],\n",
      "       requires_grad=True)\n",
      "Parameter containing:\n",
      "tensor([0., 0., 0., 0., 0., 0., 0., 0., 0., 0., 0., 0., 0., 0., 0., 0.],\n",
      "       requires_grad=True)\n",
      "tensor([[-1.7490, -1.7293, -1.7110,  ...,  0.2403,  0.2585,  0.2767],\n",
      "        [-1.7293, -1.6928, -1.6655,  ...,  1.2615,  1.2889,  1.3162],\n",
      "        [-1.7110, -1.6655, -1.6381,  ...,  1.2889,  1.3162,  1.3436],\n",
      "        ...,\n",
      "        [ 0.2403,  1.2615,  1.2889,  ...,  0.7144,  0.7418,  0.7691],\n",
      "        [ 0.2585,  1.2889,  1.3162,  ...,  0.7418,  0.7691,  0.7965],\n",
      "        [ 0.2767,  1.3162,  1.3436,  ...,  0.7691,  0.7965,  0.8238]],\n",
      "       grad_fn=<SliceBackward0>)\n"
     ]
    }
   ],
   "source": [
    "import torch.nn as nn\n",
    "import torch\n",
    "import math\n",
    "\n",
    "batch_size = 1\n",
    "image_size = 224\n",
    "dim_in = 3\n",
    "emb_dim = 16\n",
    "c_group = 1\n",
    "kernel_size = 3\n",
    "stride = 2\n",
    "c_group = 1\n",
    "\n",
    "image = torch.zeros(batch_size, dim_in, image_size, image_size)\n",
    "for b in range(batch_size):\n",
    "    for c in range(dim_in):\n",
    "        for i in range(image_size):\n",
    "            for j in range(image_size):\n",
    "                image[b, c, i, j] = (b+c+i+j) % 256\n",
    "\n",
    "kernel = torch.zeros(emb_dim, dim_in, kernel_size, kernel_size)\n",
    "kernel[:, :, :, :] = 0.1\n",
    "\n",
    "c_group = math.gcd(dim_in, emb_dim) if c_group == 1 else c_group\n",
    "padding = math.ceil(((kernel_size - 1) * 1 + 1 - stride) / 2)\n",
    "print('padding: ', padding)\n",
    "conv = nn.Conv2d(dim_in, emb_dim, kernel_size, stride, padding, dilation=1, groups=c_group, bias=False)\n",
    "conv.weight.data = kernel\n",
    "image = conv(image)\n",
    "norm = nn.BatchNorm2d(emb_dim)\n",
    "result = norm(image)\n",
    "\n",
    "gamma = norm.weight\n",
    "beta = norm.bias\n",
    "\n",
    "#print(image.shape)\n",
    "#print(image[0, 0, :, :])\n",
    "\n",
    "print(gamma)\n",
    "print(beta)\n",
    "print(result[0, 0, :, :])"
   ]
  }
 ],
 "metadata": {
  "kernelspec": {
   "display_name": "Python 3",
   "language": "python",
   "name": "python3"
  },
  "language_info": {
   "codemirror_mode": {
    "name": "ipython",
    "version": 3
   },
   "file_extension": ".py",
   "mimetype": "text/x-python",
   "name": "python",
   "nbconvert_exporter": "python",
   "pygments_lexer": "ipython3",
   "version": "3.8.6"
  },
  "orig_nbformat": 4
 },
 "nbformat": 4,
 "nbformat_minor": 2
}
