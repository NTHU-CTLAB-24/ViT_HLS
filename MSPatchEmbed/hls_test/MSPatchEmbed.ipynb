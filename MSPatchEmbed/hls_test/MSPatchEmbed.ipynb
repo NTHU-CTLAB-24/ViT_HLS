{
 "cells": [
  {
   "cell_type": "code",
   "execution_count": 1,
   "metadata": {},
   "outputs": [
    {
     "name": "stdout",
     "output_type": "stream",
     "text": [
      "this is the image\n",
      "tensor([[0., 0., 0., 0., 0., 0., 0., 0.],\n",
      "        [1., 1., 1., 1., 1., 1., 1., 1.],\n",
      "        [2., 2., 2., 2., 2., 2., 2., 2.],\n",
      "        [3., 3., 3., 3., 3., 3., 3., 3.],\n",
      "        [4., 4., 4., 4., 4., 4., 4., 4.],\n",
      "        [5., 5., 5., 5., 5., 5., 5., 5.],\n",
      "        [6., 6., 6., 6., 6., 6., 6., 6.],\n",
      "        [7., 7., 7., 7., 7., 7., 7., 7.]])\n",
      "padding:  1\n",
      "after conv\n",
      "tensor([[ 1.8100,  2.7100,  2.7100,  2.7100],\n",
      "        [ 5.4100,  8.1100,  8.1100,  8.1100],\n",
      "        [ 9.0100, 13.5100, 13.5100, 13.5100],\n",
      "        [12.6100, 18.9100, 18.9100, 18.9100]], grad_fn=<SliceBackward0>)\n",
      "torch.Size([2, 24, 4, 4])\n",
      "tensor([[-0.4675, -0.3704, -0.3704, -0.3704],\n",
      "        [-0.0793,  0.2119,  0.2119,  0.2119],\n",
      "        [ 0.3089,  0.7942,  0.7942,  0.7942],\n",
      "        [ 0.6971,  1.3765,  1.3765,  1.3765]], grad_fn=<SliceBackward0>)\n"
     ]
    }
   ],
   "source": [
    "import torch.nn as nn\n",
    "import torch\n",
    "import math\n",
    "\n",
    "batch_size = 2\n",
    "image_size = 8\n",
    "dim_in = 3\n",
    "emb_dim = 24\n",
    "c_group = 1\n",
    "kernel_size = 3\n",
    "stride = 2\n",
    "c_group = 1\n",
    "gamma = 0.5\n",
    "beta = 0.2\n",
    "\n",
    "running_mean = torch.zeros(emb_dim)\n",
    "running_var = torch.zeros(emb_dim)\n",
    "for i in range(emb_dim):\n",
    "    running_mean[i] = 8\n",
    "    running_var[i] = 21.5\n",
    "\n",
    "image = torch.zeros(batch_size, dim_in, image_size, image_size)\n",
    "for b in range(batch_size):\n",
    "    for c in range(dim_in):\n",
    "        for i in range(image_size):\n",
    "            for j in range(image_size):\n",
    "                image[b, c, i, j] = i + c\n",
    "\n",
    "print('this is the image')\n",
    "print(image[0, 0, :, :])\n",
    "\n",
    "kernel = torch.zeros(emb_dim, dim_in, kernel_size, kernel_size)\n",
    "kernel[:, :, :, :] = 0.1\n",
    "bias = torch.zeros((emb_dim,))\n",
    "for c in range(emb_dim):\n",
    "    bias[c] = c + 0.01\n",
    "\n",
    "c_group = math.gcd(dim_in, emb_dim) if c_group == -1 else c_group\n",
    "padding = math.ceil(((kernel_size - 1) * 1 + 1 - stride) / 2)\n",
    "print('padding: ', padding)\n",
    "conv = nn.Conv2d(dim_in, emb_dim, kernel_size, stride, padding, dilation=1, groups=c_group, bias=True)\n",
    "conv.weight.data = kernel\n",
    "conv.bias.data = bias\n",
    "image = conv(image)\n",
    "print('after conv')\n",
    "print(image[0, 0, :, :])\n",
    "\n",
    "norm = nn.BatchNorm2d(emb_dim, momentum=0)\n",
    "norm.running_mean = running_mean\n",
    "norm.running_var = running_var\n",
    "norm.weight.data.fill_(gamma)\n",
    "norm.bias.data.fill_(beta)\n",
    "norm.eval()\n",
    "result = norm(image)\n",
    "\n",
    "print(result.shape)\n",
    "print(result[0, 0, :, :])"
   ]
  },
  {
   "cell_type": "code",
   "execution_count": null,
   "metadata": {},
   "outputs": [],
   "source": []
  }
 ],
 "metadata": {
  "kernelspec": {
   "display_name": "Python 3",
   "language": "python",
   "name": "python3"
  },
  "language_info": {
   "codemirror_mode": {
    "name": "ipython",
    "version": 3
   },
   "file_extension": ".py",
   "mimetype": "text/x-python",
   "name": "python",
   "nbconvert_exporter": "python",
   "pygments_lexer": "ipython3",
   "version": "3.10.10"
  },
  "orig_nbformat": 4
 },
 "nbformat": 4,
 "nbformat_minor": 2
}
